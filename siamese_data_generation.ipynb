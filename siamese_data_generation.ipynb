{
 "cells": [
  {
   "cell_type": "code",
   "execution_count": 1,
   "id": "322b01a5-63f4-42f2-bfb7-b34b62a4006d",
   "metadata": {},
   "outputs": [],
   "source": [
    "import os\n",
    "import datetime\n",
    "import numpy as np\n",
    "import pandas as pd\n",
    "import torch"
   ]
  },
  {
   "cell_type": "code",
   "execution_count": 2,
   "id": "843b25ce-0191-45a8-b946-f84e9adcd978",
   "metadata": {},
   "outputs": [],
   "source": [
    "def get_csv_files_from_dir(dir):\n",
    "    files = []\n",
    "    for file in os.listdir(dir):\n",
    "        f = os.path.join(dir, file)\n",
    "        if os.path.isfile(f) and f.endswith('.csv'):\n",
    "            files.append(f)\n",
    "    return files"
   ]
  },
  {
   "cell_type": "code",
   "execution_count": 3,
   "id": "0eb7ac10-74c8-4026-8bab-f1c2e8cea57a",
   "metadata": {},
   "outputs": [],
   "source": [
    "def transform_cp_data(data, error, velocity, acceleration):\n",
    "    data = data.sort_values(by=['rs_id', 'id', 'time']).reset_index(drop=True)\n",
    "    \n",
    "    data = data[\n",
    "        ['rs_id', 'id', 'time', 'x', 'y', 'z'] + \\\n",
    "        (['x_err', 'y_err', 'z_err'] if error else []) + \\\n",
    "        (['v_x_est', 'v_y_est', 'v_z_est'] if velocity else []) + \\\n",
    "        (['a_x_est', 'a_y_est', 'a_z_est'] if acceleration else [])\n",
    "    ]\n",
    "\n",
    "    data = data.dropna()\n",
    "\n",
    "    return data"
   ]
  },
  {
   "cell_type": "code",
   "execution_count": 4,
   "id": "064e04a7-cb4e-413f-9b77-352e5d9971e9",
   "metadata": {},
   "outputs": [],
   "source": [
    "def get_track(data, rs_id, id, t_min=None, t_max=None, drop_ids=True):\n",
    "    track = data[(data['rs_id'] == rs_id) & (data['id'] == id)]\n",
    "    if t_min is not None:\n",
    "        track = track[track['time'] >= t_min]\n",
    "    if t_max is not None:\n",
    "        track = track[track['time'] <= t_max]\n",
    "    if drop_ids:\n",
    "        track = track.drop(columns=['rs_id', 'id'])\n",
    "    return track"
   ]
  },
  {
   "cell_type": "code",
   "execution_count": 5,
   "id": "764a7870-5af0-45d6-80ff-7614dead328f",
   "metadata": {},
   "outputs": [],
   "source": [
    "def get_tracks_timeranges_intersection(track_1, track_2):\n",
    "    t_min_1, t_max_1 = track_1['time'].min(), track_1['time'].max()\n",
    "    t_min_2, t_max_2 = track_2['time'].min(), track_2['time'].max()\n",
    "\n",
    "    t_min, t_max = max(t_min_1, t_min_2), min(t_max_1, t_max_2)\n",
    "    return t_min, t_max"
   ]
  },
  {
   "cell_type": "code",
   "execution_count": 10,
   "id": "cef8ca1d-322c-4952-b8a4-cbbac4fc4936",
   "metadata": {},
   "outputs": [],
   "source": [
    "def generate_siamese_data_from_cp_data_file(file, track_length, error, velocity, acceleration):\n",
    "    row_length = 4 + int(error) * 3 + int(velocity) * 3 + int(acceleration) * 3\n",
    "    x, y = torch.empty((0, 2, track_length, row_length)), torch.empty((0, 1))\n",
    "    \n",
    "    cp_data = pd.read_csv(file)\n",
    "    cp_data = transform_cp_data(cp_data, error, velocity, acceleration)\n",
    "    \n",
    "    track_ids = [(rs_id, id) for rs_id in cp_data['rs_id'].unique() for id in cp_data[cp_data['rs_id'] == rs_id]['id'].unique()]\n",
    "    n = len(track_ids)\n",
    "    \n",
    "    for i in range(n):\n",
    "        for j in range(i + 1, n):\n",
    "            rs_id_1, id_1 = track_ids[i]\n",
    "            rs_id_2, id_2 = track_ids[j]\n",
    "        \n",
    "            if rs_id_1 == rs_id_2:\n",
    "                continue\n",
    "        \n",
    "            track_1 = get_track(cp_data, rs_id_1, id_1)\n",
    "            track_2 = get_track(cp_data, rs_id_2, id_2)\n",
    "\n",
    "            t_min, t_max = get_tracks_timeranges_intersection(track_1, track_2)\n",
    "\n",
    "            track_parts_pairs = torch.empty((0, 2, track_length, row_length))\n",
    "            current_t_max = t_max\n",
    "\n",
    "            while cur_t_max > t_min:\n",
    "                track_1_part = track_1[track_1['time'] <= current_t_max]\n",
    "                track_2_part = track_2[track_2['time'] <= current_t_max]\n",
    "\n",
    "                if len(track_1_part) \n",
    "            \n",
    "            break\n",
    "        break\n",
    "            # x = torch.cat((x, x_cur), 0)\n",
    "            # y = torch.cat((y, y_cur), 0)\n",
    "        \n",
    "    return x, y"
   ]
  },
  {
   "cell_type": "code",
   "execution_count": 7,
   "id": "91f5a4aa-54d0-4c94-af95-dae665418f05",
   "metadata": {},
   "outputs": [],
   "source": [
    "def generate_siamese_data_from_cp_data_dir(dir, track_length, error, velocity, acceleration):\n",
    "    row_length = 4 + int(error) * 3 + int(velocity) * 3 + int(acceleration) * 3\n",
    "    x, y = torch.empty((0, 2, track_length, row_length)), torch.empty((0, 1))\n",
    "    \n",
    "    for file in get_csv_files_from_dir(dir):\n",
    "        print(f'- file {file}')\n",
    "        x_cur, y_cur = generate_siamese_data_from_cp_data_file(file, track_length, error, velocity, acceleration)\n",
    "        # print(f'({x_cur.shape[0]} rows)')\n",
    "        \n",
    "        x = torch.cat((x, x_cur), 0)\n",
    "        y = torch.cat((y, y_cur), 0)\n",
    "\n",
    "    return x, y"
   ]
  },
  {
   "cell_type": "code",
   "execution_count": 8,
   "id": "d32487e3-4262-43b3-82dc-61985be0918b",
   "metadata": {},
   "outputs": [],
   "source": [
    "cp_data_dir      = 'CP_data'\n",
    "siamese_data_dir = 'siamese_data'\n",
    "\n",
    "track_length     = 32\n",
    "error            = False\n",
    "velocity         = False\n",
    "acceleration     = False"
   ]
  },
  {
   "cell_type": "code",
   "execution_count": 12,
   "id": "6071cbbb-30fb-40d5-ac31-db36b97ac19e",
   "metadata": {},
   "outputs": [
    {
     "name": "stdout",
     "output_type": "stream",
     "text": [
      "Processing CP_data/train\n",
      "- file CP_data/train/data_1403232125.csv\n",
      "Tracks rs0id0 and rs1id0, shapes - (712, 4) and (1416, 4), time range - (626810, 873140)\n",
      "Tracks rs0id0 and rs2id1, shapes - (712, 4) and (1409, 4), time range - (626810, 872000)\n",
      "Tracks rs0id0 and rs3id2, shapes - (712, 4) and (1406, 4), time range - (626810, 872150)\n",
      "Tracks rs0id0 and rs4id3, shapes - (712, 4) and (1397, 4), time range - (626810, 871180)\n",
      "Tracks rs0id1 and rs1id0, shapes - (711, 4) and (1416, 4), time range - (627310, 873140)\n",
      "Tracks rs0id1 and rs2id1, shapes - (711, 4) and (1409, 4), time range - (627310, 872000)\n",
      "Tracks rs0id1 and rs3id2, shapes - (711, 4) and (1406, 4), time range - (627310, 872150)\n",
      "Tracks rs0id1 and rs4id3, shapes - (711, 4) and (1397, 4), time range - (627310, 871180)\n",
      "Tracks rs0id2 and rs1id0, shapes - (710, 4) and (1416, 4), time range - (627810, 873140)\n",
      "Tracks rs0id2 and rs2id1, shapes - (710, 4) and (1409, 4), time range - (627810, 872000)\n",
      "Tracks rs0id2 and rs3id2, shapes - (710, 4) and (1406, 4), time range - (627810, 872150)\n",
      "Tracks rs0id2 and rs4id3, shapes - (710, 4) and (1397, 4), time range - (627810, 871180)\n",
      "Tracks rs0id3 and rs1id0, shapes - (708, 4) and (1416, 4), time range - (628810, 873140)\n",
      "Tracks rs0id3 and rs2id1, shapes - (708, 4) and (1409, 4), time range - (628810, 872000)\n",
      "Tracks rs0id3 and rs3id2, shapes - (708, 4) and (1406, 4), time range - (628810, 872150)\n",
      "Tracks rs0id3 and rs4id3, shapes - (708, 4) and (1397, 4), time range - (628810, 871180)\n",
      "Tracks rs1id0 and rs2id1, shapes - (1416, 4) and (1409, 4), time range - (128000, 872000)\n",
      "Tracks rs1id0 and rs3id2, shapes - (1416, 4) and (1406, 4), time range - (128150, 872150)\n",
      "Tracks rs1id0 and rs4id3, shapes - (1416, 4) and (1397, 4), time range - (128680, 871180)\n",
      "Tracks rs2id1 and rs3id2, shapes - (1409, 4) and (1406, 4), time range - (128150, 872000)\n",
      "Tracks rs2id1 and rs4id3, shapes - (1409, 4) and (1397, 4), time range - (128680, 871180)\n",
      "Tracks rs3id2 and rs4id3, shapes - (1406, 4) and (1397, 4), time range - (128680, 871180)\n",
      "\n",
      "Processing CP_data/test\n",
      "\n"
     ]
    }
   ],
   "source": [
    "for data_usage_aim in ('train', 'test'):\n",
    "    print(f'Processing {cp_data_dir}/{data_usage_aim}')\n",
    "    \n",
    "    x, y = generate_siamese_data_from_cp_data_dir(f'{cp_data_dir}/{data_usage_aim}', track_length, error, velocity, acceleration)\n",
    "    \n",
    "    # if x.shape[0] != 0:\n",
    "        # print(f'Saving to {siamese_data_dir}/{data_usage_aim} ({x.shape[0]} rows)')\n",
    "        # torch.save(x, f'{siamese_data_dir}/{data_usage_aim}/x.pt')\n",
    "        # torch.save(y, f'{siamese_data_dir}/{data_usage_aim}/y.pt')\n",
    "    # else:\n",
    "        # print(f'Nothing to save to {siamese_data_dir}/{data_usage_aim}')\n",
    "    \n",
    "    print()"
   ]
  },
  {
   "cell_type": "code",
   "execution_count": null,
   "id": "859a26b4-59cb-404f-bbd9-ab15ddab0211",
   "metadata": {},
   "outputs": [],
   "source": []
  }
 ],
 "metadata": {
  "kernelspec": {
   "display_name": "Python 3 (ipykernel)",
   "language": "python",
   "name": "python3"
  },
  "language_info": {
   "codemirror_mode": {
    "name": "ipython",
    "version": 3
   },
   "file_extension": ".py",
   "mimetype": "text/x-python",
   "name": "python",
   "nbconvert_exporter": "python",
   "pygments_lexer": "ipython3",
   "version": "3.9.6"
  }
 },
 "nbformat": 4,
 "nbformat_minor": 5
}
