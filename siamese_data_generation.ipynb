{
 "cells": [
  {
   "cell_type": "code",
   "execution_count": 1,
   "id": "322b01a5-63f4-42f2-bfb7-b34b62a4006d",
   "metadata": {},
   "outputs": [],
   "source": [
    "import os\n",
    "import datetime\n",
    "import numpy as np\n",
    "import pandas as pd\n",
    "import torch"
   ]
  },
  {
   "cell_type": "code",
   "execution_count": 2,
   "id": "843b25ce-0191-45a8-b946-f84e9adcd978",
   "metadata": {},
   "outputs": [],
   "source": [
    "def get_csv_files_from_dir(dir):\n",
    "    files = []\n",
    "    for file in os.listdir(dir):\n",
    "        f = os.path.join(dir, file)\n",
    "        if os.path.isfile(f) and f.endswith('.csv'):\n",
    "            files.append(f)\n",
    "    return files"
   ]
  },
  {
   "cell_type": "code",
   "execution_count": 3,
   "id": "0eb7ac10-74c8-4026-8bab-f1c2e8cea57a",
   "metadata": {},
   "outputs": [],
   "source": [
    "def transform_cp_data(data, error, velocity, acceleration):\n",
    "    data = data.sort_values(by=['rs_id', 'id', 'time']).reset_index(drop=True)\n",
    "    \n",
    "    data = data[\n",
    "        ['rs_id', 'id', 'time', 'x', 'y', 'z'] + \\\n",
    "        (['x_err', 'y_err', 'z_err'] if error else []) + \\\n",
    "        (['v_x_est', 'v_y_est', 'v_z_est'] if velocity else []) + \\\n",
    "        (['a_x_est', 'a_y_est', 'a_z_est'] if acceleration else [])\n",
    "    ]\n",
    "\n",
    "    data = data.dropna()\n",
    "\n",
    "    return data"
   ]
  },
  {
   "cell_type": "code",
   "execution_count": 4,
   "id": "064e04a7-cb4e-413f-9b77-352e5d9971e9",
   "metadata": {},
   "outputs": [],
   "source": [
    "def get_track(data, rs_id, id, t_min=None, t_max=None, drop_ids=True):\n",
    "    track = data[(data['rs_id'] == rs_id) & (data['id'] == id)]\n",
    "    if t_min is not None:\n",
    "        track = track[track['time'] >= t_min]\n",
    "    if t_max is not None:\n",
    "        track = track[track['time'] <= t_max]\n",
    "    if drop_ids:\n",
    "        track = track.drop(columns=['rs_id', 'id'])\n",
    "    return track"
   ]
  },
  {
   "cell_type": "code",
   "execution_count": 5,
   "id": "764a7870-5af0-45d6-80ff-7614dead328f",
   "metadata": {},
   "outputs": [],
   "source": [
    "def get_tracks_timeranges_intersection(track_1, track_2):\n",
    "    t_min_1, t_max_1 = track_1['time'].min(), track_1['time'].max()\n",
    "    t_min_2, t_max_2 = track_2['time'].min(), track_2['time'].max()\n",
    "\n",
    "    t_min, t_max = max(t_min_1, t_min_2), min(t_max_1, t_max_2)\n",
    "    return t_min, t_max"
   ]
  },
  {
   "cell_type": "code",
   "execution_count": 6,
   "id": "3aaeba99-c2cf-49a8-8902-95de0f8287ef",
   "metadata": {},
   "outputs": [],
   "source": [
    "def extend_track_with_zeros(track, track_length, zeros_placement='start'):\n",
    "    if track.size(0) == 0 or track_length == 0:\n",
    "        return None\n",
    "    if track.size(0) >= track_length:\n",
    "        return track[:track_length, :]\n",
    "    \n",
    "    zeros = torch.zeros(track_length - track.size(0), track.size(1))\n",
    "    \n",
    "    if zeros_placement == 'start':\n",
    "        return torch.cat((zeros, track), 0)\n",
    "    elif zeros_placement == 'end':\n",
    "        return torch.cat((track, zeros), 0)\n",
    "\n",
    "    return None"
   ]
  },
  {
   "cell_type": "code",
   "execution_count": 7,
   "id": "474882bf-183a-4a97-ab79-bfc62240349c",
   "metadata": {},
   "outputs": [],
   "source": [
    "def extend_track_with_linear_interpolation(track, track_length):\n",
    "    if track.size(0) < 2 or track_length == 0:\n",
    "        return None\n",
    "    if track.size(0) >= track_length:\n",
    "        return track[:track_length, :]\n",
    "\n",
    "    while track.size(0) != track_length:\n",
    "        diffs = track[:, 0].diff(1, 0)\n",
    "\n",
    "        point_1_idx = torch.argmax(diffs).item()\n",
    "        point_2_idx = point_1_idx + 1\n",
    "\n",
    "        new_point = torch.lerp(track[point_1_idx, :], track[point_2_idx, :], 0.5).unsqueeze(0)\n",
    "\n",
    "        track = torch.cat((track[:point_1_idx+1, :], new_point, track[point_2_idx:, :]), 0)\n",
    "\n",
    "    return track"
   ]
  },
  {
   "cell_type": "code",
   "execution_count": 8,
   "id": "e621619b-19f8-464c-8579-a81ce0774855",
   "metadata": {},
   "outputs": [],
   "source": [
    "def generate_siamese_data_from_cp_tracks(track_1, track_2, track_length, drop_last=False):\n",
    "    if track_1.shape[1] != track_2.shape[1]:\n",
    "        raise RuntimeError(f'Tracks must have the same number of columns, got {track_1.shape[1]} and {track_2.shape[1]} instead.')\n",
    "    \n",
    "    x = torch.empty((0, 2, track_1.shape[1], track_length))\n",
    "    \n",
    "    t_min, t_max = get_tracks_timeranges_intersection(track_1, track_2)\n",
    "    \n",
    "    current_t_max = t_max\n",
    "\n",
    "    break_flag = False\n",
    "    while current_t_max > t_min:\n",
    "        # crop tracks to current max time\n",
    "        track_1 = track_1[track_1['time'] < current_t_max]\n",
    "        track_2 = track_2[track_2['time'] < current_t_max]\n",
    "\n",
    "        # get last parts of tracks\n",
    "        track_1_part = track_1.tail(track_length)\n",
    "        track_2_part = track_2.tail(track_length)\n",
    "\n",
    "        # remove last parts of tracks from original tracks\n",
    "        track_1 = track_1.drop(track_1.tail(track_length).index)\n",
    "        track_2 = track_2.drop(track_2.tail(track_length).index)\n",
    "\n",
    "        # transform to tensors\n",
    "        track_1_part_tensor = torch.tensor(track_1_part.values, dtype=torch.float32)\n",
    "        track_2_part_tensor = torch.tensor(track_2_part.values, dtype=torch.float32)\n",
    " \n",
    "        if track_1_part_tensor.size(0) < track_length:\n",
    "            if drop_last:\n",
    "                break\n",
    "            # track_1_part_tensor = extend_track_with_zeros(track_1_part_tensor, track_length)\n",
    "            track_1_part_tensor = extend_track_with_linear_interpolation(track_1_part_tensor, track_length)\n",
    "            if track_1_part_tensor is None:\n",
    "                break\n",
    "            break_flag = True\n",
    "\n",
    "        if track_2_part_tensor.size(0) < track_length:\n",
    "            if drop_last:\n",
    "                break\n",
    "            # track_2_part_tensor = extend_track_with_zeros(track_2_part_tensor, track_length)\n",
    "            track_2_part_tensor = extend_track_with_linear_interpolation(track_2_part_tensor, track_length)\n",
    "            if track_2_part_tensor is None:\n",
    "                break\n",
    "            break_flag = True\n",
    "\n",
    "        track_1_part_tensor = track_1_part_tensor.transpose(0, 1).unsqueeze(0)\n",
    "        track_2_part_tensor = track_2_part_tensor.transpose(0, 1).unsqueeze(0)\n",
    "\n",
    "        x = torch.cat((x, torch.cat((track_1_part_tensor, track_2_part_tensor), 0).unsqueeze(0)))\n",
    "        \n",
    "        if break_flag:\n",
    "            break\n",
    "\n",
    "        current_t_max = min(track_1['time'].max(), track_2['time'].max())\n",
    "\n",
    "    return x"
   ]
  },
  {
   "cell_type": "code",
   "execution_count": 18,
   "id": "cef8ca1d-322c-4952-b8a4-cbbac4fc4936",
   "metadata": {},
   "outputs": [],
   "source": [
    "def generate_siamese_data_from_cp_data_file(file, track_length, error, velocity, acceleration):\n",
    "    row_length = 4 + int(error) * 3 + int(velocity) * 3 + int(acceleration) * 3\n",
    "    x, y = torch.empty((0, 2, row_length, track_length)), torch.empty((0, 1))\n",
    "    \n",
    "    cp_data = pd.read_csv(file)\n",
    "    cp_data = transform_cp_data(cp_data, error, velocity, acceleration)\n",
    "    \n",
    "    track_ids = [(rs_id, id) for rs_id in cp_data['rs_id'].unique() for id in cp_data[cp_data['rs_id'] == rs_id]['id'].unique()]\n",
    "    n = len(track_ids)\n",
    "    \n",
    "    for i in range(n):\n",
    "        for j in range(i + 1, n):\n",
    "            rs_id_1, id_1 = track_ids[i]\n",
    "            rs_id_2, id_2 = track_ids[j]\n",
    "        \n",
    "            if rs_id_1 == rs_id_2:\n",
    "                continue\n",
    "\n",
    "            track_1 = get_track(cp_data, rs_id_1, id_1)\n",
    "            track_2 = get_track(cp_data, rs_id_2, id_2)\n",
    "\n",
    "            x_cur = generate_siamese_data_from_cp_tracks(track_1, track_2, track_length, drop_last=False)\n",
    "            y_cur = torch.zeros(x_cur.size(0), 1) if id_1 == id_2 else torch.ones(x_cur.size(0), 1)\n",
    "\n",
    "            x = torch.cat((x, x_cur), 0)\n",
    "            y = torch.cat((y, y_cur), 0)\n",
    "    \n",
    "    return x, y"
   ]
  },
  {
   "cell_type": "code",
   "execution_count": 10,
   "id": "91f5a4aa-54d0-4c94-af95-dae665418f05",
   "metadata": {},
   "outputs": [],
   "source": [
    "def generate_siamese_data_from_cp_data_dir(dir, track_length, error, velocity, acceleration):\n",
    "    row_length = 4 + int(error) * 3 + int(velocity) * 3 + int(acceleration) * 3\n",
    "    x, y = torch.empty((0, 2, row_length, track_length)), torch.empty((0, 1))\n",
    "    \n",
    "    for file in get_csv_files_from_dir(dir):\n",
    "        x_cur, y_cur = generate_siamese_data_from_cp_data_file(file, track_length, error, velocity, acceleration)\n",
    "        print(f'- file {file} ({x_cur.size(0)} rows)')\n",
    "        \n",
    "        x = torch.cat((x, x_cur), 0)\n",
    "        y = torch.cat((y, y_cur), 0)\n",
    "\n",
    "    return x, y"
   ]
  },
  {
   "cell_type": "code",
   "execution_count": 11,
   "id": "d32487e3-4262-43b3-82dc-61985be0918b",
   "metadata": {},
   "outputs": [],
   "source": [
    "cp_data_dir      = 'CP_data'\n",
    "siamese_data_dir = 'siamese_data'\n",
    "\n",
    "timestamp        = False\n",
    "\n",
    "track_length     = 32\n",
    "error            = False\n",
    "velocity         = False\n",
    "acceleration     = False"
   ]
  },
  {
   "cell_type": "code",
   "execution_count": 19,
   "id": "6071cbbb-30fb-40d5-ac31-db36b97ac19e",
   "metadata": {
    "scrolled": true
   },
   "outputs": [
    {
     "name": "stdout",
     "output_type": "stream",
     "text": [
      "CP_data/train\n",
      "- file CP_data/train/data_2503174619.csv (864 rows)\n",
      "- file CP_data/train/data_2503174751.csv (864 rows)\n",
      "- file CP_data/train/data_2503182011.csv (864 rows)\n",
      "- file CP_data/train/data_2503182401.csv (860 rows)\n",
      "- file CP_data/train/data_2503183053.csv (856 rows)\n",
      "- file CP_data/train/data_2503181446.csv (860 rows)\n",
      "- file CP_data/train/data_2503182749.csv (860 rows)\n",
      "- file CP_data/train/data_2503181533.csv (864 rows)\n",
      "- file CP_data/train/data_2503175918.csv (860 rows)\n",
      "- file CP_data/train/data_2503175313.csv (860 rows)\n",
      "- file CP_data/train/data_2503181052.csv (860 rows)\n",
      "- file CP_data/train/data_2503182229.csv (864 rows)\n",
      "- file CP_data/train/data_2503180833.csv (860 rows)\n",
      "- file CP_data/train/data_2503180614.csv (864 rows)\n",
      "- file CP_data/train/data_2503180004.csv (860 rows)\n",
      "- file CP_data/train/data_2503182835.csv (864 rows)\n",
      "- file CP_data/train/data_2503181619.csv (864 rows)\n",
      "- file CP_data/train/data_2503174447.csv (864 rows)\n",
      "- file CP_data/train/data_2503180920.csv (864 rows)\n",
      "- file CP_data/train/data_2503174533.csv (860 rows)\n",
      "- file CP_data/train/data_2503181752.csv (860 rows)\n",
      "- file CP_data/train/data_2503175832.csv (860 rows)\n",
      "- file CP_data/train/data_2503175359.csv (864 rows)\n",
      "- file CP_data/train/data_2503182921.csv (860 rows)\n",
      "- file CP_data/train/data_2503181838.csv (860 rows)\n",
      "- file CP_data/train/data_2503180701.csv (864 rows)\n",
      "- file CP_data/train/data_2503181225.csv (860 rows)\n",
      "- file CP_data/train/data_2503182704.csv (860 rows)\n",
      "- file CP_data/train/data_2503182315.csv (864 rows)\n",
      "- file CP_data/train/data_2503180527.csv (856 rows)\n",
      "- file CP_data/train/data_2503180137.csv (864 rows)\n",
      "- file CP_data/train/data_2503180309.csv (860 rows)\n",
      "- file CP_data/train/data_2503175141.csv (860 rows)\n",
      "- file CP_data/train/data_2503175746.csv (864 rows)\n",
      "- file CP_data/train/data_2503175008.csv (864 rows)\n",
      "- file CP_data/train/data_2503183007.csv (864 rows)\n",
      "- file CP_data/train/data_2503174705.csv (864 rows)\n",
      "- file CP_data/train/data_2503174922.csv (864 rows)\n",
      "- file CP_data/train/data_2503180441.csv (860 rows)\n",
      "- file CP_data/train/data_2503180050.csv (864 rows)\n",
      "- file CP_data/train/data_2503182447.csv (864 rows)\n",
      "- file CP_data/train/data_2503182057.csv (860 rows)\n",
      "- file CP_data/train/data_2503181006.csv (864 rows)\n",
      "- file CP_data/train/data_2503182533.csv (860 rows)\n",
      "- file CP_data/train/data_2503175227.csv (860 rows)\n",
      "- file CP_data/train/data_2503181359.csv (864 rows)\n",
      "- file CP_data/train/data_2503174836.csv (860 rows)\n",
      "- file CP_data/train/data_2503180747.csv (860 rows)\n",
      "- file CP_data/train/data_2503180223.csv (860 rows)\n",
      "- file CP_data/train/data_2503175531.csv (860 rows)\n",
      "- file CP_data/train/data_2503175445.csv (864 rows)\n",
      "- file CP_data/train/data_2503180355.csv (860 rows)\n",
      "- file CP_data/train/data_2503181705.csv (860 rows)\n",
      "- file CP_data/train/data_2503175054.csv (864 rows)\n",
      "- file CP_data/train/data_2503182143.csv (864 rows)\n",
      "- file CP_data/train/data_2503182618.csv (860 rows)\n",
      "- file CP_data/train/data_2503181311.csv (860 rows)\n",
      "- file CP_data/train/data_2503181139.csv (860 rows)\n",
      "- file CP_data/train/data_2503181925.csv (864 rows)\n",
      "- file CP_data/train/data_2503174402.csv (860 rows)\n",
      "Saving to siamese_data/train (51700 rows).\n",
      "\n",
      "CP_data/test\n",
      "- file CP_data/test/data_2503183125.csv (144 rows)\n",
      "- file CP_data/test/data_2503183133.csv (144 rows)\n",
      "- file CP_data/test/data_2503183321.csv (144 rows)\n",
      "- file CP_data/test/data_2503183257.csv (144 rows)\n",
      "- file CP_data/test/data_2503183337.csv (144 rows)\n",
      "- file CP_data/test/data_2503183109.csv (144 rows)\n",
      "- file CP_data/test/data_2503183141.csv (144 rows)\n",
      "- file CP_data/test/data_2503183157.csv (144 rows)\n",
      "- file CP_data/test/data_2503183221.csv (144 rows)\n",
      "- file CP_data/test/data_2503184225.csv (144 rows)\n",
      "- file CP_data/test/data_2503183205.csv (144 rows)\n",
      "- file CP_data/test/data_2503183213.csv (144 rows)\n",
      "- file CP_data/test/data_2503184233.csv (144 rows)\n",
      "- file CP_data/test/data_2503183149.csv (144 rows)\n",
      "- file CP_data/test/data_2503183313.csv (144 rows)\n",
      "- file CP_data/test/data_2503183305.csv (144 rows)\n",
      "- file CP_data/test/data_2503183329.csv (144 rows)\n",
      "- file CP_data/test/data_2503183117.csv (144 rows)\n",
      "- file CP_data/test/data_2503184241.csv (144 rows)\n",
      "- file CP_data/test/data_2503183101.csv (144 rows)\n",
      "Saving to siamese_data/test (2880 rows).\n",
      "\n"
     ]
    }
   ],
   "source": [
    "# for data_usage_aim in ('test',):\n",
    "# for data_usage_aim in ('train',):\n",
    "for data_usage_aim in ('train', 'test'):\n",
    "    print(f'{cp_data_dir}/{data_usage_aim}')\n",
    "    x, y = generate_siamese_data_from_cp_data_dir(f'{cp_data_dir}/{data_usage_aim}', track_length, error, velocity, acceleration)\n",
    "\n",
    "    if x.size(0) != 0:\n",
    "        print(f'Saving to {siamese_data_dir}/{data_usage_aim} ({x.size(0)} rows).')\n",
    "\n",
    "        if timestamp:\n",
    "            ts = datetime.datetime.now().strftime('%d%m%H%M%S')\n",
    "            torch.save(x, f'{siamese_data_dir}/{data_usage_aim}/x_{ts}.pt')\n",
    "            torch.save(y, f'{siamese_data_dir}/{data_usage_aim}/y_{ts}.pt')\n",
    "        else:\n",
    "            torch.save(x, f'{siamese_data_dir}/{data_usage_aim}/x.pt')\n",
    "            torch.save(y, f'{siamese_data_dir}/{data_usage_aim}/y.pt')\n",
    "    else:\n",
    "        print(f'Nothing to save.')\n",
    "\n",
    "    print()"
   ]
  },
  {
   "cell_type": "code",
   "execution_count": null,
   "id": "e5efc7e6-2f71-4c3a-909a-15e0d4a9d6df",
   "metadata": {},
   "outputs": [],
   "source": []
  },
  {
   "cell_type": "code",
   "execution_count": 13,
   "id": "63331520-c2d1-4afd-a777-d742b4cc41dd",
   "metadata": {},
   "outputs": [],
   "source": [
    "import matplotlib.pyplot as plt"
   ]
  },
  {
   "cell_type": "code",
   "execution_count": 14,
   "id": "2e707938-0fa8-406a-ad18-a9f86ebd1808",
   "metadata": {},
   "outputs": [],
   "source": [
    "N = 16\n",
    "n = 8"
   ]
  },
  {
   "cell_type": "code",
   "execution_count": 15,
   "id": "725be9e6-4df2-483a-a353-4e04a570b03d",
   "metadata": {},
   "outputs": [],
   "source": [
    "tx = torch.sort(torch.randn(n, 2), 0)[0]"
   ]
  },
  {
   "cell_type": "code",
   "execution_count": 16,
   "id": "abfcf24a-89e0-46e3-b774-c703ebf5c013",
   "metadata": {},
   "outputs": [],
   "source": [
    "tx_ext = extend_track_with_linear_interpolation(tx, N)"
   ]
  },
  {
   "cell_type": "code",
   "execution_count": 17,
   "id": "54f8825d-8edc-44fa-a7fb-936c8d250b22",
   "metadata": {},
   "outputs": [
    {
     "data": {
      "text/plain": [
       "[<matplotlib.lines.Line2D at 0x17d0b67c0>]"
      ]
     },
     "execution_count": 17,
     "metadata": {},
     "output_type": "execute_result"
    },
    {
     "data": {
      "image/png": "[encoded data removed]",
      "text/plain": [
       "<Figure size 640x480 with 1 Axes>"
      ]
     },
     "metadata": {},
     "output_type": "display_data"
    }
   ],
   "source": [
    "plt.plot(tx[:, 0], tx[:, 1], marker='o', linewidth=6, markersize=10)\n",
    "plt.plot(tx_ext[:, 0], tx_ext[:, 1], marker='o', linewidth=2, markersize=6)"
   ]
  },
  {
   "cell_type": "code",
   "execution_count": null,
   "id": "6ceff0dd-f030-4cb4-83f1-acab8f35a2f8",
   "metadata": {},
   "outputs": [],
   "source": []
  }
 ],
 "metadata": {
  "kernelspec": {
   "display_name": "Python 3 (ipykernel)",
   "language": "python",
   "name": "python3"
  },
  "language_info": {
   "codemirror_mode": {
    "name": "ipython",
    "version": 3
   },
   "file_extension": ".py",
   "mimetype": "text/x-python",
   "name": "python",
   "nbconvert_exporter": "python",
   "pygments_lexer": "ipython3",
   "version": "3.9.6"
  }
 },
 "nbformat": 4,
 "nbformat_minor": 5
}
