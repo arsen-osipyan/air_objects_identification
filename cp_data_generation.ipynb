{
 "cells": [
  {
   "cell_type": "code",
   "execution_count": 1,
   "id": "322b01a5-63f4-42f2-bfb7-b34b62a4006d",
   "metadata": {},
   "outputs": [],
   "source": [
    "import datetime\n",
    "import numpy as np\n",
    "import pandas as pd\n",
    "\n",
    "from tqdm import tqdm, trange\n",
    "\n",
    "from airsim.collections import AirObject, AirEnv, RadarSystem, ControlPoint, Supervisor\n",
    "from airsim.time import Time"
   ]
  },
  {
   "cell_type": "code",
   "execution_count": 2,
   "id": "b3834058-1d0f-4908-af93-e7c5d2fcc18b",
   "metadata": {},
   "outputs": [],
   "source": [
    "def save_cp_data(cp_data, cp_data_dir, data_usage_aim):\n",
    "    timestamp = datetime.datetime.now().strftime('%d%m%H%M%S')\n",
    "    filename = f'{cp_data_dir}/{data_usage_aim}/data_{timestamp}.csv'\n",
    "    cp_data.to_csv(filename)\n",
    "    return filename"
   ]
  },
  {
   "cell_type": "code",
   "execution_count": 3,
   "id": "53a9328f-0878-4a79-a73b-edeadf53dd55",
   "metadata": {},
   "outputs": [],
   "source": [
    "def generate_linear_tracks(n_tracks, axis='xyz'):\n",
    "    tracks = []\n",
    "    \n",
    "    Rx_0 = np.random.uniform(-1.0e+6, 1.0e+6, size=n_tracks)\n",
    "    Ry_0 = np.random.uniform(-1.0e+6, 1.0e+6, size=n_tracks)\n",
    "    Rz_0 = np.random.uniform(1.0e+4 - 1.0e+2, 1.0e+4 + 1.0e+2, size=n_tracks)\n",
    "\n",
    "    Vx = np.random.uniform(-0.4, 0.4, size=n_tracks) if 'x' in axis else [0.0] * n_tracks\n",
    "    Vy = np.random.uniform(-0.4, 0.4, size=n_tracks) if 'y' in axis else [0.0] * n_tracks\n",
    "    Vz = np.random.uniform(-0.01, 0.01, size=n_tracks) if 'z' in axis else [0.0] * n_tracks\n",
    "\n",
    "    for i in range(n_tracks):\n",
    "        Rx_0_i = Rx_0[i]\n",
    "        Ry_0_i = Ry_0[i]\n",
    "        Rz_0_i = Rz_0[i]\n",
    "        Vx_i = Vx[i]\n",
    "        Vy_i = Vy[i]\n",
    "        Vz_i = Vz[i]\n",
    "        \n",
    "        tracks.append(\n",
    "            lambda t, Rx_0_i=Rx_0_i, Ry_0_i=Ry_0_i, Rz_0_i=Rz_0_i, Vx_i=Vx_i, Vy_i=Vy_i, Vz_i=Vz_i: np.array([Rx_0_i + Vx_i * t, Ry_0_i + Vy_i * t, Rz_0_i + Vz_i * t])\n",
    "        )\n",
    "\n",
    "    return tracks"
   ]
  },
  {
   "cell_type": "code",
   "execution_count": 4,
   "id": "79ead565-484a-4118-a46a-31a38131a9a4",
   "metadata": {},
   "outputs": [],
   "source": [
    "def generate_cp_data(t_max_seconds, axis='xyz'):\n",
    "    t_min = 0\n",
    "    t_max = t_max_seconds * 1000\n",
    "    dt = 50\n",
    "\n",
    "    supervisor = Supervisor(\n",
    "        air_env=AirEnv(air_objects=[\n",
    "            AirObject(track=ao_track) for ao_track in generate_linear_tracks(2, axis=axis)\n",
    "        ]),\n",
    "        radar_systems=[\n",
    "            RadarSystem(position=np.array([0, 0, 0]),\n",
    "                        detection_radius=1e+308,\n",
    "                        error=1.0,\n",
    "                        detection_fault_probability=0.01,\n",
    "                        detection_period=250,\n",
    "                        detection_delay=np.random.randint(0, 250//dt) * dt),\n",
    "            RadarSystem(position=np.array([0, 0, 0]),\n",
    "                        detection_radius=1e+308,\n",
    "                        error=1.0,\n",
    "                        detection_fault_probability=0.01,\n",
    "                        detection_period=250,\n",
    "                        detection_delay=np.random.randint(0, 250//dt) * dt),\n",
    "        ]\n",
    "    )\n",
    "\n",
    "    supervisor.run(t_min, t_max, dt)\n",
    "\n",
    "    return supervisor.get_data()"
   ]
  },
  {
   "cell_type": "markdown",
   "id": "82172e71-e31d-4a62-9f99-8d41ab84a0d0",
   "metadata": {},
   "source": [
    "## Данные для обучения"
   ]
  },
  {
   "cell_type": "code",
   "execution_count": 5,
   "id": "b9b71658-4749-4af9-a3db-d85da4346ef0",
   "metadata": {},
   "outputs": [],
   "source": [
    "cp_data_dir = 'CP_data' \n",
    "data_usage_aim = 'train'"
   ]
  },
  {
   "cell_type": "code",
   "execution_count": 6,
   "id": "d6bfa617-4ca3-40bb-af94-447e8c5a3d2e",
   "metadata": {},
   "outputs": [
    {
     "name": "stdout",
     "output_type": "stream",
     "text": [
      "0.37260973794388874\n",
      "-0.3178962417969315\n"
     ]
    },
    {
     "name": "stderr",
     "output_type": "stream",
     "text": [
      "Running system: 100%|██████████████████████████████████████████████| 21/21 [00:00<00:00, 546.39it/s]\n"
     ]
    },
    {
     "name": "stdout",
     "output_type": "stream",
     "text": [
      "0.28237881263483267\n",
      "0.06654907327700094\n"
     ]
    },
    {
     "name": "stderr",
     "output_type": "stream",
     "text": [
      "Running system: 100%|██████████████████████████████████████████████| 21/21 [00:00<00:00, 694.28it/s]\n"
     ]
    },
    {
     "name": "stdout",
     "output_type": "stream",
     "text": [
      "-0.18998458364525492\n",
      "0.12726477775814127\n"
     ]
    },
    {
     "name": "stderr",
     "output_type": "stream",
     "text": [
      "Running system: 100%|██████████████████████████████████████████████| 21/21 [00:00<00:00, 614.10it/s]\n"
     ]
    },
    {
     "name": "stdout",
     "output_type": "stream",
     "text": [
      "0.013920465963446316\n",
      "-0.22452832141360102\n"
     ]
    },
    {
     "name": "stderr",
     "output_type": "stream",
     "text": [
      "Running system: 100%|██████████████████████████████████████████████| 21/21 [00:00<00:00, 675.50it/s]\n"
     ]
    },
    {
     "name": "stdout",
     "output_type": "stream",
     "text": [
      "-0.16477970456935928\n",
      "-0.06337729847756562\n"
     ]
    },
    {
     "name": "stderr",
     "output_type": "stream",
     "text": [
      "Running system: 100%|██████████████████████████████████████████████| 21/21 [00:00<00:00, 630.03it/s]\n"
     ]
    },
    {
     "name": "stdout",
     "output_type": "stream",
     "text": [
      "0.026003232849390934\n",
      "-0.2527650689425647\n"
     ]
    },
    {
     "name": "stderr",
     "output_type": "stream",
     "text": [
      "Running system: 100%|██████████████████████████████████████████████| 21/21 [00:00<00:00, 635.86it/s]\n"
     ]
    },
    {
     "name": "stdout",
     "output_type": "stream",
     "text": [
      "-0.3195766976299214\n",
      "0.17648230701953527\n"
     ]
    },
    {
     "name": "stderr",
     "output_type": "stream",
     "text": [
      "Running system: 100%|██████████████████████████████████████████████| 21/21 [00:00<00:00, 714.43it/s]\n"
     ]
    },
    {
     "name": "stdout",
     "output_type": "stream",
     "text": [
      "-0.09592312410562887\n",
      "0.011236762271459089\n"
     ]
    },
    {
     "name": "stderr",
     "output_type": "stream",
     "text": [
      "Running system: 100%|██████████████████████████████████████████████| 21/21 [00:00<00:00, 732.01it/s]\n"
     ]
    },
    {
     "name": "stdout",
     "output_type": "stream",
     "text": [
      "0.3276206493312276\n",
      "-0.2248066974785295\n"
     ]
    },
    {
     "name": "stderr",
     "output_type": "stream",
     "text": [
      "Running system: 100%|██████████████████████████████████████████████| 21/21 [00:00<00:00, 712.08it/s]\n"
     ]
    },
    {
     "name": "stdout",
     "output_type": "stream",
     "text": [
      "-0.33759302203895464\n",
      "-0.008767345474812616\n"
     ]
    },
    {
     "name": "stderr",
     "output_type": "stream",
     "text": [
      "Running system: 100%|██████████████████████████████████████████████| 21/21 [00:00<00:00, 633.54it/s]\n"
     ]
    },
    {
     "name": "stdout",
     "output_type": "stream",
     "text": [
      "-0.1908044319945481\n",
      "-0.329865231330833\n"
     ]
    },
    {
     "name": "stderr",
     "output_type": "stream",
     "text": [
      "Running system: 100%|██████████████████████████████████████████████| 21/21 [00:00<00:00, 697.32it/s]\n"
     ]
    },
    {
     "name": "stdout",
     "output_type": "stream",
     "text": [
      "0.08747053230829166\n",
      "-0.32181042884637323\n"
     ]
    },
    {
     "name": "stderr",
     "output_type": "stream",
     "text": [
      "Running system: 100%|██████████████████████████████████████████████| 21/21 [00:00<00:00, 720.96it/s]\n"
     ]
    },
    {
     "name": "stdout",
     "output_type": "stream",
     "text": [
      "-0.012312651394181473\n",
      "0.22967478457298796\n"
     ]
    },
    {
     "name": "stderr",
     "output_type": "stream",
     "text": [
      "Running system: 100%|██████████████████████████████████████████████| 21/21 [00:00<00:00, 725.02it/s]\n"
     ]
    },
    {
     "name": "stdout",
     "output_type": "stream",
     "text": [
      "0.20566054166296743\n",
      "0.36133244858327107\n"
     ]
    },
    {
     "name": "stderr",
     "output_type": "stream",
     "text": [
      "Running system: 100%|██████████████████████████████████████████████| 21/21 [00:00<00:00, 649.03it/s]\n"
     ]
    },
    {
     "name": "stdout",
     "output_type": "stream",
     "text": [
      "0.03718056934724717\n",
      "0.28055871027225365\n"
     ]
    },
    {
     "name": "stderr",
     "output_type": "stream",
     "text": [
      "Running system: 100%|██████████████████████████████████████████████| 21/21 [00:00<00:00, 745.18it/s]\n"
     ]
    },
    {
     "name": "stdout",
     "output_type": "stream",
     "text": [
      "-0.2068081244176593\n",
      "0.12464604109735611\n"
     ]
    },
    {
     "name": "stderr",
     "output_type": "stream",
     "text": [
      "Running system: 100%|██████████████████████████████████████████████| 21/21 [00:00<00:00, 671.45it/s]\n"
     ]
    },
    {
     "name": "stdout",
     "output_type": "stream",
     "text": [
      "-0.325981907033401\n",
      "-0.06486954430007891\n"
     ]
    },
    {
     "name": "stderr",
     "output_type": "stream",
     "text": [
      "Running system: 100%|██████████████████████████████████████████████| 21/21 [00:00<00:00, 662.57it/s]\n"
     ]
    },
    {
     "name": "stdout",
     "output_type": "stream",
     "text": [
      "0.26980614097730626\n",
      "-0.2634776474653829\n"
     ]
    },
    {
     "name": "stderr",
     "output_type": "stream",
     "text": [
      "Running system: 100%|██████████████████████████████████████████████| 21/21 [00:00<00:00, 736.19it/s]\n"
     ]
    },
    {
     "name": "stdout",
     "output_type": "stream",
     "text": [
      "-0.20634254634783344\n",
      "0.011146210448250593\n"
     ]
    },
    {
     "name": "stderr",
     "output_type": "stream",
     "text": [
      "Running system: 100%|██████████████████████████████████████████████| 21/21 [00:00<00:00, 663.72it/s]\n"
     ]
    },
    {
     "ename": "KeyboardInterrupt",
     "evalue": "",
     "output_type": "error",
     "traceback": [
      "\u001b[0;31m---------------------------------------------------------------------------\u001b[0m",
      "\u001b[0;31mKeyboardInterrupt\u001b[0m                         Traceback (most recent call last)",
      "\u001b[0;32m/var/folders/gv/4nk2tvfd4tjdhkr_hnd4tsz00000gn/T/ipykernel_48552/1357260628.py\u001b[0m in \u001b[0;36m?\u001b[0;34m()\u001b[0m\n\u001b[1;32m      3\u001b[0m \u001b[0mn_generations\u001b[0m \u001b[0;34m=\u001b[0m \u001b[0;36m60\u001b[0m\u001b[0;34m\u001b[0m\u001b[0;34m\u001b[0m\u001b[0m\n\u001b[0;32m----> 4\u001b[0;31m \u001b[0;34m\u001b[0m\u001b[0m\n\u001b[0m\u001b[1;32m      5\u001b[0m \u001b[0;32mfor\u001b[0m \u001b[0mi\u001b[0m \u001b[0;32min\u001b[0m \u001b[0mrange\u001b[0m\u001b[0;34m(\u001b[0m\u001b[0mn_generations\u001b[0m\u001b[0;34m)\u001b[0m\u001b[0;34m:\u001b[0m\u001b[0;34m\u001b[0m\u001b[0;34m\u001b[0m\u001b[0m\n\u001b[1;32m      6\u001b[0m     \u001b[0mcp_data\u001b[0m \u001b[0;34m=\u001b[0m \u001b[0mgenerate_cp_data\u001b[0m\u001b[0;34m(\u001b[0m\u001b[0mt_max_seconds\u001b[0m\u001b[0;34m=\u001b[0m\u001b[0;36m1\u001b[0m\u001b[0;34m,\u001b[0m \u001b[0maxis\u001b[0m\u001b[0;34m=\u001b[0m\u001b[0;34m'x'\u001b[0m\u001b[0;34m)\u001b[0m\u001b[0;34m\u001b[0m\u001b[0;34m\u001b[0m\u001b[0m\n\u001b[1;32m      7\u001b[0m     \u001b[0;31m# filename = save_cp_data(cp_data, cp_data_dir, data_usage_aim)\u001b[0m\u001b[0;34m\u001b[0m\u001b[0;34m\u001b[0m\u001b[0;34m\u001b[0m\u001b[0m\n",
      "\u001b[0;32m/var/folders/gv/4nk2tvfd4tjdhkr_hnd4tsz00000gn/T/ipykernel_48552/2711374532.py\u001b[0m in \u001b[0;36m?\u001b[0;34m(t_max_seconds, axis)\u001b[0m\n\u001b[1;32m     22\u001b[0m                         detection_delay=np.random.randint(0, 250//dt) * dt),\n\u001b[1;32m     23\u001b[0m         ]\n\u001b[1;32m     24\u001b[0m     )\n\u001b[1;32m     25\u001b[0m \u001b[0;34m\u001b[0m\u001b[0m\n\u001b[0;32m---> 26\u001b[0;31m     \u001b[0msupervisor\u001b[0m\u001b[0;34m.\u001b[0m\u001b[0mrun\u001b[0m\u001b[0;34m(\u001b[0m\u001b[0mt_min\u001b[0m\u001b[0;34m,\u001b[0m \u001b[0mt_max\u001b[0m\u001b[0;34m,\u001b[0m \u001b[0mdt\u001b[0m\u001b[0;34m)\u001b[0m\u001b[0;34m\u001b[0m\u001b[0;34m\u001b[0m\u001b[0m\n\u001b[0m\u001b[1;32m     27\u001b[0m \u001b[0;34m\u001b[0m\u001b[0m\n\u001b[1;32m     28\u001b[0m     \u001b[0;32mreturn\u001b[0m \u001b[0msupervisor\u001b[0m\u001b[0;34m.\u001b[0m\u001b[0mget_data\u001b[0m\u001b[0;34m(\u001b[0m\u001b[0;34m)\u001b[0m\u001b[0;34m\u001b[0m\u001b[0;34m\u001b[0m\u001b[0m\n",
      "\u001b[0;32m~/Desktop/Diploma/air_objects_identification/airsim/supervisor.py\u001b[0m in \u001b[0;36m?\u001b[0;34m(self, t_min, t_max, dt)\u001b[0m\n\u001b[1;32m     35\u001b[0m                 \u001b[0mself\u001b[0m\u001b[0;34m.\u001b[0m\u001b[0m__control_point\u001b[0m\u001b[0;34m.\u001b[0m\u001b[0mtrigger\u001b[0m\u001b[0;34m(\u001b[0m\u001b[0;34m)\u001b[0m\u001b[0;34m\u001b[0m\u001b[0;34m\u001b[0m\u001b[0m\n\u001b[1;32m     36\u001b[0m \u001b[0;34m\u001b[0m\u001b[0m\n\u001b[1;32m     37\u001b[0m             \u001b[0mt\u001b[0m\u001b[0;34m.\u001b[0m\u001b[0mstep\u001b[0m\u001b[0;34m(\u001b[0m\u001b[0mdt\u001b[0m\u001b[0;34m)\u001b[0m\u001b[0;34m\u001b[0m\u001b[0;34m\u001b[0m\u001b[0m\n\u001b[1;32m     38\u001b[0m \u001b[0;34m\u001b[0m\u001b[0m\n\u001b[0;32m---> 39\u001b[0;31m         \u001b[0mself\u001b[0m\u001b[0;34m.\u001b[0m\u001b[0m__control_point\u001b[0m\u001b[0;34m.\u001b[0m\u001b[0mupload_data\u001b[0m\u001b[0;34m(\u001b[0m\u001b[0;34m)\u001b[0m\u001b[0;34m\u001b[0m\u001b[0;34m\u001b[0m\u001b[0m\n\u001b[0m",
      "\u001b[0;32m~/Desktop/Diploma/air_objects_identification/airsim/controlpoint.py\u001b[0m in \u001b[0;36m?\u001b[0;34m(self)\u001b[0m\n\u001b[1;32m     53\u001b[0m     \u001b[0;32mdef\u001b[0m \u001b[0mupload_data\u001b[0m\u001b[0;34m(\u001b[0m\u001b[0mself\u001b[0m\u001b[0;34m)\u001b[0m \u001b[0;34m->\u001b[0m \u001b[0mNoReturn\u001b[0m\u001b[0;34m:\u001b[0m\u001b[0;34m\u001b[0m\u001b[0;34m\u001b[0m\u001b[0m\n\u001b[1;32m     54\u001b[0m         \u001b[0mcurrent_time\u001b[0m \u001b[0;34m=\u001b[0m \u001b[0mself\u001b[0m\u001b[0;34m.\u001b[0m\u001b[0mtime\u001b[0m\u001b[0;34m.\u001b[0m\u001b[0mget\u001b[0m\u001b[0;34m(\u001b[0m\u001b[0;34m)\u001b[0m\u001b[0;34m\u001b[0m\u001b[0;34m\u001b[0m\u001b[0m\n\u001b[1;32m     55\u001b[0m \u001b[0;34m\u001b[0m\u001b[0m\n\u001b[1;32m     56\u001b[0m         \u001b[0;32mfor\u001b[0m \u001b[0mk\u001b[0m\u001b[0;34m,\u001b[0m \u001b[0mv\u001b[0m \u001b[0;32min\u001b[0m \u001b[0mself\u001b[0m\u001b[0;34m.\u001b[0m\u001b[0m__radar_systems\u001b[0m\u001b[0;34m.\u001b[0m\u001b[0mitems\u001b[0m\u001b[0;34m(\u001b[0m\u001b[0;34m)\u001b[0m\u001b[0;34m:\u001b[0m\u001b[0;34m\u001b[0m\u001b[0;34m\u001b[0m\u001b[0m\n\u001b[0;32m---> 57\u001b[0;31m             \u001b[0mv\u001b[0m\u001b[0;34m.\u001b[0m\u001b[0mestimate_velocity\u001b[0m\u001b[0;34m(\u001b[0m\u001b[0;34m)\u001b[0m\u001b[0;34m\u001b[0m\u001b[0;34m\u001b[0m\u001b[0m\n\u001b[0m\u001b[1;32m     58\u001b[0m             \u001b[0mv\u001b[0m\u001b[0;34m.\u001b[0m\u001b[0mestimate_acceleration\u001b[0m\u001b[0;34m(\u001b[0m\u001b[0;34m)\u001b[0m\u001b[0;34m\u001b[0m\u001b[0;34m\u001b[0m\u001b[0m\n\u001b[1;32m     59\u001b[0m             \u001b[0mrs_data\u001b[0m \u001b[0;34m=\u001b[0m \u001b[0mv\u001b[0m\u001b[0;34m.\u001b[0m\u001b[0mget_data\u001b[0m\u001b[0;34m(\u001b[0m\u001b[0;34m)\u001b[0m\u001b[0;34m\u001b[0m\u001b[0;34m\u001b[0m\u001b[0m\n\u001b[1;32m     60\u001b[0m             \u001b[0;32mif\u001b[0m \u001b[0mself\u001b[0m\u001b[0;34m.\u001b[0m\u001b[0m__last_load_time\u001b[0m \u001b[0;32mis\u001b[0m \u001b[0;32mnot\u001b[0m \u001b[0;32mNone\u001b[0m\u001b[0;34m:\u001b[0m\u001b[0;34m\u001b[0m\u001b[0;34m\u001b[0m\u001b[0m\n",
      "\u001b[0;32m~/Desktop/Diploma/air_objects_identification/airsim/radarsystem.py\u001b[0m in \u001b[0;36m?\u001b[0;34m(self)\u001b[0m\n\u001b[1;32m     82\u001b[0m     \u001b[0;32mdef\u001b[0m \u001b[0mestimate_velocity\u001b[0m\u001b[0;34m(\u001b[0m\u001b[0mself\u001b[0m\u001b[0;34m)\u001b[0m \u001b[0;34m->\u001b[0m \u001b[0mNoReturn\u001b[0m\u001b[0;34m:\u001b[0m\u001b[0;34m\u001b[0m\u001b[0;34m\u001b[0m\u001b[0m\n\u001b[1;32m     83\u001b[0m         \u001b[0;32mfor\u001b[0m \u001b[0mao_id\u001b[0m \u001b[0;32min\u001b[0m \u001b[0mlist\u001b[0m\u001b[0;34m(\u001b[0m\u001b[0mset\u001b[0m\u001b[0;34m(\u001b[0m\u001b[0mself\u001b[0m\u001b[0;34m.\u001b[0m\u001b[0m__data\u001b[0m\u001b[0;34m[\u001b[0m\u001b[0;34m'id'\u001b[0m\u001b[0;34m]\u001b[0m\u001b[0;34m)\u001b[0m\u001b[0;34m)\u001b[0m\u001b[0;34m:\u001b[0m\u001b[0;34m\u001b[0m\u001b[0;34m\u001b[0m\u001b[0m\n\u001b[1;32m     84\u001b[0m             \u001b[0;32mfor\u001b[0m \u001b[0maxis\u001b[0m \u001b[0;32min\u001b[0m \u001b[0;34m(\u001b[0m\u001b[0;34m'x'\u001b[0m\u001b[0;34m,\u001b[0m \u001b[0;34m'y'\u001b[0m\u001b[0;34m,\u001b[0m \u001b[0;34m'z'\u001b[0m\u001b[0;34m)\u001b[0m\u001b[0;34m:\u001b[0m\u001b[0;34m\u001b[0m\u001b[0;34m\u001b[0m\u001b[0m\n\u001b[0;32m---> 85\u001b[0;31m                 \u001b[0maxis_diff\u001b[0m \u001b[0;34m=\u001b[0m \u001b[0mself\u001b[0m\u001b[0;34m.\u001b[0m\u001b[0m__data\u001b[0m\u001b[0;34m.\u001b[0m\u001b[0mloc\u001b[0m\u001b[0;34m[\u001b[0m\u001b[0mself\u001b[0m\u001b[0;34m.\u001b[0m\u001b[0m__data\u001b[0m\u001b[0;34m[\u001b[0m\u001b[0;34m'id'\u001b[0m\u001b[0;34m]\u001b[0m \u001b[0;34m==\u001b[0m \u001b[0mao_id\u001b[0m\u001b[0;34m]\u001b[0m\u001b[0;34m.\u001b[0m\u001b[0msort_values\u001b[0m\u001b[0;34m(\u001b[0m\u001b[0;34m'time'\u001b[0m\u001b[0;34m)\u001b[0m\u001b[0;34m[\u001b[0m\u001b[0maxis\u001b[0m\u001b[0;34m]\u001b[0m\u001b[0;34m.\u001b[0m\u001b[0mdiff\u001b[0m\u001b[0;34m(\u001b[0m\u001b[0;34m)\u001b[0m\u001b[0;34m\u001b[0m\u001b[0;34m\u001b[0m\u001b[0m\n\u001b[0m\u001b[1;32m     86\u001b[0m                 \u001b[0mt_diff\u001b[0m \u001b[0;34m=\u001b[0m \u001b[0mself\u001b[0m\u001b[0;34m.\u001b[0m\u001b[0m__data\u001b[0m\u001b[0;34m.\u001b[0m\u001b[0mloc\u001b[0m\u001b[0;34m[\u001b[0m\u001b[0mself\u001b[0m\u001b[0;34m.\u001b[0m\u001b[0m__data\u001b[0m\u001b[0;34m[\u001b[0m\u001b[0;34m'id'\u001b[0m\u001b[0;34m]\u001b[0m \u001b[0;34m==\u001b[0m \u001b[0mao_id\u001b[0m\u001b[0;34m]\u001b[0m\u001b[0;34m.\u001b[0m\u001b[0msort_values\u001b[0m\u001b[0;34m(\u001b[0m\u001b[0;34m'time'\u001b[0m\u001b[0;34m)\u001b[0m\u001b[0;34m[\u001b[0m\u001b[0;34m'time'\u001b[0m\u001b[0;34m]\u001b[0m\u001b[0;34m.\u001b[0m\u001b[0mdiff\u001b[0m\u001b[0;34m(\u001b[0m\u001b[0;34m)\u001b[0m\u001b[0;34m\u001b[0m\u001b[0;34m\u001b[0m\u001b[0m\n\u001b[1;32m     87\u001b[0m                 \u001b[0mself\u001b[0m\u001b[0;34m.\u001b[0m\u001b[0m__data\u001b[0m\u001b[0;34m.\u001b[0m\u001b[0mloc\u001b[0m\u001b[0;34m[\u001b[0m\u001b[0mself\u001b[0m\u001b[0;34m.\u001b[0m\u001b[0m__data\u001b[0m\u001b[0;34m[\u001b[0m\u001b[0;34m'id'\u001b[0m\u001b[0;34m]\u001b[0m \u001b[0;34m==\u001b[0m \u001b[0mao_id\u001b[0m\u001b[0;34m,\u001b[0m \u001b[0;34mf'v_{axis}_est'\u001b[0m\u001b[0;34m]\u001b[0m \u001b[0;34m=\u001b[0m \u001b[0maxis_diff\u001b[0m \u001b[0;34m/\u001b[0m \u001b[0mt_diff\u001b[0m\u001b[0;34m\u001b[0m\u001b[0;34m\u001b[0m\u001b[0m\n",
      "\u001b[0;32m~/Desktop/Diploma/air_objects_identification/venv/lib/python3.9/site-packages/pandas/core/series.py\u001b[0m in \u001b[0;36m?\u001b[0;34m(self, periods)\u001b[0m\n\u001b[1;32m   3107\u001b[0m         \u001b[0;34m-\u001b[0m\u001b[0;34m-\u001b[0m\u001b[0;34m-\u001b[0m\u001b[0;34m-\u001b[0m\u001b[0;34m-\u001b[0m\u001b[0;34m-\u001b[0m\u001b[0;34m-\u001b[0m\u001b[0;34m-\u001b[0m\u001b[0;34m\u001b[0m\u001b[0;34m\u001b[0m\u001b[0m\n\u001b[1;32m   3108\u001b[0m         \u001b[0;34m{\u001b[0m\u001b[0mexamples\u001b[0m\u001b[0;34m}\u001b[0m\u001b[0;34m\u001b[0m\u001b[0;34m\u001b[0m\u001b[0m\n\u001b[1;32m   3109\u001b[0m         \"\"\"\n\u001b[1;32m   3110\u001b[0m         \u001b[0mresult\u001b[0m \u001b[0;34m=\u001b[0m \u001b[0malgorithms\u001b[0m\u001b[0;34m.\u001b[0m\u001b[0mdiff\u001b[0m\u001b[0;34m(\u001b[0m\u001b[0mself\u001b[0m\u001b[0;34m.\u001b[0m\u001b[0m_values\u001b[0m\u001b[0;34m,\u001b[0m \u001b[0mperiods\u001b[0m\u001b[0;34m)\u001b[0m\u001b[0;34m\u001b[0m\u001b[0;34m\u001b[0m\u001b[0m\n\u001b[0;32m-> 3111\u001b[0;31m         return self._constructor(result, index=self.index, copy=False).__finalize__(\n\u001b[0m\u001b[1;32m   3112\u001b[0m             \u001b[0mself\u001b[0m\u001b[0;34m,\u001b[0m \u001b[0mmethod\u001b[0m\u001b[0;34m=\u001b[0m\u001b[0;34m\"diff\"\u001b[0m\u001b[0;34m\u001b[0m\u001b[0;34m\u001b[0m\u001b[0m\n\u001b[1;32m   3113\u001b[0m         )\n",
      "\u001b[0;32m~/Desktop/Diploma/air_objects_identification/venv/lib/python3.9/site-packages/pandas/core/series.py\u001b[0m in \u001b[0;36m?\u001b[0;34m(self, data, index, dtype, name, copy, fastpath)\u001b[0m\n\u001b[1;32m    588\u001b[0m             \u001b[0;32melif\u001b[0m \u001b[0mmanager\u001b[0m \u001b[0;34m==\u001b[0m \u001b[0;34m\"array\"\u001b[0m\u001b[0;34m:\u001b[0m\u001b[0;34m\u001b[0m\u001b[0;34m\u001b[0m\u001b[0m\n\u001b[1;32m    589\u001b[0m                 \u001b[0mdata\u001b[0m \u001b[0;34m=\u001b[0m \u001b[0mSingleArrayManager\u001b[0m\u001b[0;34m.\u001b[0m\u001b[0mfrom_array\u001b[0m\u001b[0;34m(\u001b[0m\u001b[0mdata\u001b[0m\u001b[0;34m,\u001b[0m \u001b[0mindex\u001b[0m\u001b[0;34m)\u001b[0m\u001b[0;34m\u001b[0m\u001b[0;34m\u001b[0m\u001b[0m\n\u001b[1;32m    590\u001b[0m \u001b[0;34m\u001b[0m\u001b[0m\n\u001b[1;32m    591\u001b[0m         \u001b[0mNDFrame\u001b[0m\u001b[0;34m.\u001b[0m\u001b[0m__init__\u001b[0m\u001b[0;34m(\u001b[0m\u001b[0mself\u001b[0m\u001b[0;34m,\u001b[0m \u001b[0mdata\u001b[0m\u001b[0;34m)\u001b[0m\u001b[0;34m\u001b[0m\u001b[0;34m\u001b[0m\u001b[0m\n\u001b[0;32m--> 592\u001b[0;31m         \u001b[0mself\u001b[0m\u001b[0;34m.\u001b[0m\u001b[0mname\u001b[0m \u001b[0;34m=\u001b[0m \u001b[0mname\u001b[0m\u001b[0;34m\u001b[0m\u001b[0;34m\u001b[0m\u001b[0m\n\u001b[0m\u001b[1;32m    593\u001b[0m         \u001b[0mself\u001b[0m\u001b[0;34m.\u001b[0m\u001b[0m_set_axis\u001b[0m\u001b[0;34m(\u001b[0m\u001b[0;36m0\u001b[0m\u001b[0;34m,\u001b[0m \u001b[0mindex\u001b[0m\u001b[0;34m)\u001b[0m\u001b[0;34m\u001b[0m\u001b[0;34m\u001b[0m\u001b[0m\n\u001b[1;32m    594\u001b[0m \u001b[0;34m\u001b[0m\u001b[0m\n\u001b[1;32m    595\u001b[0m         \u001b[0;32mif\u001b[0m \u001b[0moriginal_dtype\u001b[0m \u001b[0;32mis\u001b[0m \u001b[0;32mNone\u001b[0m \u001b[0;32mand\u001b[0m \u001b[0mis_pandas_object\u001b[0m \u001b[0;32mand\u001b[0m \u001b[0mdata_dtype\u001b[0m \u001b[0;34m==\u001b[0m \u001b[0mnp\u001b[0m\u001b[0;34m.\u001b[0m\u001b[0mobject_\u001b[0m\u001b[0;34m:\u001b[0m\u001b[0;34m\u001b[0m\u001b[0;34m\u001b[0m\u001b[0m\n",
      "\u001b[0;32m~/Desktop/Diploma/air_objects_identification/venv/lib/python3.9/site-packages/pandas/core/generic.py\u001b[0m in \u001b[0;36m?\u001b[0;34m(self, name, value)\u001b[0m\n\u001b[1;32m   6305\u001b[0m         \u001b[0;32mtry\u001b[0m\u001b[0;34m:\u001b[0m\u001b[0;34m\u001b[0m\u001b[0;34m\u001b[0m\u001b[0m\n\u001b[1;32m   6306\u001b[0m             \u001b[0mobject\u001b[0m\u001b[0;34m.\u001b[0m\u001b[0m__getattribute__\u001b[0m\u001b[0;34m(\u001b[0m\u001b[0mself\u001b[0m\u001b[0;34m,\u001b[0m \u001b[0mname\u001b[0m\u001b[0;34m)\u001b[0m\u001b[0;34m\u001b[0m\u001b[0;34m\u001b[0m\u001b[0m\n\u001b[1;32m   6307\u001b[0m             \u001b[0;32mreturn\u001b[0m \u001b[0mobject\u001b[0m\u001b[0;34m.\u001b[0m\u001b[0m__setattr__\u001b[0m\u001b[0;34m(\u001b[0m\u001b[0mself\u001b[0m\u001b[0;34m,\u001b[0m \u001b[0mname\u001b[0m\u001b[0;34m,\u001b[0m \u001b[0mvalue\u001b[0m\u001b[0;34m)\u001b[0m\u001b[0;34m\u001b[0m\u001b[0;34m\u001b[0m\u001b[0m\n\u001b[1;32m   6308\u001b[0m         \u001b[0;32mexcept\u001b[0m \u001b[0mAttributeError\u001b[0m\u001b[0;34m:\u001b[0m\u001b[0;34m\u001b[0m\u001b[0;34m\u001b[0m\u001b[0m\n\u001b[0;32m-> 6309\u001b[0;31m             \u001b[0;32mpass\u001b[0m\u001b[0;34m\u001b[0m\u001b[0;34m\u001b[0m\u001b[0m\n\u001b[0m\u001b[1;32m   6310\u001b[0m \u001b[0;34m\u001b[0m\u001b[0m\n\u001b[1;32m   6311\u001b[0m         \u001b[0;31m# if this fails, go on to more involved attribute setting\u001b[0m\u001b[0;34m\u001b[0m\u001b[0;34m\u001b[0m\u001b[0;34m\u001b[0m\u001b[0m\n\u001b[1;32m   6312\u001b[0m         \u001b[0;31m# (note that this matches __getattr__, above).\u001b[0m\u001b[0;34m\u001b[0m\u001b[0;34m\u001b[0m\u001b[0;34m\u001b[0m\u001b[0m\n",
      "\u001b[0;32m~/Desktop/Diploma/air_objects_identification/venv/lib/python3.9/site-packages/pandas/core/series.py\u001b[0m in \u001b[0;36m?\u001b[0;34m(self)\u001b[0m\n\u001b[1;32m    773\u001b[0m         \u001b[0;36m2\u001b[0m            \u001b[0;36m5\u001b[0m             \u001b[0;36m6\u001b[0m\u001b[0;34m\u001b[0m\u001b[0;34m\u001b[0m\u001b[0m\n\u001b[1;32m    774\u001b[0m         \u001b[0;34m>>\u001b[0m\u001b[0;34m>\u001b[0m \u001b[0mdf\u001b[0m\u001b[0;34m[\u001b[0m\u001b[0;34m\"Even Numbers\"\u001b[0m\u001b[0;34m]\u001b[0m\u001b[0;34m.\u001b[0m\u001b[0mname\u001b[0m\u001b[0;34m\u001b[0m\u001b[0;34m\u001b[0m\u001b[0m\n\u001b[1;32m    775\u001b[0m         \u001b[0;34m'Even Numbers'\u001b[0m\u001b[0;34m\u001b[0m\u001b[0;34m\u001b[0m\u001b[0m\n\u001b[1;32m    776\u001b[0m         \"\"\"\n\u001b[0;32m--> 777\u001b[0;31m         \u001b[0;32mreturn\u001b[0m \u001b[0mself\u001b[0m\u001b[0;34m.\u001b[0m\u001b[0m_name\u001b[0m\u001b[0;34m\u001b[0m\u001b[0;34m\u001b[0m\u001b[0m\n\u001b[0m",
      "\u001b[0;32m~/Desktop/Diploma/air_objects_identification/venv/lib/python3.9/site-packages/pandas/core/generic.py\u001b[0m in \u001b[0;36m?\u001b[0;34m(self, name)\u001b[0m\n\u001b[0;32m-> 6278\u001b[0;31m     \u001b[0;34m@\u001b[0m\u001b[0mfinal\u001b[0m\u001b[0;34m\u001b[0m\u001b[0;34m\u001b[0m\u001b[0m\n\u001b[0m\u001b[1;32m   6279\u001b[0m     \u001b[0;32mdef\u001b[0m \u001b[0m__getattr__\u001b[0m\u001b[0;34m(\u001b[0m\u001b[0mself\u001b[0m\u001b[0;34m,\u001b[0m \u001b[0mname\u001b[0m\u001b[0;34m:\u001b[0m \u001b[0mstr\u001b[0m\u001b[0;34m)\u001b[0m\u001b[0;34m:\u001b[0m\u001b[0;34m\u001b[0m\u001b[0;34m\u001b[0m\u001b[0m\n\u001b[1;32m   6280\u001b[0m         \"\"\"\n\u001b[1;32m   6281\u001b[0m         \u001b[0mAfter\u001b[0m \u001b[0mregular\u001b[0m \u001b[0mattribute\u001b[0m \u001b[0maccess\u001b[0m\u001b[0;34m,\u001b[0m \u001b[0;32mtry\u001b[0m \u001b[0mlooking\u001b[0m \u001b[0mup\u001b[0m \u001b[0mthe\u001b[0m \u001b[0mname\u001b[0m\u001b[0;34m\u001b[0m\u001b[0;34m\u001b[0m\u001b[0m\n",
      "\u001b[0;31mKeyboardInterrupt\u001b[0m: "
     ]
    }
   ],
   "source": [
    "n_generations = 60\n",
    "\n",
    "for i in range(n_generations):\n",
    "    cp_data = generate_cp_data(t_max_seconds=1800, axis='x')\n",
    "    filename = save_cp_data(cp_data, cp_data_dir, data_usage_aim)"
   ]
  },
  {
   "cell_type": "markdown",
   "id": "02fbb6c2-d1a6-4824-b4f6-cc55cef515f4",
   "metadata": {},
   "source": [
    "## Данные для тестирования"
   ]
  },
  {
   "cell_type": "code",
   "execution_count": 7,
   "id": "2aa1480e-6bbc-445b-8a62-783f5a4a3374",
   "metadata": {},
   "outputs": [],
   "source": [
    "cp_data_dir = 'CP_data' \n",
    "data_usage_aim = 'test'"
   ]
  },
  {
   "cell_type": "code",
   "execution_count": 8,
   "id": "0203fb54-2d94-4c50-b9a8-4337fe56ec03",
   "metadata": {},
   "outputs": [
    {
     "name": "stderr",
     "output_type": "stream",
     "text": [
      "Running system: 100%|██████████████████████████████████████████| 6001/6001 [00:07<00:00, 754.21it/s]\n",
      "Running system: 100%|██████████████████████████████████████████| 6001/6001 [00:07<00:00, 761.62it/s]\n",
      "Running system: 100%|██████████████████████████████████████████| 6001/6001 [00:08<00:00, 746.77it/s]\n",
      "Running system: 100%|██████████████████████████████████████████| 6001/6001 [00:07<00:00, 752.98it/s]\n",
      "Running system: 100%|██████████████████████████████████████████| 6001/6001 [00:08<00:00, 744.01it/s]\n",
      "Running system: 100%|██████████████████████████████████████████| 6001/6001 [00:08<00:00, 748.40it/s]\n",
      "Running system: 100%|██████████████████████████████████████████| 6001/6001 [00:07<00:00, 753.56it/s]\n",
      "Running system: 100%|██████████████████████████████████████████| 6001/6001 [00:08<00:00, 748.60it/s]\n",
      "Running system: 100%|██████████████████████████████████████████| 6001/6001 [00:07<00:00, 762.34it/s]\n",
      "Running system: 100%|██████████████████████████████████████████| 6001/6001 [00:07<00:00, 785.70it/s]\n",
      "Running system: 100%|██████████████████████████████████████████| 6001/6001 [00:07<00:00, 791.05it/s]\n",
      "Running system: 100%|██████████████████████████████████████████| 6001/6001 [00:36<00:00, 164.03it/s]\n",
      "Running system: 100%|██████████████████████████████████████████| 6001/6001 [00:07<00:00, 761.69it/s]\n",
      "Running system: 100%|██████████████████████████████████████████| 6001/6001 [00:08<00:00, 746.49it/s]\n",
      "Running system: 100%|██████████████████████████████████████████| 6001/6001 [00:08<00:00, 748.14it/s]\n",
      "Running system: 100%|██████████████████████████████████████████| 6001/6001 [00:07<00:00, 762.92it/s]\n",
      "Running system: 100%|██████████████████████████████████████████| 6001/6001 [00:07<00:00, 755.10it/s]\n",
      "Running system: 100%|███████████████████████████████████████████| 6001/6001 [08:48<00:00, 11.36it/s]\n",
      "Running system: 100%|██████████████████████████████████████████| 6001/6001 [00:07<00:00, 772.68it/s]\n",
      "Running system: 100%|██████████████████████████████████████████| 6001/6001 [00:07<00:00, 776.38it/s]\n"
     ]
    }
   ],
   "source": [
    "n_generations = 20\n",
    "\n",
    "for i in range(n_generations):\n",
    "    cp_data = generate_cp_data(t_max_seconds=300, axis='x')\n",
    "    filename = save_cp_data(cp_data, cp_data_dir, data_usage_aim)"
   ]
  },
  {
   "cell_type": "code",
   "execution_count": null,
   "id": "2fba3f43-406f-4340-9317-cf3b8955df0c",
   "metadata": {},
   "outputs": [],
   "source": []
  }
 ],
 "metadata": {
  "kernelspec": {
   "display_name": "Python 3 (ipykernel)",
   "language": "python",
   "name": "python3"
  },
  "language_info": {
   "codemirror_mode": {
    "name": "ipython",
    "version": 3
   },
   "file_extension": ".py",
   "mimetype": "text/x-python",
   "name": "python",
   "nbconvert_exporter": "python",
   "pygments_lexer": "ipython3",
   "version": "3.9.6"
  }
 },
 "nbformat": 4,
 "nbformat_minor": 5
}
