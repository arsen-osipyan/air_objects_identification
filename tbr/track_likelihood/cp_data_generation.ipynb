{
 "cells": [
  {
   "cell_type": "code",
   "execution_count": 1,
   "id": "322b01a5-63f4-42f2-bfb7-b34b62a4006d",
   "metadata": {},
   "outputs": [],
   "source": [
    "import datetime\n",
    "import numpy as np\n",
    "import pandas as pd\n",
    "\n",
    "from tqdm import tqdm, trange\n",
    "\n",
    "from airsim.collections import AirObject, AirEnv, RadarSystem, ControlPoint, Supervisor\n",
    "from airsim.time import Time"
   ]
  },
  {
   "cell_type": "markdown",
   "id": "90e0abb7-480b-4dcf-a163-afb3ce08013b",
   "metadata": {},
   "source": [
    "## Конфигурация"
   ]
  },
  {
   "cell_type": "code",
   "execution_count": 2,
   "id": "2e5efb6a-6b6c-44f9-9050-9496d3f83afd",
   "metadata": {},
   "outputs": [],
   "source": [
    "cp_data_dir = 'CP_data'\n",
    "data_usage_aim = 'train'"
   ]
  },
  {
   "cell_type": "markdown",
   "id": "33e7ee5f-d7bb-41ed-847f-93cf0559cf8f",
   "metadata": {},
   "source": [
    "## Генерация"
   ]
  },
  {
   "cell_type": "code",
   "execution_count": 3,
   "id": "d724238d-dc56-4eff-89fd-94106c210eeb",
   "metadata": {},
   "outputs": [],
   "source": [
    "def get_random_air_object(xyz_mean, xyz_std, v_mean, v_std, a_mean, a_std):\n",
    "    x_0 = xyz_mean[0] + np.random.randn() * xyz_std[0]\n",
    "    y_0 = xyz_mean[1] + np.random.randn() * xyz_std[1]\n",
    "    z_0 = xyz_mean[2] + np.random.randn() * xyz_std[2]\n",
    "    \n",
    "    v_x = (v_mean + np.random.randn() * v_std) * np.random.choice([1, -1])\n",
    "    v_y = (v_mean + np.random.randn() * v_std) * np.random.choice([1, -1])\n",
    "    v_z = (v_mean + np.random.randn() * v_std) * np.random.choice([1, -1])\n",
    "    \n",
    "    a_x = (a_mean + np.random.randn() * a_std) * np.random.choice([1, -1])\n",
    "    a_y = (a_mean + np.random.randn() * a_std) * np.random.choice([1, -1])\n",
    "    a_z = (a_mean + np.random.randn() * a_std) * np.random.choice([1, -1])\n",
    "\n",
    "    f = lambda t: np.array([x_0 + v_x*t + a_x*t**2/2, y_0 + v_z*t + a_z*t**2/2, z_0 + v_z*t + a_z*t**2/2])\n",
    "\n",
    "    return AirObject(track=f)"
   ]
  },
  {
   "cell_type": "code",
   "execution_count": 4,
   "id": "774db0cb-0164-46dd-836c-f446f8537990",
   "metadata": {},
   "outputs": [],
   "source": [
    "def get_radar_systems_grid(size, distance, dt):\n",
    "    n = size**2\n",
    "    radar_systems = []\n",
    "\n",
    "    for i in range(n):\n",
    "        detection_period = np.random.choice([100, 500, 1000, 5000], p=[0.5, 0.3, 0.1, 0.1])\n",
    "        detection_delay = np.random.randint(0, detection_period//dt)*dt\n",
    "        radar_systems.append(\n",
    "            RadarSystem(position=np.array([distance * (i // size) - (size - 1) / 2 * distance, distance * (i % size) - (size - 1) / 2 * distance, 0.0]),\n",
    "                        detection_radius=np.sqrt(10000**2 + (0.8*distance)**2),\n",
    "                        error=np.random.choice([1.0, 2.5, 5.0, 10.0], p=[0.1, 0.5, 0.3, 0.1]),\n",
    "                        detection_fault_probability=np.random.choice([0.01, 0.02, 0.05, 0.2], p=[0.2, 0.5, 0.2, 0.1]),\n",
    "                        detection_period=detection_period,\n",
    "                        detection_delay=detection_delay)\n",
    "        )\n",
    "\n",
    "    return radar_systems "
   ]
  },
  {
   "cell_type": "code",
   "execution_count": 5,
   "id": "e9e531f5-1795-430c-889d-73d1daf34e33",
   "metadata": {},
   "outputs": [],
   "source": [
    "n_ao = 50\n",
    "rs_grid_size = 5"
   ]
  },
  {
   "cell_type": "code",
   "execution_count": 6,
   "id": "178ddd47-4f8b-4517-a0e0-8941379c9d4d",
   "metadata": {},
   "outputs": [],
   "source": [
    "t_min = 0\n",
    "t_max = 300 * 1000\n",
    "dt = 10"
   ]
  },
  {
   "cell_type": "code",
   "execution_count": 7,
   "id": "78fd08ba-53aa-46f6-a59f-74fa54b34c53",
   "metadata": {},
   "outputs": [],
   "source": [
    "air_objects = [\n",
    "    get_random_air_object(xyz_mean=(0.0, 0.0, 10000.0),\n",
    "                          xyz_std=(50000.0, 50000.0, 100.0),\n",
    "                          v_mean=0.3, v_std=0.2,\n",
    "                          a_mean=1e-5, a_std=1e-6)\n",
    "    for _ in range(50)\n",
    "]"
   ]
  },
  {
   "cell_type": "code",
   "execution_count": 8,
   "id": "ee18fa4c-8672-46fc-a901-a298c757f8c4",
   "metadata": {},
   "outputs": [],
   "source": [
    "air_env = AirEnv(air_objects=air_objects)"
   ]
  },
  {
   "cell_type": "code",
   "execution_count": 9,
   "id": "2ca174de-fc02-45ab-8829-8d79182b7e8f",
   "metadata": {},
   "outputs": [],
   "source": [
    "radar_systems = get_radar_systems_grid(rs_grid_size, 20000, dt)"
   ]
  },
  {
   "cell_type": "code",
   "execution_count": 10,
   "id": "d880c6cf-cbe6-4188-9018-545239d53d1b",
   "metadata": {},
   "outputs": [],
   "source": [
    "supervisor = Supervisor(air_env=air_env, radar_systems=radar_systems)"
   ]
  },
  {
   "cell_type": "code",
   "execution_count": 11,
   "id": "3542f549-5a52-4637-8bcb-c671efe25f6b",
   "metadata": {},
   "outputs": [
    {
     "name": "stderr",
     "output_type": "stream",
     "text": [
      "Running system: 100%|█████████████████████████████████████████| 30001/30001 [15:43<00:00, 31.78it/s]\n"
     ]
    }
   ],
   "source": [
    "supervisor.run(t_min, t_max, dt)"
   ]
  },
  {
   "cell_type": "code",
   "execution_count": 12,
   "id": "69d77b89-c86b-407a-adf6-4078da3b47ca",
   "metadata": {},
   "outputs": [],
   "source": [
    "cp_data = supervisor.get_data()"
   ]
  },
  {
   "cell_type": "code",
   "execution_count": 13,
   "id": "0ee2ad4f-99c0-4877-91a4-536377bb4c46",
   "metadata": {},
   "outputs": [
    {
     "data": {
      "text/html": [
       "<div>\n",
       "<style scoped>\n",
       "    .dataframe tbody tr th:only-of-type {\n",
       "        vertical-align: middle;\n",
       "    }\n",
       "\n",
       "    .dataframe tbody tr th {\n",
       "        vertical-align: top;\n",
       "    }\n",
       "\n",
       "    .dataframe thead th {\n",
       "        text-align: right;\n",
       "    }\n",
       "</style>\n",
       "<table border=\"1\" class=\"dataframe\">\n",
       "  <thead>\n",
       "    <tr style=\"text-align: right;\">\n",
       "      <th></th>\n",
       "      <th></th>\n",
       "      <th>count</th>\n",
       "      <th>min</th>\n",
       "      <th>max</th>\n",
       "    </tr>\n",
       "    <tr>\n",
       "      <th>rs_id</th>\n",
       "      <th>id</th>\n",
       "      <th></th>\n",
       "      <th></th>\n",
       "      <th></th>\n",
       "    </tr>\n",
       "  </thead>\n",
       "  <tbody>\n",
       "    <tr>\n",
       "      <th rowspan=\"3\" valign=\"top\">0</th>\n",
       "      <th>18</th>\n",
       "      <td>58.0</td>\n",
       "      <td>4340.0</td>\n",
       "      <td>33840.0</td>\n",
       "    </tr>\n",
       "    <tr>\n",
       "      <th>20</th>\n",
       "      <td>58.0</td>\n",
       "      <td>340.0</td>\n",
       "      <td>29840.0</td>\n",
       "    </tr>\n",
       "    <tr>\n",
       "      <th>40</th>\n",
       "      <td>9.0</td>\n",
       "      <td>340.0</td>\n",
       "      <td>4340.0</td>\n",
       "    </tr>\n",
       "    <tr>\n",
       "      <th rowspan=\"2\" valign=\"top\">1</th>\n",
       "      <th>18</th>\n",
       "      <td>5.0</td>\n",
       "      <td>4740.0</td>\n",
       "      <td>24740.0</td>\n",
       "    </tr>\n",
       "    <tr>\n",
       "      <th>20</th>\n",
       "      <td>6.0</td>\n",
       "      <td>9740.0</td>\n",
       "      <td>34740.0</td>\n",
       "    </tr>\n",
       "    <tr>\n",
       "      <th>...</th>\n",
       "      <th>...</th>\n",
       "      <td>...</td>\n",
       "      <td>...</td>\n",
       "      <td>...</td>\n",
       "    </tr>\n",
       "    <tr>\n",
       "      <th rowspan=\"5\" valign=\"top\">24</th>\n",
       "      <th>16</th>\n",
       "      <td>151.0</td>\n",
       "      <td>470.0</td>\n",
       "      <td>75970.0</td>\n",
       "    </tr>\n",
       "    <tr>\n",
       "      <th>26</th>\n",
       "      <td>45.0</td>\n",
       "      <td>470.0</td>\n",
       "      <td>22470.0</td>\n",
       "    </tr>\n",
       "    <tr>\n",
       "      <th>30</th>\n",
       "      <td>19.0</td>\n",
       "      <td>31970.0</td>\n",
       "      <td>40970.0</td>\n",
       "    </tr>\n",
       "    <tr>\n",
       "      <th>42</th>\n",
       "      <td>104.0</td>\n",
       "      <td>470.0</td>\n",
       "      <td>52470.0</td>\n",
       "    </tr>\n",
       "    <tr>\n",
       "      <th>47</th>\n",
       "      <td>23.0</td>\n",
       "      <td>470.0</td>\n",
       "      <td>11470.0</td>\n",
       "    </tr>\n",
       "  </tbody>\n",
       "</table>\n",
       "<p>79 rows × 3 columns</p>\n",
       "</div>"
      ],
      "text/plain": [
       "          count      min      max\n",
       "rs_id id                         \n",
       "0     18   58.0   4340.0  33840.0\n",
       "      20   58.0    340.0  29840.0\n",
       "      40    9.0    340.0   4340.0\n",
       "1     18    5.0   4740.0  24740.0\n",
       "      20    6.0   9740.0  34740.0\n",
       "...         ...      ...      ...\n",
       "24    16  151.0    470.0  75970.0\n",
       "      26   45.0    470.0  22470.0\n",
       "      30   19.0  31970.0  40970.0\n",
       "      42  104.0    470.0  52470.0\n",
       "      47   23.0    470.0  11470.0\n",
       "\n",
       "[79 rows x 3 columns]"
      ]
     },
     "execution_count": 13,
     "metadata": {},
     "output_type": "execute_result"
    }
   ],
   "source": [
    "cp_data.groupby(by=['rs_id', 'id'])['time'].describe()[['count', 'min', 'max']]"
   ]
  },
  {
   "cell_type": "code",
   "execution_count": 14,
   "id": "d1092f17-e250-4670-9399-3f0340ed912d",
   "metadata": {},
   "outputs": [],
   "source": [
    "cp_data.to_csv(f'{cp_data_dir}/{data_usage_aim}/{n_ao}ao_{rs_grid_size**2}rs_xyz_quadratic.csv')"
   ]
  },
  {
   "cell_type": "code",
   "execution_count": null,
   "id": "9a9d4e95-d05b-445a-8710-35a914f10cc3",
   "metadata": {},
   "outputs": [],
   "source": []
  }
 ],
 "metadata": {
  "kernelspec": {
   "display_name": "Python 3 (ipykernel)",
   "language": "python",
   "name": "python3"
  },
  "language_info": {
   "codemirror_mode": {
    "name": "ipython",
    "version": 3
   },
   "file_extension": ".py",
   "mimetype": "text/x-python",
   "name": "python",
   "nbconvert_exporter": "python",
   "pygments_lexer": "ipython3",
   "version": "3.9.6"
  }
 },
 "nbformat": 4,
 "nbformat_minor": 5
}
