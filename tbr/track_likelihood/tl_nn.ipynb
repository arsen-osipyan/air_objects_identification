{
 "cells": [
  {
   "cell_type": "code",
   "execution_count": 5,
   "id": "f319ddf3-a348-4ce8-8549-ec3bc7a2db80",
   "metadata": {},
   "outputs": [],
   "source": [
    "import datetime\n",
    "import numpy as np\n",
    "import pandas as pd\n",
    "import matplotlib.pyplot as plt\n",
    "\n",
    "import torch\n",
    "\n",
    "from tqdm.notebook import tqdm, trange\n",
    "\n",
    "%matplotlib inline"
   ]
  },
  {
   "cell_type": "markdown",
   "id": "08eff70c-b6ed-44f2-a37f-c5440a968b46",
   "metadata": {},
   "source": [
    "## Конфигурация"
   ]
  },
  {
   "cell_type": "code",
   "execution_count": 6,
   "id": "60c00198-3274-423d-93d9-e8a164f7a1e1",
   "metadata": {},
   "outputs": [],
   "source": [
    "config = dict(\n",
    "    n_epochs=5,\n",
    "    batch_size=128,\n",
    "    learning_rate=0.0005,\n",
    "    hidden_to_input_ratio=2\n",
    ")"
   ]
  },
  {
   "cell_type": "markdown",
   "id": "946fdfff-2d6b-4cc6-8b62-66b5a730b4d1",
   "metadata": {},
   "source": [
    "## Dataset"
   ]
  },
  {
   "cell_type": "code",
   "execution_count": 7,
   "id": "80049071-1bd4-45e9-8b6b-5d46f258e16f",
   "metadata": {},
   "outputs": [],
   "source": [
    "class TrackLikelihoodDataset(torch.utils.data.Dataset):\n",
    "\n",
    "    def __init__(self, path, x_file='x.pt', y_file='y.pt'):\n",
    "        self.x = torch.load(path + '/' + x_file)\n",
    "        self.y = torch.load(path + '/' + y_file)\n",
    "        \n",
    "        if len(self.x) != len(self.y):\n",
    "            raise RuntimeError(f'Tensors X and Y must be of the same size.')\n",
    "\n",
    "    def __len__(self):\n",
    "        return self.x.shape[0]\n",
    "\n",
    "    def __getitem__(self, idx):\n",
    "        return self.x[idx], self.y[idx]"
   ]
  },
  {
   "cell_type": "markdown",
   "id": "14dfbd8f-c589-45dd-b9e8-22345236bee8",
   "metadata": {},
   "source": [
    "## Нейронная сеть"
   ]
  },
  {
   "cell_type": "code",
   "execution_count": 8,
   "id": "dc55408f-92bd-4484-8053-431d36b8b34d",
   "metadata": {},
   "outputs": [],
   "source": [
    "class TrackLikelihoodNetwork(torch.nn.Module):\n",
    "\n",
    "    def __init__(self, input_size, hidden_to_input_ratio=1):\n",
    "        super(TrackLikelihoodNetwork, self).__init__()\n",
    "\n",
    "        self.input_size = input_size\n",
    "        self.hidden_size = int(input_size * hidden_to_input_ratio)\n",
    "        self.output_size = 1\n",
    "\n",
    "        self.fc_layers = torch.nn.Sequential(\n",
    "            torch.nn.Linear(self.input_size, self.hidden_size),\n",
    "            torch.nn.LeakyReLU(),\n",
    "            torch.nn.Linear(self.hidden_size, self.hidden_size),\n",
    "            torch.nn.LeakyReLU(),\n",
    "            torch.nn.Linear(self.hidden_size, self.hidden_size),\n",
    "            torch.nn.LeakyReLU(),\n",
    "            torch.nn.Linear(self.hidden_size, self.hidden_size),\n",
    "            torch.nn.LeakyReLU(),\n",
    "            torch.nn.Linear(self.hidden_size, self.output_size),\n",
    "            torch.nn.Sigmoid()\n",
    "        )\n",
    "    \n",
    "    def forward(self, x):\n",
    "        return self.fc_layers(x)"
   ]
  },
  {
   "cell_type": "markdown",
   "id": "8ed8ee53-632e-4471-8049-d07ab13fa7c9",
   "metadata": {},
   "source": [
    "## Обучение нейросети"
   ]
  },
  {
   "cell_type": "markdown",
   "id": "06368613-8786-444a-8ac6-aaf626b62a5a",
   "metadata": {},
   "source": [
    "#### Подготовка Dataset и DataLoader"
   ]
  },
  {
   "cell_type": "code",
   "execution_count": 9,
   "id": "e2273bce-c226-410f-81cb-d22af5b2ed24",
   "metadata": {},
   "outputs": [],
   "source": [
    "train_dataset = TrackLikelihoodDataset(path='TL_data/train')"
   ]
  },
  {
   "cell_type": "code",
   "execution_count": 26,
   "id": "651b3b25-595b-4f9e-b8f5-b84916ae5e15",
   "metadata": {},
   "outputs": [],
   "source": [
    "train_dataloader = torch.utils.data.DataLoader(dataset=train_dataset,\n",
    "                                               shuffle=True,\n",
    "                                               batch_size=config['batch_size'])"
   ]
  },
  {
   "cell_type": "markdown",
   "id": "01a27d02-6a53-4a6e-98e0-9f15dcee238e",
   "metadata": {},
   "source": [
    "#### Обучение"
   ]
  },
  {
   "cell_type": "code",
   "execution_count": 27,
   "id": "05a05579-68be-41ff-a0ee-bca24ce36286",
   "metadata": {},
   "outputs": [],
   "source": [
    "model = TrackLikelihoodNetwork(input_size=train_dataset[0][0].shape[0],\n",
    "                               hidden_to_input_ratio=config['hidden_to_input_ratio'])\n",
    "criterion = torch.nn.BCELoss()\n",
    "optimizer = torch.optim.Adam(model.parameters(), lr=config['learning_rate'])"
   ]
  },
  {
   "cell_type": "code",
   "execution_count": 28,
   "id": "549fb8a9-af2a-4de6-b569-ba2375c0388b",
   "metadata": {},
   "outputs": [
    {
     "data": {
      "application/vnd.jupyter.widget-view+json": {
       "model_id": "412cfdf191ec41718e2a680217d4f5ec",
       "version_major": 2,
       "version_minor": 0
      },
      "text/plain": [
       "  0%|          | 0/5 [00:00<?, ?it/s]"
      ]
     },
     "metadata": {},
     "output_type": "display_data"
    }
   ],
   "source": [
    "loss_history = []\n",
    "lr_history = []\n",
    "\n",
    "epoch_progress = trange(config['n_epochs'])\n",
    "for epoch in epoch_progress:\n",
    "    epoch_progress.set_description(f'Epoch {epoch + 1}')\n",
    "\n",
    "    for i, (x, y) in enumerate(train_dataloader):\n",
    "        out = model(x)\n",
    "        loss = criterion(out, y)\n",
    "\n",
    "        loss.backward()\n",
    "        optimizer.step()\n",
    "        optimizer.zero_grad()\n",
    "\n",
    "        lr_history.append(optimizer.param_groups[0]['lr'])\n",
    "        loss_history.append(loss.item())\n",
    "        \n",
    "        epoch_progress.set_postfix({'loss': loss.item()})\n",
    "\n",
    "    # optimizer.param_groups[0]['lr'] *= 0.1"
   ]
  },
  {
   "cell_type": "code",
   "execution_count": 29,
   "id": "12108899-b04a-4504-8fea-12f0ed5852e8",
   "metadata": {},
   "outputs": [
    {
     "data": {
      "text/plain": [
       "[<matplotlib.lines.Line2D at 0x15458fe80>]"
      ]
     },
     "execution_count": 29,
     "metadata": {},
     "output_type": "execute_result"
    },
    {
     "data": {
      "image/png": "[encoded data removed]",
      "text/plain": [
       "<Figure size 1200x600 with 2 Axes>"
      ]
     },
     "metadata": {},
     "output_type": "display_data"
    }
   ],
   "source": [
    "fig, axis = plt.subplots(1, 2, figsize=(12, 6))\n",
    "\n",
    "# Loss plot\n",
    "axis[0].set_title('Loss')\n",
    "axis[0].set_xlabel('Epoch')\n",
    "axis[0].set_ylabel('Loss')\n",
    "axis[0].semilogy()\n",
    "axis[0].grid()\n",
    "axis[0].plot(loss_history)\n",
    "\n",
    "# Learning rate plot\n",
    "axis[1].set_title('Learning rate')\n",
    "axis[1].set_xlabel('Epoch')\n",
    "axis[1].set_ylabel('Learning rate')\n",
    "axis[1].grid()\n",
    "axis[1].plot(lr_history)"
   ]
  },
  {
   "cell_type": "markdown",
   "id": "f688dd2b-644f-4ecb-8ee6-bc69d2326e44",
   "metadata": {},
   "source": [
    "## Тестирование нейросети"
   ]
  },
  {
   "cell_type": "markdown",
   "id": "c53b518d-2d43-40ae-952b-5f130a4f1112",
   "metadata": {},
   "source": [
    "#### Подготовка Dataset и DataLoader для тестирования"
   ]
  },
  {
   "cell_type": "code",
   "execution_count": 30,
   "id": "565dc1f1-7631-49d5-96eb-dce8a4a26b94",
   "metadata": {},
   "outputs": [
    {
     "ename": "FileNotFoundError",
     "evalue": "[Errno 2] No such file or directory: 'TL_data/test/x.pt'",
     "output_type": "error",
     "traceback": [
      "\u001b[0;31m---------------------------------------------------------------------------\u001b[0m",
      "\u001b[0;31mFileNotFoundError\u001b[0m                         Traceback (most recent call last)",
      "Cell \u001b[0;32mIn[30], line 1\u001b[0m\n\u001b[0;32m----> 1\u001b[0m test_dataset \u001b[38;5;241m=\u001b[39m \u001b[43mTrackLikelihoodDataset\u001b[49m\u001b[43m(\u001b[49m\u001b[43mpath\u001b[49m\u001b[38;5;241;43m=\u001b[39;49m\u001b[38;5;124;43m'\u001b[39;49m\u001b[38;5;124;43mTL_data/test\u001b[39;49m\u001b[38;5;124;43m'\u001b[39;49m\u001b[43m)\u001b[49m\n",
      "Cell \u001b[0;32mIn[7], line 4\u001b[0m, in \u001b[0;36mTrackLikelihoodDataset.__init__\u001b[0;34m(self, path, x_file, y_file)\u001b[0m\n\u001b[1;32m      3\u001b[0m \u001b[38;5;28;01mdef\u001b[39;00m \u001b[38;5;21m__init__\u001b[39m(\u001b[38;5;28mself\u001b[39m, path, x_file\u001b[38;5;241m=\u001b[39m\u001b[38;5;124m'\u001b[39m\u001b[38;5;124mx.pt\u001b[39m\u001b[38;5;124m'\u001b[39m, y_file\u001b[38;5;241m=\u001b[39m\u001b[38;5;124m'\u001b[39m\u001b[38;5;124my.pt\u001b[39m\u001b[38;5;124m'\u001b[39m):\n\u001b[0;32m----> 4\u001b[0m     \u001b[38;5;28mself\u001b[39m\u001b[38;5;241m.\u001b[39mx \u001b[38;5;241m=\u001b[39m \u001b[43mtorch\u001b[49m\u001b[38;5;241;43m.\u001b[39;49m\u001b[43mload\u001b[49m\u001b[43m(\u001b[49m\u001b[43mpath\u001b[49m\u001b[43m \u001b[49m\u001b[38;5;241;43m+\u001b[39;49m\u001b[43m \u001b[49m\u001b[38;5;124;43m'\u001b[39;49m\u001b[38;5;124;43m/\u001b[39;49m\u001b[38;5;124;43m'\u001b[39;49m\u001b[43m \u001b[49m\u001b[38;5;241;43m+\u001b[39;49m\u001b[43m \u001b[49m\u001b[43mx_file\u001b[49m\u001b[43m)\u001b[49m\n\u001b[1;32m      5\u001b[0m     \u001b[38;5;28mself\u001b[39m\u001b[38;5;241m.\u001b[39my \u001b[38;5;241m=\u001b[39m torch\u001b[38;5;241m.\u001b[39mload(path \u001b[38;5;241m+\u001b[39m \u001b[38;5;124m'\u001b[39m\u001b[38;5;124m/\u001b[39m\u001b[38;5;124m'\u001b[39m \u001b[38;5;241m+\u001b[39m y_file)\n\u001b[1;32m      7\u001b[0m     \u001b[38;5;28;01mif\u001b[39;00m \u001b[38;5;28mlen\u001b[39m(\u001b[38;5;28mself\u001b[39m\u001b[38;5;241m.\u001b[39mx) \u001b[38;5;241m!=\u001b[39m \u001b[38;5;28mlen\u001b[39m(\u001b[38;5;28mself\u001b[39m\u001b[38;5;241m.\u001b[39my):\n",
      "File \u001b[0;32m~/Desktop/Diploma/air_objects_identification/venv/lib/python3.9/site-packages/torch/serialization.py:986\u001b[0m, in \u001b[0;36mload\u001b[0;34m(f, map_location, pickle_module, weights_only, mmap, **pickle_load_args)\u001b[0m\n\u001b[1;32m    983\u001b[0m \u001b[38;5;28;01mif\u001b[39;00m \u001b[38;5;124m'\u001b[39m\u001b[38;5;124mencoding\u001b[39m\u001b[38;5;124m'\u001b[39m \u001b[38;5;129;01mnot\u001b[39;00m \u001b[38;5;129;01min\u001b[39;00m pickle_load_args\u001b[38;5;241m.\u001b[39mkeys():\n\u001b[1;32m    984\u001b[0m     pickle_load_args[\u001b[38;5;124m'\u001b[39m\u001b[38;5;124mencoding\u001b[39m\u001b[38;5;124m'\u001b[39m] \u001b[38;5;241m=\u001b[39m \u001b[38;5;124m'\u001b[39m\u001b[38;5;124mutf-8\u001b[39m\u001b[38;5;124m'\u001b[39m\n\u001b[0;32m--> 986\u001b[0m \u001b[38;5;28;01mwith\u001b[39;00m \u001b[43m_open_file_like\u001b[49m\u001b[43m(\u001b[49m\u001b[43mf\u001b[49m\u001b[43m,\u001b[49m\u001b[43m \u001b[49m\u001b[38;5;124;43m'\u001b[39;49m\u001b[38;5;124;43mrb\u001b[39;49m\u001b[38;5;124;43m'\u001b[39;49m\u001b[43m)\u001b[49m \u001b[38;5;28;01mas\u001b[39;00m opened_file:\n\u001b[1;32m    987\u001b[0m     \u001b[38;5;28;01mif\u001b[39;00m _is_zipfile(opened_file):\n\u001b[1;32m    988\u001b[0m         \u001b[38;5;66;03m# The zipfile reader is going to advance the current file position.\u001b[39;00m\n\u001b[1;32m    989\u001b[0m         \u001b[38;5;66;03m# If we want to actually tail call to torch.jit.load, we need to\u001b[39;00m\n\u001b[1;32m    990\u001b[0m         \u001b[38;5;66;03m# reset back to the original position.\u001b[39;00m\n\u001b[1;32m    991\u001b[0m         orig_position \u001b[38;5;241m=\u001b[39m opened_file\u001b[38;5;241m.\u001b[39mtell()\n",
      "File \u001b[0;32m~/Desktop/Diploma/air_objects_identification/venv/lib/python3.9/site-packages/torch/serialization.py:435\u001b[0m, in \u001b[0;36m_open_file_like\u001b[0;34m(name_or_buffer, mode)\u001b[0m\n\u001b[1;32m    433\u001b[0m \u001b[38;5;28;01mdef\u001b[39;00m \u001b[38;5;21m_open_file_like\u001b[39m(name_or_buffer, mode):\n\u001b[1;32m    434\u001b[0m     \u001b[38;5;28;01mif\u001b[39;00m _is_path(name_or_buffer):\n\u001b[0;32m--> 435\u001b[0m         \u001b[38;5;28;01mreturn\u001b[39;00m \u001b[43m_open_file\u001b[49m\u001b[43m(\u001b[49m\u001b[43mname_or_buffer\u001b[49m\u001b[43m,\u001b[49m\u001b[43m \u001b[49m\u001b[43mmode\u001b[49m\u001b[43m)\u001b[49m\n\u001b[1;32m    436\u001b[0m     \u001b[38;5;28;01melse\u001b[39;00m:\n\u001b[1;32m    437\u001b[0m         \u001b[38;5;28;01mif\u001b[39;00m \u001b[38;5;124m'\u001b[39m\u001b[38;5;124mw\u001b[39m\u001b[38;5;124m'\u001b[39m \u001b[38;5;129;01min\u001b[39;00m mode:\n",
      "File \u001b[0;32m~/Desktop/Diploma/air_objects_identification/venv/lib/python3.9/site-packages/torch/serialization.py:416\u001b[0m, in \u001b[0;36m_open_file.__init__\u001b[0;34m(self, name, mode)\u001b[0m\n\u001b[1;32m    415\u001b[0m \u001b[38;5;28;01mdef\u001b[39;00m \u001b[38;5;21m__init__\u001b[39m(\u001b[38;5;28mself\u001b[39m, name, mode):\n\u001b[0;32m--> 416\u001b[0m     \u001b[38;5;28msuper\u001b[39m()\u001b[38;5;241m.\u001b[39m\u001b[38;5;21m__init__\u001b[39m(\u001b[38;5;28;43mopen\u001b[39;49m\u001b[43m(\u001b[49m\u001b[43mname\u001b[49m\u001b[43m,\u001b[49m\u001b[43m \u001b[49m\u001b[43mmode\u001b[49m\u001b[43m)\u001b[49m)\n",
      "\u001b[0;31mFileNotFoundError\u001b[0m: [Errno 2] No such file or directory: 'TL_data/test/x.pt'"
     ]
    }
   ],
   "source": [
    "test_dataset = TrackLikelihoodDataset(path='TL_data/test')"
   ]
  },
  {
   "cell_type": "code",
   "execution_count": null,
   "id": "2a6375be-cdd7-40c2-9b56-8c4a27e32548",
   "metadata": {},
   "outputs": [],
   "source": [
    "test_dataloader = torch.utils.data.DataLoader(dataset=test_dataset,\n",
    "                                              batch_size=config['batch_size'])"
   ]
  },
  {
   "cell_type": "markdown",
   "id": "631b31eb-d9e7-422c-8f42-1d5fecf9d408",
   "metadata": {},
   "source": [
    "#### Расчет метрик"
   ]
  },
  {
   "cell_type": "code",
   "execution_count": null,
   "id": "4908f317-f501-4560-b7d3-0a0bb7762b0a",
   "metadata": {},
   "outputs": [],
   "source": [
    "losses = []\n",
    "\n",
    "for i, (x, y) in enumerate(test_dataloader):\n",
    "    with torch.inference_mode():\n",
    "        out = model(x)\n",
    "        loss = criterion(out, y)\n",
    "        losses.append(loss.item())\n",
    "\n",
    "print(f'Loss on test = {np.mean(losses)}')"
   ]
  },
  {
   "cell_type": "code",
   "execution_count": null,
   "id": "d9e2a0a3-4399-4ea9-b145-f4cb25292dbd",
   "metadata": {},
   "outputs": [],
   "source": []
  }
 ],
 "metadata": {
  "kernelspec": {
   "display_name": "Python 3 (ipykernel)",
   "language": "python",
   "name": "python3"
  },
  "language_info": {
   "codemirror_mode": {
    "name": "ipython",
    "version": 3
   },
   "file_extension": ".py",
   "mimetype": "text/x-python",
   "name": "python",
   "nbconvert_exporter": "python",
   "pygments_lexer": "ipython3",
   "version": "3.9.6"
  }
 },
 "nbformat": 4,
 "nbformat_minor": 5
}
