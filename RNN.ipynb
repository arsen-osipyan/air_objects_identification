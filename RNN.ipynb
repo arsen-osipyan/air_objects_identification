{
 "cells": [
  {
   "cell_type": "code",
   "execution_count": 1,
   "id": "d379d70d-e140-4614-88d3-e0b887b13247",
   "metadata": {},
   "outputs": [],
   "source": [
    "import torch\n",
    "from torch.nn import RNN\n",
    "\n",
    "import pandas as pd\n",
    "\n",
    "import airsim"
   ]
  },
  {
   "cell_type": "code",
   "execution_count": 2,
   "id": "6c2c701a-d3d1-4734-be54-e75cf7e8f33a",
   "metadata": {},
   "outputs": [],
   "source": [
    "data_train = pd.read_csv('test.csv')"
   ]
  },
  {
   "cell_type": "code",
   "execution_count": 3,
   "id": "4367b444-a4c3-40f9-9591-26c86260afb8",
   "metadata": {},
   "outputs": [
    {
     "data": {
      "text/plain": [
       "(1608, 10)"
      ]
     },
     "execution_count": 3,
     "metadata": {},
     "output_type": "execute_result"
    }
   ],
   "source": [
    "data_train.shape"
   ]
  },
  {
   "cell_type": "code",
   "execution_count": 4,
   "id": "abee81d8-15ae-4f06-9f56-58bdda57b9ec",
   "metadata": {},
   "outputs": [
    {
     "data": {
      "text/html": [
       "<div>\n",
       "<style scoped>\n",
       "    .dataframe tbody tr th:only-of-type {\n",
       "        vertical-align: middle;\n",
       "    }\n",
       "\n",
       "    .dataframe tbody tr th {\n",
       "        vertical-align: top;\n",
       "    }\n",
       "\n",
       "    .dataframe thead th {\n",
       "        text-align: right;\n",
       "    }\n",
       "</style>\n",
       "<table border=\"1\" class=\"dataframe\">\n",
       "  <thead>\n",
       "    <tr style=\"text-align: right;\">\n",
       "      <th></th>\n",
       "      <th>Unnamed: 0</th>\n",
       "      <th>load_time</th>\n",
       "      <th>radar_system_id</th>\n",
       "      <th>detection_time</th>\n",
       "      <th>detection_ao_id</th>\n",
       "      <th>detection_id</th>\n",
       "      <th>detection_error</th>\n",
       "      <th>detection_x</th>\n",
       "      <th>detection_y</th>\n",
       "      <th>detection_z</th>\n",
       "    </tr>\n",
       "  </thead>\n",
       "  <tbody>\n",
       "    <tr>\n",
       "      <th>0</th>\n",
       "      <td>0</td>\n",
       "      <td>0.0</td>\n",
       "      <td>0.0</td>\n",
       "      <td>0.0</td>\n",
       "      <td>0</td>\n",
       "      <td>0</td>\n",
       "      <td>10</td>\n",
       "      <td>5006.423273</td>\n",
       "      <td>-6.618572</td>\n",
       "      <td>10064.789211</td>\n",
       "    </tr>\n",
       "    <tr>\n",
       "      <th>1</th>\n",
       "      <td>1</td>\n",
       "      <td>0.0</td>\n",
       "      <td>0.0</td>\n",
       "      <td>0.0</td>\n",
       "      <td>1</td>\n",
       "      <td>1</td>\n",
       "      <td>10</td>\n",
       "      <td>-4.241559</td>\n",
       "      <td>5011.932936</td>\n",
       "      <td>9984.840969</td>\n",
       "    </tr>\n",
       "    <tr>\n",
       "      <th>2</th>\n",
       "      <td>2</td>\n",
       "      <td>0.0</td>\n",
       "      <td>0.0</td>\n",
       "      <td>0.0</td>\n",
       "      <td>2</td>\n",
       "      <td>2</td>\n",
       "      <td>10</td>\n",
       "      <td>13.506236</td>\n",
       "      <td>-5006.094006</td>\n",
       "      <td>9961.920517</td>\n",
       "    </tr>\n",
       "    <tr>\n",
       "      <th>3</th>\n",
       "      <td>3</td>\n",
       "      <td>0.0</td>\n",
       "      <td>0.0</td>\n",
       "      <td>0.0</td>\n",
       "      <td>3</td>\n",
       "      <td>3</td>\n",
       "      <td>10</td>\n",
       "      <td>-4984.958634</td>\n",
       "      <td>-0.291319</td>\n",
       "      <td>10004.021689</td>\n",
       "    </tr>\n",
       "    <tr>\n",
       "      <th>4</th>\n",
       "      <td>0</td>\n",
       "      <td>0.0</td>\n",
       "      <td>1.0</td>\n",
       "      <td>0.0</td>\n",
       "      <td>0</td>\n",
       "      <td>0</td>\n",
       "      <td>10</td>\n",
       "      <td>4997.609230</td>\n",
       "      <td>-13.314041</td>\n",
       "      <td>10063.979486</td>\n",
       "    </tr>\n",
       "  </tbody>\n",
       "</table>\n",
       "</div>"
      ],
      "text/plain": [
       "   Unnamed: 0  load_time  radar_system_id  detection_time  detection_ao_id  \\\n",
       "0           0        0.0              0.0             0.0                0   \n",
       "1           1        0.0              0.0             0.0                1   \n",
       "2           2        0.0              0.0             0.0                2   \n",
       "3           3        0.0              0.0             0.0                3   \n",
       "4           0        0.0              1.0             0.0                0   \n",
       "\n",
       "   detection_id  detection_error  detection_x  detection_y   detection_z  \n",
       "0             0               10  5006.423273    -6.618572  10064.789211  \n",
       "1             1               10    -4.241559  5011.932936   9984.840969  \n",
       "2             2               10    13.506236 -5006.094006   9961.920517  \n",
       "3             3               10 -4984.958634    -0.291319  10004.021689  \n",
       "4             0               10  4997.609230   -13.314041  10063.979486  "
      ]
     },
     "execution_count": 4,
     "metadata": {},
     "output_type": "execute_result"
    }
   ],
   "source": [
    "data_train.head()"
   ]
  },
  {
   "cell_type": "code",
   "execution_count": null,
   "id": "21cc36c7-b20b-4a25-80ca-d33b4ebc46ad",
   "metadata": {},
   "outputs": [],
   "source": []
  },
  {
   "cell_type": "code",
   "execution_count": null,
   "id": "d4cf5b2b-41c3-485e-8688-66749af90791",
   "metadata": {},
   "outputs": [],
   "source": []
  },
  {
   "cell_type": "code",
   "execution_count": null,
   "id": "4c0a13a5-d806-4233-8465-cb82c7d25a15",
   "metadata": {},
   "outputs": [],
   "source": []
  },
  {
   "cell_type": "code",
   "execution_count": null,
   "id": "2a83d154-1e45-4472-8a64-00e280e756f2",
   "metadata": {},
   "outputs": [],
   "source": []
  },
  {
   "cell_type": "code",
   "execution_count": null,
   "id": "81864ac3-b884-4b68-9a50-10319795316c",
   "metadata": {},
   "outputs": [],
   "source": []
  },
  {
   "cell_type": "code",
   "execution_count": 11,
   "id": "7634f482-5c51-4df5-a9b3-6dacde01f771",
   "metadata": {},
   "outputs": [],
   "source": [
    "E, H  = 2, 3\n",
    "B, L  = 4, 5\n",
    "\n",
    "rnn = RNN(E, H)"
   ]
  },
  {
   "cell_type": "code",
   "execution_count": 19,
   "id": "0144a15b-bed1-4cb8-b983-330590322198",
   "metadata": {},
   "outputs": [
    {
     "name": "stdout",
     "output_type": "stream",
     "text": [
      "weight_ih_l0 : (3, 2)\n",
      "weight_hh_l0 : (3, 3)\n",
      "bias_ih_l0   : (3,)\n",
      "bias_hh_l0   : (3,)\n"
     ]
    }
   ],
   "source": [
    "for k, v in rnn.state_dict().items():\n",
    "    print(f'{k:12s} : {tuple(v.shape)}')"
   ]
  },
  {
   "cell_type": "code",
   "execution_count": 4,
   "id": "eefef889-af02-4f3d-85d8-3d8f9ae79c13",
   "metadata": {},
   "outputs": [
    {
     "name": "stdout",
     "output_type": "stream",
     "text": [
      "(5, 4, 3) (1, 4, 3)\n"
     ]
    }
   ],
   "source": [
    "X  = torch.rand(L, B, E)\n",
    "Y, Hn = rnn(X)\n",
    "print(tuple(Y.shape), tuple(Hn.shape))"
   ]
  },
  {
   "cell_type": "code",
   "execution_count": 5,
   "id": "6657faeb-b973-422b-a819-40127a04b201",
   "metadata": {},
   "outputs": [],
   "source": [
    "W_ih, W_hh = rnn.weight_ih_l0.detach(), rnn.weight_hh_l0.detach()\n",
    "B_ih, B_hh = rnn.bias_ih_l0.detach(),   rnn.bias_hh_l0.detach()"
   ]
  },
  {
   "cell_type": "code",
   "execution_count": 6,
   "id": "c82229c4-5fa0-4891-aff9-d6c9afc4535b",
   "metadata": {},
   "outputs": [
    {
     "name": "stdout",
     "output_type": "stream",
     "text": [
      "tensor([[-0.4665, -0.5514,  0.4214],\n",
      "        [-0.5177, -0.7107,  0.2671],\n",
      "        [-0.5061, -0.6985,  0.1490],\n",
      "        [-0.4652, -0.6110,  0.0387]])\n",
      "tensor([[-0.3184, -0.8571,  0.4663],\n",
      "        [-0.2735, -0.8709,  0.3482],\n",
      "        [-0.2609, -0.8453,  0.3728],\n",
      "        [-0.2420, -0.7918,  0.1533]])\n",
      "tensor([[-0.3116, -0.8174,  0.7222],\n",
      "        [-0.3775, -0.8796,  0.5908],\n",
      "        [-0.2790, -0.7193,  0.7300],\n",
      "        [-0.3717, -0.8559,  0.3738]])\n",
      "tensor([[-0.2909, -0.7784,  0.7681],\n",
      "        [-0.2676, -0.8084,  0.7210],\n",
      "        [-0.3776, -0.8489,  0.7490],\n",
      "        [-0.3240, -0.8775,  0.4747]])\n",
      "tensor([[-0.3714, -0.8669,  0.7030],\n",
      "        [-0.3683, -0.8531,  0.7403],\n",
      "        [-0.3252, -0.8854,  0.5531],\n",
      "        [-0.2785, -0.7842,  0.7161]])\n"
     ]
    }
   ],
   "source": [
    "Hn = torch.zeros(B,H)\n",
    "\n",
    "for x in X:\n",
    "    Hn =torch.tanh(  torch.addmm(B_ih, x,  W_ih.t()) \n",
    "                   + torch.addmm(B_hh, Hn, W_hh.t()) )\n",
    "    print(Hn)"
   ]
  },
  {
   "cell_type": "code",
   "execution_count": 7,
   "id": "171d82a0-dce0-4a21-ab70-80a797f947af",
   "metadata": {},
   "outputs": [
    {
     "name": "stdout",
     "output_type": "stream",
     "text": [
      "tensor([[[-0.4665, -0.5514,  0.4214],\n",
      "         [-0.5177, -0.7107,  0.2671],\n",
      "         [-0.5061, -0.6985,  0.1490],\n",
      "         [-0.4652, -0.6110,  0.0387]]], grad_fn=<StackBackward0>)\n",
      "tensor([[[-0.3184, -0.8571,  0.4663],\n",
      "         [-0.2735, -0.8709,  0.3482],\n",
      "         [-0.2609, -0.8453,  0.3728],\n",
      "         [-0.2420, -0.7918,  0.1533]]], grad_fn=<StackBackward0>)\n",
      "tensor([[[-0.3116, -0.8174,  0.7222],\n",
      "         [-0.3775, -0.8796,  0.5908],\n",
      "         [-0.2790, -0.7193,  0.7300],\n",
      "         [-0.3717, -0.8559,  0.3738]]], grad_fn=<StackBackward0>)\n",
      "tensor([[[-0.2909, -0.7784,  0.7681],\n",
      "         [-0.2676, -0.8084,  0.7210],\n",
      "         [-0.3776, -0.8489,  0.7490],\n",
      "         [-0.3240, -0.8775,  0.4747]]], grad_fn=<StackBackward0>)\n",
      "tensor([[[-0.3714, -0.8669,  0.7030],\n",
      "         [-0.3683, -0.8531,  0.7403],\n",
      "         [-0.3252, -0.8854,  0.5531],\n",
      "         [-0.2785, -0.7842,  0.7161]]], grad_fn=<StackBackward0>)\n"
     ]
    }
   ],
   "source": [
    "Hn = torch.zeros(1,B,H)\n",
    "for x in X:    \n",
    "    _, Hn = rnn( x.view(1,B,E), Hn )\n",
    "    print(Hn)"
   ]
  },
  {
   "cell_type": "code",
   "execution_count": null,
   "id": "d84f3c06-dac4-49a0-8d30-93c71309b8d2",
   "metadata": {},
   "outputs": [],
   "source": []
  },
  {
   "cell_type": "code",
   "execution_count": null,
   "id": "62c0387c-a540-47c9-8acd-de62941ef44d",
   "metadata": {},
   "outputs": [],
   "source": []
  },
  {
   "cell_type": "code",
   "execution_count": null,
   "id": "043d11c7-bbc5-4fcb-9891-dc04b1a761f1",
   "metadata": {},
   "outputs": [],
   "source": []
  },
  {
   "cell_type": "code",
   "execution_count": null,
   "id": "870571b1-091d-4a9e-9371-2c480829d8e8",
   "metadata": {},
   "outputs": [],
   "source": []
  },
  {
   "cell_type": "code",
   "execution_count": null,
   "id": "4c4b592a-699f-481f-966c-a10e2276fbf1",
   "metadata": {},
   "outputs": [],
   "source": []
  },
  {
   "cell_type": "code",
   "execution_count": null,
   "id": "28e42b28-ac3d-4997-877a-326df2ebc774",
   "metadata": {},
   "outputs": [],
   "source": []
  }
 ],
 "metadata": {
  "kernelspec": {
   "display_name": "Python 3 (ipykernel)",
   "language": "python",
   "name": "python3"
  },
  "language_info": {
   "codemirror_mode": {
    "name": "ipython",
    "version": 3
   },
   "file_extension": ".py",
   "mimetype": "text/x-python",
   "name": "python",
   "nbconvert_exporter": "python",
   "pygments_lexer": "ipython3",
   "version": "3.9.6"
  }
 },
 "nbformat": 4,
 "nbformat_minor": 5
}
