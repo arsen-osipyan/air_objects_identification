{
 "cells": [
  {
   "cell_type": "code",
   "execution_count": 1,
   "id": "d379d70d-e140-4614-88d3-e0b887b13247",
   "metadata": {},
   "outputs": [],
   "source": [
    "import torch\n",
    "import torch.nn as nn\n",
    "\n",
    "import airsim"
   ]
  },
  {
   "cell_type": "code",
   "execution_count": 2,
   "id": "7634f482-5c51-4df5-a9b3-6dacde01f771",
   "metadata": {},
   "outputs": [],
   "source": [
    "E, H  = 2, 3\n",
    "B, L  = 4, 5\n",
    "\n",
    "rnn = nn.RNN(E, H)"
   ]
  },
  {
   "cell_type": "code",
   "execution_count": 3,
   "id": "0144a15b-bed1-4cb8-b983-330590322198",
   "metadata": {},
   "outputs": [
    {
     "name": "stdout",
     "output_type": "stream",
     "text": [
      "weight_ih_l0 : (3, 2)\n",
      "weight_hh_l0 : (3, 3)\n",
      "bias_ih_l0 : (3,)\n",
      "bias_hh_l0 : (3,)\n"
     ]
    }
   ],
   "source": [
    "for k, v in rnn.state_dict().items():\n",
    "    print(f'{k:10s} : {tuple(v.shape)}')"
   ]
  },
  {
   "cell_type": "code",
   "execution_count": 9,
   "id": "eefef889-af02-4f3d-85d8-3d8f9ae79c13",
   "metadata": {},
   "outputs": [
    {
     "name": "stdout",
     "output_type": "stream",
     "text": [
      "(5, 4, 3) (1, 4, 3)\n"
     ]
    },
    {
     "data": {
      "text/plain": [
       "tensor([[[-0.5892, -0.7327, -0.7597],\n",
       "         [-0.6388, -0.7431, -0.7853],\n",
       "         [-0.6909, -0.6159, -0.6811],\n",
       "         [-0.5768, -0.6716, -0.6906]],\n",
       "\n",
       "        [[-0.6946, -0.0788, -0.6712],\n",
       "         [-0.6010, -0.0499, -0.6274],\n",
       "         [-0.7398,  0.0119, -0.6447],\n",
       "         [-0.4624, -0.1920, -0.6333]],\n",
       "\n",
       "        [[-0.7228, -0.4213, -0.6799],\n",
       "         [-0.7076, -0.3794, -0.5940],\n",
       "         [-0.8328, -0.2243, -0.5916],\n",
       "         [-0.7911, -0.4191, -0.6873]],\n",
       "\n",
       "        [[-0.6418, -0.3269, -0.7339],\n",
       "         [-0.5429, -0.3485, -0.7091],\n",
       "         [-0.7455, -0.1306, -0.6357],\n",
       "         [-0.5461, -0.2064, -0.6436]],\n",
       "\n",
       "        [[-0.6439, -0.0139, -0.3838],\n",
       "         [-0.7741, -0.2550, -0.6453],\n",
       "         [-0.5617, -0.4312, -0.6689],\n",
       "         [-0.7838, -0.2850, -0.6220]]], grad_fn=<StackBackward0>)"
      ]
     },
     "execution_count": 9,
     "metadata": {},
     "output_type": "execute_result"
    }
   ],
   "source": [
    "X  = torch.rand(L, B, E)\n",
    "Y, Hn = rnn(X)\n",
    "print(tuple(Y.shape), tuple(Hn.shape))"
   ]
  },
  {
   "cell_type": "code",
   "execution_count": 5,
   "id": "6657faeb-b973-422b-a819-40127a04b201",
   "metadata": {},
   "outputs": [],
   "source": [
    "W_ih, W_hh = rnn.weight_ih_l0.detach(), rnn.weight_hh_l0.detach()\n",
    "B_ih, B_hh = rnn.bias_ih_l0.detach(),   rnn.bias_hh_l0.detach()"
   ]
  },
  {
   "cell_type": "code",
   "execution_count": 6,
   "id": "c82229c4-5fa0-4891-aff9-d6c9afc4535b",
   "metadata": {},
   "outputs": [
    {
     "name": "stdout",
     "output_type": "stream",
     "text": [
      "tensor([[-0.6241, -0.6546, -0.6907],\n",
      "        [-0.6302, -0.7953, -0.8331],\n",
      "        [-0.4298, -0.7612, -0.7472],\n",
      "        [-0.5355, -0.6998, -0.7071]])\n",
      "tensor([[-0.6029, -0.0277, -0.5855],\n",
      "        [-0.5112, -0.0350, -0.5878],\n",
      "        [-0.5839,  0.0292, -0.4721],\n",
      "        [-0.4434,  0.1026, -0.3651]])\n",
      "tensor([[-0.8247, -0.4566, -0.7299],\n",
      "        [-0.7248, -0.5091, -0.6773],\n",
      "        [-0.7972, -0.4669, -0.7140],\n",
      "        [-0.5600, -0.6489, -0.6995]])\n",
      "tensor([[-0.7217, -0.2778, -0.7733],\n",
      "        [-0.7296,  0.0712, -0.5544],\n",
      "        [-0.7343, -0.2306, -0.7528],\n",
      "        [-0.4039, -0.1314, -0.5416]])\n",
      "tensor([[-0.7988, -0.1129, -0.5872],\n",
      "        [-0.8177, -0.5626, -0.8028],\n",
      "        [-0.6999,  0.0087, -0.3847],\n",
      "        [-0.6034, -0.3323, -0.4602]])\n"
     ]
    }
   ],
   "source": [
    "Hn = torch.zeros(B,H)\n",
    "\n",
    "for x in X:\n",
    "    Hn =torch.tanh(  torch.addmm(B_ih, x,  W_ih.t()) \n",
    "                   + torch.addmm(B_hh, Hn, W_hh.t()) )\n",
    "    print(Hn)"
   ]
  },
  {
   "cell_type": "code",
   "execution_count": 7,
   "id": "171d82a0-dce0-4a21-ab70-80a797f947af",
   "metadata": {},
   "outputs": [
    {
     "name": "stdout",
     "output_type": "stream",
     "text": [
      "tensor([[[-0.6241, -0.6546, -0.6907],\n",
      "         [-0.6302, -0.7953, -0.8331],\n",
      "         [-0.4298, -0.7612, -0.7472],\n",
      "         [-0.5355, -0.6998, -0.7071]]], grad_fn=<StackBackward0>)\n",
      "tensor([[[-0.6029, -0.0277, -0.5855],\n",
      "         [-0.5112, -0.0350, -0.5878],\n",
      "         [-0.5839,  0.0292, -0.4721],\n",
      "         [-0.4434,  0.1026, -0.3651]]], grad_fn=<StackBackward0>)\n",
      "tensor([[[-0.8247, -0.4566, -0.7299],\n",
      "         [-0.7248, -0.5091, -0.6773],\n",
      "         [-0.7972, -0.4669, -0.7140],\n",
      "         [-0.5600, -0.6489, -0.6995]]], grad_fn=<StackBackward0>)\n",
      "tensor([[[-0.7217, -0.2778, -0.7733],\n",
      "         [-0.7296,  0.0712, -0.5544],\n",
      "         [-0.7343, -0.2306, -0.7528],\n",
      "         [-0.4039, -0.1314, -0.5416]]], grad_fn=<StackBackward0>)\n",
      "tensor([[[-0.7988, -0.1129, -0.5872],\n",
      "         [-0.8177, -0.5626, -0.8028],\n",
      "         [-0.6999,  0.0087, -0.3847],\n",
      "         [-0.6034, -0.3323, -0.4602]]], grad_fn=<StackBackward0>)\n"
     ]
    }
   ],
   "source": [
    "Hn = torch.zeros(1,B,H)\n",
    "for x in X:    \n",
    "    _, Hn = rnn( x.view(1,B,E), Hn )\n",
    "    print(Hn)"
   ]
  },
  {
   "cell_type": "code",
   "execution_count": null,
   "id": "d84f3c06-dac4-49a0-8d30-93c71309b8d2",
   "metadata": {},
   "outputs": [],
   "source": []
  }
 ],
 "metadata": {
  "kernelspec": {
   "display_name": "Python 3 (ipykernel)",
   "language": "python",
   "name": "python3"
  },
  "language_info": {
   "codemirror_mode": {
    "name": "ipython",
    "version": 3
   },
   "file_extension": ".py",
   "mimetype": "text/x-python",
   "name": "python",
   "nbconvert_exporter": "python",
   "pygments_lexer": "ipython3",
   "version": "3.9.6"
  }
 },
 "nbformat": 4,
 "nbformat_minor": 5
}
