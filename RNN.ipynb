{
 "cells": [
  {
   "cell_type": "code",
   "execution_count": 1,
   "id": "3fd17520-2da5-4867-80a3-eab4972e6603",
   "metadata": {},
   "outputs": [],
   "source": [
    "import numpy as np\n",
    "import pandas as pd\n",
    "import matplotlib.pyplot as plt\n",
    "\n",
    "import torch\n",
    "import torch.nn as nn\n",
    "# import torchvision\n",
    "# import torchvision.transforms as transforms\n",
    "\n",
    "from airsim.collections import AirObject, AirEnv, RadarSystem, ControlPoint, Supervisor"
   ]
  },
  {
   "cell_type": "code",
   "execution_count": 2,
   "id": "d82bb0f2-6ba3-4081-b113-22cf1736f55d",
   "metadata": {},
   "outputs": [],
   "source": [
    "# Device configuration\n",
    "device = torch.device('cuda' if torch.cuda.is_available() else 'cpu')"
   ]
  },
  {
   "cell_type": "code",
   "execution_count": 3,
   "id": "6bc67b1c-2be2-4914-be64-605d0179c3ac",
   "metadata": {},
   "outputs": [],
   "source": [
    "class RNN(nn.Module):\n",
    "    \n",
    "    def __init__(self, input_size, hidden_size, output_size, num_layers, cell_type='RNN'):\n",
    "        super(RNN, self).__init__()\n",
    "        self.hidden_size = hidden_size\n",
    "        self.input_size = input_size\n",
    "        self.output_size = output_size\n",
    "        self.num_layers = num_layers\n",
    "        \n",
    "        if cell_type == 'LSTM':\n",
    "            self.rnn = nn.LSTM(input_size, hidden_size, num_layers, batch_first=True)\n",
    "        elif cell_type == 'GRU':\n",
    "            self.rnn = nn.GRU(input_size, hidden_size, num_layers, batch_first=True)\n",
    "        else:\n",
    "            self.rnn = nn.RNN(input_size, hidden_size, num_layers, batch_first=True)\n",
    "        \n",
    "        self.fc = nn.Linear(hidden_size, output_size)\n",
    "    \n",
    "    def forward(self, x):\n",
    "        h0 = torch.zeros(self.num_layers, x.size(0), self.hidden_size).to(device) \n",
    "        c0 = torch.zeros(self.num_layers, x.size(0), self.hidden_size).to(device)\n",
    "        \n",
    "        out, _ = self.rnn(x, (h0, c0))\n",
    "        \n",
    "        out = self.fc(out[:, -1, :]) \n",
    "        return out"
   ]
  },
  {
   "cell_type": "code",
   "execution_count": 4,
   "id": "da84ef36-ee35-44a2-8aff-d62d85ed1460",
   "metadata": {},
   "outputs": [],
   "source": [
    "# # Fully connected neural network with one hidden layer\n",
    "# class RNN(nn.Module):\n",
    "#     def __init__(self, input_size, hidden_size, num_layers, num_classes):\n",
    "#         super(RNN, self).__init__()\n",
    "#         self.num_layers = num_layers\n",
    "#         self.hidden_size = hidden_size\n",
    "#         self.rnn = nn.RNN(input_size, hidden_size, num_layers, batch_first=True)\n",
    "#         # -> x needs to be: (batch_size, seq, input_size)\n",
    "        \n",
    "#         # or:\n",
    "#         #self.gru = nn.GRU(input_size, hidden_size, num_layers, batch_first=True)\n",
    "#         #self.lstm = nn.LSTM(input_size, hidden_size, num_layers, batch_first=True)\n",
    "#         self.fc = nn.Linear(hidden_size, num_classes)\n",
    "        \n",
    "#     def forward(self, x):\n",
    "#         # Set initial hidden states (and cell states for LSTM)\n",
    "#         h0 = torch.zeros(self.num_layers, x.size(0), self.hidden_size).to(device) \n",
    "#         #c0 = torch.zeros(self.num_layers, x.size(0), self.hidden_size).to(device) \n",
    "        \n",
    "#         # x: (n, 28, 28), h0: (2, n, 128)\n",
    "        \n",
    "#         # Forward propagate RNN\n",
    "#         out, _ = self.rnn(x, h0)\n",
    "#         print(out)\n",
    "#         print(_)\n",
    "#         # or:\n",
    "#         #out, _ = self.lstm(x, (h0,c0))  \n",
    "        \n",
    "#         # out: tensor of shape (batch_size, seq_length, hidden_size)\n",
    "#         # out: (n, 28, 128)\n",
    "        \n",
    "#         # Decode the hidden state of the last time step\n",
    "#         out = out[:, -1, :]\n",
    "#         # out: (n, 128)\n",
    "         \n",
    "#         out = self.fc(out)\n",
    "#         # out: (n, 10)\n",
    "#         return out"
   ]
  },
  {
   "cell_type": "code",
   "execution_count": 5,
   "id": "7b81b0aa-5e8b-41f3-ac0a-dfa0a2cf325f",
   "metadata": {},
   "outputs": [],
   "source": [
    "air_objects = [\n",
    "    AirObject(position=[ 4000,  4000,  9980], velocity=[-20, -20, 0], acceleration=[0, 0, 0]),\n",
    "    AirObject(position=[ 4000, -4000, 10020], velocity=[-20,  20, 0], acceleration=[0, 0, 0]),\n",
    "    AirObject(position=[-4000,  4000, 10000], velocity=[ 10, -20, 0], acceleration=[0, 0, 0]),\n",
    "    AirObject(position=[-4000, -4000, 10000], velocity=[ 20,  10, 0], acceleration=[0, 0, 0])\n",
    "]\n",
    "\n",
    "radar_systems = [\n",
    "    RadarSystem(position=[ 4000,  4000, 0], detection_radius=100000, error=20),\n",
    "    RadarSystem(position=[ 4000, -4000, 0], detection_radius=100000, error=20),\n",
    "    RadarSystem(position=[-4000,  4000, 0], detection_radius=100000, error=20),\n",
    "    RadarSystem(position=[-4000, -4000, 0], detection_radius=100000, error=20)\n",
    "]\n",
    "\n",
    "air_env = AirEnv()\n",
    "for ao in air_objects:\n",
    "    air_env.attach_air_object(ao)\n",
    "\n",
    "control_point = ControlPoint()\n",
    "for rs in radar_systems:\n",
    "    rs.attach_air_environment(air_env)\n",
    "    control_point.attach_radar_system(rs)\n",
    "\n",
    "supervisor = Supervisor()\n",
    "supervisor.attach_air_environment(air_env)\n",
    "supervisor.attach_control_point(control_point)\n",
    "supervisor.attach_radar_systems(radar_systems)"
   ]
  },
  {
   "cell_type": "code",
   "execution_count": 6,
   "id": "3dcafefd-5c9d-4e8c-89a3-d91be94776d6",
   "metadata": {},
   "outputs": [],
   "source": [
    "dt          =   0.5\n",
    "t_train_min =   0.0\n",
    "t_train_max = 200.0\n",
    "t_test_max  = 300.0"
   ]
  },
  {
   "cell_type": "code",
   "execution_count": 7,
   "id": "8ed024fc-ace5-4960-b066-08eea91735a5",
   "metadata": {},
   "outputs": [],
   "source": [
    "air_env.set_public_ids(True)\n",
    "supervisor.run(t_train_min, t_train_max, dt)\n",
    "\n",
    "air_env.set_public_ids(False)\n",
    "supervisor.run(t_train_max + dt, t_test_max, dt)"
   ]
  },
  {
   "cell_type": "code",
   "execution_count": 8,
   "id": "39c148d9-b2a1-4a35-9a58-b3b3bfb690e0",
   "metadata": {},
   "outputs": [
    {
     "data": {
      "text/html": [
       "<div>\n",
       "<style scoped>\n",
       "    .dataframe tbody tr th:only-of-type {\n",
       "        vertical-align: middle;\n",
       "    }\n",
       "\n",
       "    .dataframe tbody tr th {\n",
       "        vertical-align: top;\n",
       "    }\n",
       "\n",
       "    .dataframe thead th {\n",
       "        text-align: right;\n",
       "    }\n",
       "</style>\n",
       "<table border=\"1\" class=\"dataframe\">\n",
       "  <thead>\n",
       "    <tr style=\"text-align: right;\">\n",
       "      <th></th>\n",
       "      <th>detection_time</th>\n",
       "      <th>radar_system_id</th>\n",
       "      <th>air_object_id</th>\n",
       "      <th>detection_error</th>\n",
       "      <th>air_object_x</th>\n",
       "      <th>air_object_y</th>\n",
       "      <th>air_object_z</th>\n",
       "    </tr>\n",
       "  </thead>\n",
       "  <tbody>\n",
       "    <tr>\n",
       "      <th>0</th>\n",
       "      <td>0.0</td>\n",
       "      <td>0.0</td>\n",
       "      <td>0</td>\n",
       "      <td>20</td>\n",
       "      <td>3974.925331</td>\n",
       "      <td>4029.571578</td>\n",
       "      <td>9984.310764</td>\n",
       "    </tr>\n",
       "    <tr>\n",
       "      <th>1</th>\n",
       "      <td>0.0</td>\n",
       "      <td>0.0</td>\n",
       "      <td>1</td>\n",
       "      <td>20</td>\n",
       "      <td>3996.767680</td>\n",
       "      <td>-4016.421875</td>\n",
       "      <td>10019.599076</td>\n",
       "    </tr>\n",
       "    <tr>\n",
       "      <th>2</th>\n",
       "      <td>0.0</td>\n",
       "      <td>0.0</td>\n",
       "      <td>2</td>\n",
       "      <td>20</td>\n",
       "      <td>-4005.442061</td>\n",
       "      <td>4027.112450</td>\n",
       "      <td>10017.857596</td>\n",
       "    </tr>\n",
       "    <tr>\n",
       "      <th>3</th>\n",
       "      <td>0.0</td>\n",
       "      <td>0.0</td>\n",
       "      <td>3</td>\n",
       "      <td>20</td>\n",
       "      <td>-3999.387330</td>\n",
       "      <td>-4020.318595</td>\n",
       "      <td>9976.279052</td>\n",
       "    </tr>\n",
       "    <tr>\n",
       "      <th>4</th>\n",
       "      <td>0.0</td>\n",
       "      <td>1.0</td>\n",
       "      <td>0</td>\n",
       "      <td>20</td>\n",
       "      <td>4025.577859</td>\n",
       "      <td>3998.637210</td>\n",
       "      <td>9980.620848</td>\n",
       "    </tr>\n",
       "    <tr>\n",
       "      <th>...</th>\n",
       "      <td>...</td>\n",
       "      <td>...</td>\n",
       "      <td>...</td>\n",
       "      <td>...</td>\n",
       "      <td>...</td>\n",
       "      <td>...</td>\n",
       "      <td>...</td>\n",
       "    </tr>\n",
       "    <tr>\n",
       "      <th>9611</th>\n",
       "      <td>300.0</td>\n",
       "      <td>2.0</td>\n",
       "      <td>-1</td>\n",
       "      <td>20</td>\n",
       "      <td>1995.613124</td>\n",
       "      <td>-1023.387732</td>\n",
       "      <td>9951.305349</td>\n",
       "    </tr>\n",
       "    <tr>\n",
       "      <th>9612</th>\n",
       "      <td>300.0</td>\n",
       "      <td>3.0</td>\n",
       "      <td>-1</td>\n",
       "      <td>20</td>\n",
       "      <td>-1974.494439</td>\n",
       "      <td>-1988.505636</td>\n",
       "      <td>10004.685671</td>\n",
       "    </tr>\n",
       "    <tr>\n",
       "      <th>9613</th>\n",
       "      <td>300.0</td>\n",
       "      <td>3.0</td>\n",
       "      <td>-1</td>\n",
       "      <td>20</td>\n",
       "      <td>-1987.503979</td>\n",
       "      <td>1993.180194</td>\n",
       "      <td>10064.460175</td>\n",
       "    </tr>\n",
       "    <tr>\n",
       "      <th>9614</th>\n",
       "      <td>300.0</td>\n",
       "      <td>3.0</td>\n",
       "      <td>-1</td>\n",
       "      <td>20</td>\n",
       "      <td>-997.198242</td>\n",
       "      <td>-1987.543967</td>\n",
       "      <td>9992.141455</td>\n",
       "    </tr>\n",
       "    <tr>\n",
       "      <th>9615</th>\n",
       "      <td>300.0</td>\n",
       "      <td>3.0</td>\n",
       "      <td>-1</td>\n",
       "      <td>20</td>\n",
       "      <td>2003.354205</td>\n",
       "      <td>-981.228690</td>\n",
       "      <td>9980.605673</td>\n",
       "    </tr>\n",
       "  </tbody>\n",
       "</table>\n",
       "<p>9616 rows × 7 columns</p>\n",
       "</div>"
      ],
      "text/plain": [
       "      detection_time  radar_system_id  air_object_id  detection_error  \\\n",
       "0                0.0              0.0              0               20   \n",
       "1                0.0              0.0              1               20   \n",
       "2                0.0              0.0              2               20   \n",
       "3                0.0              0.0              3               20   \n",
       "4                0.0              1.0              0               20   \n",
       "...              ...              ...            ...              ...   \n",
       "9611           300.0              2.0             -1               20   \n",
       "9612           300.0              3.0             -1               20   \n",
       "9613           300.0              3.0             -1               20   \n",
       "9614           300.0              3.0             -1               20   \n",
       "9615           300.0              3.0             -1               20   \n",
       "\n",
       "      air_object_x  air_object_y  air_object_z  \n",
       "0      3974.925331   4029.571578   9984.310764  \n",
       "1      3996.767680  -4016.421875  10019.599076  \n",
       "2     -4005.442061   4027.112450  10017.857596  \n",
       "3     -3999.387330  -4020.318595   9976.279052  \n",
       "4      4025.577859   3998.637210   9980.620848  \n",
       "...            ...           ...           ...  \n",
       "9611   1995.613124  -1023.387732   9951.305349  \n",
       "9612  -1974.494439  -1988.505636  10004.685671  \n",
       "9613  -1987.503979   1993.180194  10064.460175  \n",
       "9614   -997.198242  -1987.543967   9992.141455  \n",
       "9615   2003.354205   -981.228690   9980.605673  \n",
       "\n",
       "[9616 rows x 7 columns]"
      ]
     },
     "execution_count": 8,
     "metadata": {},
     "output_type": "execute_result"
    }
   ],
   "source": [
    "data = control_point.get_data()[['detection_time', 'radar_system_id', 'air_object_id', 'detection_error',\n",
    "                                 'air_object_x', 'air_object_y', 'air_object_z']]\n",
    "data"
   ]
  },
  {
   "cell_type": "code",
   "execution_count": 9,
   "id": "f79c6676-ebde-4d3b-84a9-60ece98def82",
   "metadata": {},
   "outputs": [
    {
     "name": "stdout",
     "output_type": "stream",
     "text": [
      "Сформирована выборка для обучения\n",
      "Размер датафрейма признаков - (6416, 6)\n",
      "Размер датафрейма ответов - (6416,)\n"
     ]
    }
   ],
   "source": [
    "x_train = data[(data['detection_time'] >= t_train_min) & (data['detection_time'] <= t_train_max) & (data['air_object_id'].isna() >= 0)][[\n",
    "    'detection_time', 'radar_system_id', 'air_object_x', 'air_object_y', 'air_object_z', 'detection_error'\n",
    "]]\n",
    "y_train = data[(data['detection_time'] >= t_train_min) & (data['detection_time'] <= t_train_max) & (data['air_object_id'].isna() >= 0)][\n",
    "    'air_object_id'\n",
    "]\n",
    "\n",
    "print(f'Сформирована выборка для обучения')\n",
    "print(f'Размер датафрейма признаков - {x_train.shape}')\n",
    "print(f'Размер датафрейма ответов - {y_train.shape}')"
   ]
  },
  {
   "cell_type": "code",
   "execution_count": 10,
   "id": "a315e1f6-5b46-4eeb-af37-d9b6370d7800",
   "metadata": {},
   "outputs": [
    {
     "name": "stdout",
     "output_type": "stream",
     "text": [
      "Сформирована выборка для обучения\n",
      "Размер датафрейма признаков - (0, 6)\n"
     ]
    }
   ],
   "source": [
    "x_test = data[(data['detection_time'] > t_train_max) & (data['detection_time'] <= t_test_max) & (data['air_object_id'].isna() == -1)][[\n",
    "    'detection_time', 'radar_system_id', 'air_object_x', 'air_object_y', 'air_object_z', 'detection_error'\n",
    "]]\n",
    "\n",
    "print(f'Сформирована выборка для обучения')\n",
    "print(f'Размер датафрейма признаков - {x_test.shape}')"
   ]
  },
  {
   "cell_type": "code",
   "execution_count": 13,
   "id": "2b56633c-6d0e-402d-9982-13e04f2d2c60",
   "metadata": {},
   "outputs": [
    {
     "name": "stdout",
     "output_type": "stream",
     "text": [
      "torch.Size([16, 401, 5])\n"
     ]
    }
   ],
   "source": [
    "train = []\n",
    "for t in np.linspace(t_train_min, t_train_max, int((t_train_max - t_train_min)/dt + 1)):\n",
    "    train_t_df = data[data['detection_time'] == t][['air_object_x', 'air_object_y', 'air_object_z', 'detection_error', 'air_object_id']]\n",
    "    # print(train_t_df.dtypes)\n",
    "    # print(xt_train.shape)\n",
    "    train_t = train_t_df.to_numpy()\n",
    "    # print(xt_train)\n",
    "    train.append(train_t)\n",
    "\n",
    "train = torch.from_numpy(np.array(train)).transpose(0, 1)\n",
    "print(train.shape)"
   ]
  },
  {
   "cell_type": "code",
   "execution_count": 14,
   "id": "a52106dd-fdfa-4ea4-b9dd-b5a8da849573",
   "metadata": {},
   "outputs": [
    {
     "name": "stdout",
     "output_type": "stream",
     "text": [
      "torch.Size([16, 200, 5])\n"
     ]
    }
   ],
   "source": [
    "test = []\n",
    "for t in np.linspace(t_train_max + dt, t_test_max, int((t_test_max - t_train_max)/dt)):\n",
    "    test_t_df = data[data['detection_time'] == t][['air_object_x', 'air_object_y', 'air_object_z', 'detection_error', 'air_object_id']]\n",
    "    # print(train_t_df.dtypes)\n",
    "    # print(xt_train.shape)\n",
    "    test_t = test_t_df.to_numpy()\n",
    "    # print(xt_train)\n",
    "    test.append(test_t)\n",
    "\n",
    "test = torch.from_numpy(np.array(test)).transpose(0, 1)\n",
    "print(test.shape)"
   ]
  },
  {
   "cell_type": "code",
   "execution_count": null,
   "id": "19a9cd52-225c-40a1-bc5e-c48862f2b343",
   "metadata": {},
   "outputs": [],
   "source": []
  },
  {
   "cell_type": "code",
   "execution_count": null,
   "id": "b3d879bb-7f61-4a31-a169-2586227246e8",
   "metadata": {},
   "outputs": [],
   "source": []
  },
  {
   "cell_type": "code",
   "execution_count": 12,
   "id": "7da6b9d5-152b-4d81-b29f-3ef1d8d5ee4d",
   "metadata": {},
   "outputs": [
    {
     "ename": "RuntimeError",
     "evalue": "",
     "output_type": "error",
     "traceback": [
      "\u001b[0;31m---------------------------------------------------------------------------\u001b[0m",
      "\u001b[0;31mRuntimeError\u001b[0m                              Traceback (most recent call last)",
      "Cell \u001b[0;32mIn[12], line 1\u001b[0m\n\u001b[0;32m----> 1\u001b[0m \u001b[38;5;28;01mraise\u001b[39;00m \u001b[38;5;167;01mRuntimeError\u001b[39;00m()\n",
      "\u001b[0;31mRuntimeError\u001b[0m: "
     ]
    }
   ],
   "source": [
    "raise RuntimeError()"
   ]
  },
  {
   "cell_type": "code",
   "execution_count": null,
   "id": "710b9982-047b-484f-92ec-8bfec9001981",
   "metadata": {},
   "outputs": [],
   "source": [
    "# num_classes = 10\n",
    "# num_epochs = 2\n",
    "batch_size = 16\n",
    "learning_rate = 0.001\n",
    "\n",
    "input_size = 4\n",
    "sequence_length = int((t_train_max - t_train_min)/dt + 1)\n",
    "# hidden_size = 128\n",
    "# num_layers = 2"
   ]
  },
  {
   "cell_type": "code",
   "execution_count": null,
   "id": "b80b239c-ec2e-49a7-92e2-dd5748e2add1",
   "metadata": {},
   "outputs": [],
   "source": [
    "model = RNN(\n",
    "    input_size=input_size,\n",
    "    hidden_size=6,\n",
    "    output_size=1,\n",
    "    num_layers=2,\n",
    "    cell_type='LSTM'\n",
    ").to(device)"
   ]
  },
  {
   "cell_type": "code",
   "execution_count": null,
   "id": "1f6b24e9-2520-441a-bdc9-74d61b674ef1",
   "metadata": {},
   "outputs": [],
   "source": [
    "# Loss and optimizer\n",
    "criterion = nn.CrossEntropyLoss()\n",
    "optimizer = torch.optim.Adam(model.parameters(), lr=0.001)  "
   ]
  },
  {
   "cell_type": "code",
   "execution_count": null,
   "id": "0120ea9a-a4a7-4fe7-9687-a5eeb42a3445",
   "metadata": {},
   "outputs": [],
   "source": [
    "# Train the model\n",
    "n_total_steps = len(train_loader)\n",
    "for epoch in range(num_epochs):\n",
    "    for i, (images, labels) in enumerate(train_loader):  \n",
    "        # origin shape: [N, 1, 28, 28]\n",
    "        # resized: [N, 28, 28]\n",
    "        images = images.reshape(-1, sequence_length, input_size).to(device)\n",
    "        labels = labels.to(device)\n",
    "        \n",
    "        # Forward pass\n",
    "        outputs = model(images)\n",
    "        loss = criterion(outputs, labels)\n",
    "        \n",
    "        # Backward and optimize\n",
    "        optimizer.zero_grad()\n",
    "        loss.backward()\n",
    "        optimizer.step()\n",
    "        \n",
    "        if (i+1) % 100 == 0:\n",
    "            print (f'Epoch [{epoch+1}/{num_epochs}], Step [{i+1}/{n_total_steps}], Loss: {loss.item():.4f}')"
   ]
  },
  {
   "cell_type": "code",
   "execution_count": null,
   "id": "66c54fb2-d1f5-443b-bc4d-abca99925abf",
   "metadata": {},
   "outputs": [],
   "source": [
    "# Test the model\n",
    "# In test phase, we don't need to compute gradients (for memory efficiency)\n",
    "with torch.no_grad():\n",
    "    n_correct = 0\n",
    "    n_samples = 0\n",
    "    for images, labels in test_loader:\n",
    "        images = images.reshape(-1, sequence_length, input_size).to(device)\n",
    "        labels = labels.to(device)\n",
    "        outputs = model(images)\n",
    "        # max returns (value ,index)\n",
    "        _, predicted = torch.max(outputs.data, 1)\n",
    "        n_samples += labels.size(0)\n",
    "        n_correct += (predicted == labels).sum().item()\n",
    "\n",
    "    acc = 100.0 * n_correct / n_samples\n",
    "    print(f'Accuracy of the network on the 10000 test images: {acc} %')"
   ]
  },
  {
   "cell_type": "code",
   "execution_count": null,
   "id": "bf5a1641-a265-4a7b-8aee-6a0b5959e2ac",
   "metadata": {},
   "outputs": [],
   "source": []
  },
  {
   "cell_type": "code",
   "execution_count": null,
   "id": "d521335e-d5b5-4bab-b2a2-7036444ba2f3",
   "metadata": {},
   "outputs": [],
   "source": []
  },
  {
   "cell_type": "code",
   "execution_count": null,
   "id": "5040b40f-9f8b-473c-a2c1-26aeb4300576",
   "metadata": {},
   "outputs": [],
   "source": []
  },
  {
   "cell_type": "code",
   "execution_count": null,
   "id": "5838b5f5-2c52-43ed-8ff0-e264f0dbcc3e",
   "metadata": {},
   "outputs": [],
   "source": []
  },
  {
   "cell_type": "code",
   "execution_count": null,
   "id": "656f0c27-2b3f-436d-848b-425f124ea308",
   "metadata": {},
   "outputs": [],
   "source": []
  },
  {
   "cell_type": "code",
   "execution_count": null,
   "id": "3b3d6c83-e925-4f67-9f98-42621dfefc7a",
   "metadata": {},
   "outputs": [],
   "source": []
  },
  {
   "cell_type": "code",
   "execution_count": null,
   "id": "776f2848-332a-4d6c-8f5e-82529a55cdc1",
   "metadata": {},
   "outputs": [],
   "source": []
  },
  {
   "cell_type": "code",
   "execution_count": null,
   "id": "94e07851-d1bb-4e12-85be-b5b601508dd6",
   "metadata": {},
   "outputs": [],
   "source": []
  },
  {
   "cell_type": "code",
   "execution_count": null,
   "id": "0ff756fc-cf0e-4f72-8ada-8d70983201e6",
   "metadata": {},
   "outputs": [],
   "source": []
  },
  {
   "cell_type": "code",
   "execution_count": null,
   "id": "166eab7c-18f7-4181-b407-f091f3fe8e52",
   "metadata": {},
   "outputs": [],
   "source": []
  },
  {
   "cell_type": "code",
   "execution_count": null,
   "id": "5b1d1753-50aa-40c7-a49d-5ccbae577eb5",
   "metadata": {},
   "outputs": [],
   "source": []
  },
  {
   "cell_type": "code",
   "execution_count": null,
   "id": "4a7f635d-3733-4600-9f5a-829df5ad9525",
   "metadata": {},
   "outputs": [],
   "source": []
  },
  {
   "cell_type": "code",
   "execution_count": null,
   "id": "8300766f-8453-4ce9-8015-b7cf4952d53f",
   "metadata": {},
   "outputs": [],
   "source": []
  }
 ],
 "metadata": {
  "kernelspec": {
   "display_name": "Python 3 (ipykernel)",
   "language": "python",
   "name": "python3"
  },
  "language_info": {
   "codemirror_mode": {
    "name": "ipython",
    "version": 3
   },
   "file_extension": ".py",
   "mimetype": "text/x-python",
   "name": "python",
   "nbconvert_exporter": "python",
   "pygments_lexer": "ipython3",
   "version": "3.9.6"
  }
 },
 "nbformat": 4,
 "nbformat_minor": 5
}
