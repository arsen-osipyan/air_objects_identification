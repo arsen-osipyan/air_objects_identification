{
 "cells": [
  {
   "cell_type": "code",
   "execution_count": 1,
   "id": "322b01a5-63f4-42f2-bfb7-b34b62a4006d",
   "metadata": {},
   "outputs": [],
   "source": [
    "import numpy as np\n",
    "import pandas as pd\n",
    "\n",
    "from tqdm import tqdm, trange\n",
    "\n",
    "from airsim.collections import AirObject, AirEnv, RadarSystem, ControlPoint, Supervisor\n",
    "from airsim.time import Time"
   ]
  },
  {
   "cell_type": "code",
   "execution_count": 2,
   "id": "03fa0ba5-a852-4318-bb2c-f018ba24b28d",
   "metadata": {},
   "outputs": [],
   "source": [
    "class DataGenerator:\n",
    "\n",
    "    def __init__(self):\n",
    "        pass\n",
    "\n",
    "    def generate_1ao_2rs(self, ao_track, t_min, t_max, dt):\n",
    "        supervisor = Supervisor(\n",
    "            air_objects=[\n",
    "                AirObject(track=ao_track)\n",
    "            ],\n",
    "            radar_systems=[\n",
    "                RadarSystem(position=np.array([0, 0, 0]), detection_radius=1e+308, error=0.1),\n",
    "                RadarSystem(position=np.array([0, 0, 0]), detection_radius=1e+308, error=0.1)\n",
    "            ]\n",
    "        )\n",
    "        supervisor.run(t_min=t_min, t_max=t_max, dt=dt)\n",
    "        return self.__get_past_new_detections_cross_join(supervisor.get_data())\n",
    "\n",
    "    def __get_past_new_detections_cross_join_by_time(self, data, t):\n",
    "        detection_columns = ['time', 'x', 'y', 'z', 'x_err', 'y_err', 'z_err']\n",
    "        v_est_columns = [f'v_{axis}_est' for axis in ('x', 'y', 'z')]\n",
    "        a_est_columns = [f'a_{axis}_est' for axis in ('x', 'y', 'z')]\n",
    "\n",
    "        suffix = '_'\n",
    "        cols = detection_columns + v_est_columns + a_est_columns\n",
    "        cols_new = [f'{el}{suffix}' for el in (detection_columns + v_est_columns + a_est_columns)]\n",
    "        dfl = data.loc[data['time'] < t].copy()\n",
    "        dfl = dfl.sort_values(by=['id', 'time', 'err_ratio'], ascending=[True, False, False])\n",
    "        dfl = dfl.drop_duplicates(subset=['id', 'time'])\n",
    "        dfl = dfl.groupby(by=['id']).head(1)\n",
    "        dfl = dfl.rename(columns={cols[i]: cols_new[i] for i in range(len(cols))})\n",
    "        dfl = dfl[['id'] + cols_new]\n",
    "        dfl = dfl.reset_index(drop=True)\n",
    "\n",
    "        dfr = data.loc[data['time'] == t].copy()\n",
    "        dfr = dfr.sort_values(by=['id', 'err_ratio'], ascending=[True, False])\n",
    "        dfr = dfr[['id'] + detection_columns]\n",
    "        dfr = dfr.reset_index(drop=True)\n",
    "\n",
    "        df = pd.merge(dfl, dfr, how='cross')\n",
    "        df['is_identical'] = df['id_x'] == df['id_y']\n",
    "        df = df.astype({'is_identical': 'float64'})\n",
    "        df = df.drop(columns=['id_x', 'id_y'])\n",
    "\n",
    "        return df\n",
    "\n",
    "    def __get_past_new_detections_cross_join(self, data):\n",
    "        dfs = []\n",
    "        data['err_ratio'] = np.sqrt(3.0 / (data['x_err'] ** 2 + data['y_err'] ** 2 + data['z_err'] ** 2))\n",
    "\n",
    "        timestamps = sorted(set(data['time']))[1:]\n",
    "        progressbar = tqdm(timestamps, ncols=100)\n",
    "        progressbar.set_description('Generating data')\n",
    "        for t in progressbar:\n",
    "            df_t = self.__get_past_new_detections_cross_join_by_time(data, t)\n",
    "            dfs.append(df_t)\n",
    "\n",
    "        df = pd.concat(dfs).reset_index(drop=True)\n",
    "        return df"
   ]
  },
  {
   "cell_type": "code",
   "execution_count": 3,
   "id": "687b2a53-fbe8-415f-81cb-da15bf518342",
   "metadata": {},
   "outputs": [],
   "source": [
    "dg = DataGenerator()"
   ]
  },
  {
   "cell_type": "code",
   "execution_count": 4,
   "id": "1a6cd9c8-17d6-430f-ac90-42f902501569",
   "metadata": {},
   "outputs": [
    {
     "name": "stderr",
     "output_type": "stream",
     "text": [
      "Running system: 100%|██████████████████████████████████████████| 6001/6001 [00:34<00:00, 173.52it/s]\n",
      "Generating data: 100%|█████████████████████████████████████████| 6000/6000 [00:24<00:00, 248.45it/s]\n"
     ]
    }
   ],
   "source": [
    "def f(t):\n",
    "    if t <= 15000:\n",
    "        return np.array([t, 0, 10000])\n",
    "    elif t <= 30000:\n",
    "        return np.array([30000 - t, 0, 10000])\n",
    "    elif t <= 45000:\n",
    "        return np.array([0.5 * (t - 30000), 0, 10000])\n",
    "    elif t <= 60000:\n",
    "        return np.array([15000 - 0.5 * (t - 30000), 0, 10000])\n",
    "\n",
    "df = dg.generate_1ao_2rs(ao_track=f, t_min=0, t_max=60000, dt=10)\n",
    "\n",
    "df.to_csv('data/1ao_2rs_f.csv', index=False)"
   ]
  },
  {
   "cell_type": "code",
   "execution_count": 5,
   "id": "2eae4418-08cb-4610-ab2d-5d79e613ac78",
   "metadata": {},
   "outputs": [
    {
     "name": "stderr",
     "output_type": "stream",
     "text": [
      "Running system: 100%|██████████████████████████████████████████| 1001/1001 [00:05<00:00, 167.29it/s]\n",
      "Generating data: 100%|█████████████████████████████████████████| 1000/1000 [00:03<00:00, 277.94it/s]\n"
     ]
    }
   ],
   "source": [
    "df = dg.generate_1ao_2rs(ao_track=lambda t: np.array([0.7 * t, 0, 10000]), t_min=0, t_max=1000, dt=1)\n",
    "\n",
    "df.to_csv('data/1ao_2rs_g.csv', index=False)"
   ]
  },
  {
   "cell_type": "code",
   "execution_count": 6,
   "id": "69c819c3-a271-4df1-b4c0-24b5b311fdf6",
   "metadata": {},
   "outputs": [
    {
     "name": "stderr",
     "output_type": "stream",
     "text": [
      "Running system: 100%|██████████████████████████████████████████| 1001/1001 [00:06<00:00, 165.30it/s]\n",
      "Generating data: 100%|█████████████████████████████████████████| 1000/1000 [00:03<00:00, 276.26it/s]\n"
     ]
    }
   ],
   "source": [
    "df = dg.generate_1ao_2rs(ao_track=lambda t: np.array([1.5 * t, 0, 10000]), t_min=0, t_max=1000, dt=1)\n",
    "\n",
    "df.to_csv('data/1ao_2rs_h.csv', index=False)"
   ]
  },
  {
   "cell_type": "code",
   "execution_count": null,
   "id": "746cfc05-5222-45c6-b9f6-5cb01671e4b7",
   "metadata": {},
   "outputs": [],
   "source": []
  }
 ],
 "metadata": {
  "kernelspec": {
   "display_name": "Python 3 (ipykernel)",
   "language": "python",
   "name": "python3"
  },
  "language_info": {
   "codemirror_mode": {
    "name": "ipython",
    "version": 3
   },
   "file_extension": ".py",
   "mimetype": "text/x-python",
   "name": "python",
   "nbconvert_exporter": "python",
   "pygments_lexer": "ipython3",
   "version": "3.9.6"
  }
 },
 "nbformat": 4,
 "nbformat_minor": 5
}
