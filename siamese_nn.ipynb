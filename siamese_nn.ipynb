{
 "cells": [
  {
   "cell_type": "code",
   "execution_count": 1,
   "id": "f319ddf3-a348-4ce8-8549-ec3bc7a2db80",
   "metadata": {},
   "outputs": [],
   "source": [
    "import datetime\n",
    "import numpy as np\n",
    "import pandas as pd\n",
    "import matplotlib.pyplot as plt\n",
    "\n",
    "import torch\n",
    "\n",
    "from tqdm.notebook import tqdm, trange\n",
    "\n",
    "%matplotlib inline"
   ]
  },
  {
   "cell_type": "markdown",
   "id": "08eff70c-b6ed-44f2-a37f-c5440a968b46",
   "metadata": {},
   "source": [
    "## Конфигурация"
   ]
  },
  {
   "cell_type": "code",
   "execution_count": 2,
   "id": "60c00198-3274-423d-93d9-e8a164f7a1e1",
   "metadata": {},
   "outputs": [],
   "source": [
    "config = dict(\n",
    "    n_epochs=30,\n",
    "    batch_size=128,\n",
    "    learning_rate=0.00005\n",
    ")"
   ]
  },
  {
   "cell_type": "markdown",
   "id": "946fdfff-2d6b-4cc6-8b62-66b5a730b4d1",
   "metadata": {},
   "source": [
    "## Dataset"
   ]
  },
  {
   "cell_type": "code",
   "execution_count": 3,
   "id": "80049071-1bd4-45e9-8b6b-5d46f258e16f",
   "metadata": {},
   "outputs": [],
   "source": [
    "class SiameseDataset(torch.utils.data.Dataset):\n",
    "\n",
    "    def __init__(self, path, x_file='x.pt', y_file='y.pt'):\n",
    "        self.x = torch.load(path + '/' + x_file)\n",
    "        self.y = torch.load(path + '/' + y_file)\n",
    "        \n",
    "        if self.x.shape[0] != self.y.shape[0]:\n",
    "            raise RuntimeError(f'Tensors X and Y must have the same number of items.')\n",
    "\n",
    "    def __len__(self):\n",
    "        return self.x.shape[0]\n",
    "\n",
    "    def __getitem__(self, idx):\n",
    "        return self.x[idx][0], self.x[idx][1], self.y[idx]"
   ]
  },
  {
   "cell_type": "markdown",
   "id": "14dfbd8f-c589-45dd-b9e8-22345236bee8",
   "metadata": {},
   "source": [
    "## Нейронная сеть"
   ]
  },
  {
   "cell_type": "code",
   "execution_count": 4,
   "id": "dc55408f-92bd-4484-8053-431d36b8b34d",
   "metadata": {},
   "outputs": [],
   "source": [
    "class SiameseNetwork(torch.nn.Module):\n",
    "\n",
    "    def __init__(self):\n",
    "        super(SiameseNetwork, self).__init__()\n",
    "        \n",
    "        self.cnn = torch.nn.Sequential(\n",
    "            torch.nn.Conv1d(in_channels=4, out_channels=8, kernel_size=3),\n",
    "            torch.nn.ReLU(),\n",
    "            torch.nn.Conv1d(in_channels=8, out_channels=12, kernel_size=3),\n",
    "            torch.nn.ReLU(),\n",
    "            torch.nn.Conv1d(in_channels=12, out_channels=16, kernel_size=3),\n",
    "            torch.nn.ReLU(),\n",
    "        )\n",
    "        \n",
    "        self.fc = torch.nn.Sequential(\n",
    "            torch.nn.Linear(416, 1024),\n",
    "            torch.nn.ReLU(),\n",
    "            torch.nn.Linear(1024, 256),\n",
    "            torch.nn.ReLU(),\n",
    "            torch.nn.Linear(256, 2),\n",
    "        )\n",
    "\n",
    "    def forward_once(self, x):\n",
    "        out = self.cnn(x)\n",
    "        out = out.view(out.size(0), -1)\n",
    "        out = self.fc(out)\n",
    "        return out\n",
    "\n",
    "    def forward(self, x_1, x_2):\n",
    "        out_1 = self.forward_once(x_1)\n",
    "        out_2 = self.forward_once(x_2)\n",
    "\n",
    "        return out_1, out_2"
   ]
  },
  {
   "cell_type": "markdown",
   "id": "7b27b0df-018e-43cb-a587-0eb0276c3b35",
   "metadata": {},
   "source": [
    "## Контрастная функция потерь"
   ]
  },
  {
   "cell_type": "code",
   "execution_count": 5,
   "id": "256250ce-5e1f-41c2-a18e-f9aadddd906c",
   "metadata": {},
   "outputs": [],
   "source": [
    "class ContrastiveLoss(torch.nn.Module):\n",
    "    \n",
    "    def __init__(self, margin=2.0):\n",
    "        super(ContrastiveLoss, self).__init__()\n",
    "        self.margin = margin\n",
    "\n",
    "    def forward(self, out_1, out_2, y):\n",
    "        euclidean_distance = torch.nn.functional.pairwise_distance(out_1, out_2, keepdim=True)\n",
    "        \n",
    "        loss_contrastive = torch.mean((1 - y) * torch.pow(euclidean_distance, 2) +\n",
    "                                      (y) * torch.pow(torch.clamp(self.margin - euclidean_distance, min=0.0), 2))\n",
    "        \n",
    "        return loss_contrastive"
   ]
  },
  {
   "cell_type": "markdown",
   "id": "8ed8ee53-632e-4471-8049-d07ab13fa7c9",
   "metadata": {},
   "source": [
    "## Обучение нейросети"
   ]
  },
  {
   "cell_type": "markdown",
   "id": "06368613-8786-444a-8ac6-aaf626b62a5a",
   "metadata": {},
   "source": [
    "#### Подготовка Dataset и DataLoader"
   ]
  },
  {
   "cell_type": "code",
   "execution_count": 6,
   "id": "e2273bce-c226-410f-81cb-d22af5b2ed24",
   "metadata": {},
   "outputs": [],
   "source": [
    "train_dataset = SiameseDataset(path='siamese_data/train')"
   ]
  },
  {
   "cell_type": "code",
   "execution_count": 7,
   "id": "651b3b25-595b-4f9e-b8f5-b84916ae5e15",
   "metadata": {},
   "outputs": [],
   "source": [
    "train_dataloader = torch.utils.data.DataLoader(dataset=train_dataset,\n",
    "                                               shuffle=True,\n",
    "                                               batch_size=config['batch_size'])"
   ]
  },
  {
   "cell_type": "markdown",
   "id": "01a27d02-6a53-4a6e-98e0-9f15dcee238e",
   "metadata": {},
   "source": [
    "#### Обучение"
   ]
  },
  {
   "cell_type": "code",
   "execution_count": 8,
   "id": "05a05579-68be-41ff-a0ee-bca24ce36286",
   "metadata": {},
   "outputs": [],
   "source": [
    "model = SiameseNetwork()\n",
    "criterion = ContrastiveLoss()\n",
    "optimizer = torch.optim.Adam(model.parameters(), lr=config['learning_rate'])"
   ]
  },
  {
   "cell_type": "code",
   "execution_count": 9,
   "id": "1a104aba-1925-41d2-a486-164deed265c2",
   "metadata": {},
   "outputs": [],
   "source": [
    "def lr_lambda(epoch):\n",
    "    if epoch <= 15:\n",
    "        lr_max = 1.0\n",
    "        lr_min = 1/15\n",
    "        return lr_min + (lr_max - lr_min) * (1.0 + np.cos(np.pi * epoch / 15)) / 2.0\n",
    "    elif epoch <= 25:\n",
    "        lr_max = 1/15\n",
    "        lr_min = 0.001\n",
    "        return lr_min + (lr_max - lr_min) * (1.0 + np.cos(np.pi * (epoch - 15) / 10)) / 2.0\n",
    "    elif epoch <= 35:\n",
    "        lr_max = 0.001\n",
    "        lr_min = 0.0001\n",
    "        return lr_min + (lr_max - lr_min) * (1.0 + np.cos(np.pi * (epoch - 25) / 10)) / 2.0\n",
    "    else:\n",
    "        return 0.0001\n",
    "\n",
    "scheduler = torch.optim.lr_scheduler.LambdaLR(optimizer, lr_lambda=lr_lambda)"
   ]
  },
  {
   "cell_type": "code",
   "execution_count": 10,
   "id": "549fb8a9-af2a-4de6-b569-ba2375c0388b",
   "metadata": {},
   "outputs": [
    {
     "data": {
      "application/vnd.jupyter.widget-view+json": {
       "model_id": "ea0b326cac8a44b4b4d862df070af55e",
       "version_major": 2,
       "version_minor": 0
      },
      "text/plain": [
       "  0%|          | 0/30 [00:00<?, ?it/s]"
      ]
     },
     "metadata": {},
     "output_type": "display_data"
    }
   ],
   "source": [
    "loss_history = []\n",
    "epoch_loss_history = []\n",
    "lr_history = []\n",
    "\n",
    "epoch_progress = trange(config['n_epochs'])\n",
    "for epoch in epoch_progress:\n",
    "    epoch_progress.set_description(f'Epoch {epoch + 1}')\n",
    "\n",
    "    for i, (x_1, x_2, y) in enumerate(train_dataloader):\n",
    "        out_1, out_2 = model(x_1, x_2)\n",
    "\n",
    "        loss = criterion(out_1, out_2, y)\n",
    "\n",
    "        loss.backward()\n",
    "        optimizer.step()\n",
    "        optimizer.zero_grad()\n",
    "        \n",
    "        loss_history.append(loss.item())\n",
    "\n",
    "    lr_history.append(optimizer.param_groups[0]['lr'])\n",
    "    epoch_loss_history.append(np.mean(loss_history[-len(train_dataloader):]))\n",
    "\n",
    "    scheduler.step()\n",
    "\n",
    "    epoch_progress.set_postfix({'epoch_mean_loss': epoch_loss_history[-1]})"
   ]
  },
  {
   "cell_type": "code",
   "execution_count": 11,
   "id": "12108899-b04a-4504-8fea-12f0ed5852e8",
   "metadata": {},
   "outputs": [
    {
     "data": {
      "text/plain": [
       "[<matplotlib.lines.Line2D at 0x128578a90>]"
      ]
     },
     "execution_count": 11,
     "metadata": {},
     "output_type": "execute_result"
    },
    {
     "data": {
      "image/png": "[encoded data removed]",
      "text/plain": [
       "<Figure size 1200x600 with 2 Axes>"
      ]
     },
     "metadata": {},
     "output_type": "display_data"
    }
   ],
   "source": [
    "fig, axis = plt.subplots(1, 2, figsize=(12, 6))\n",
    "\n",
    "# Epoch Mean Loss plot\n",
    "axis[0].set_title('Epoch Mean Loss')\n",
    "axis[0].set_xlabel('Epoch')\n",
    "axis[0].set_ylabel('Loss')\n",
    "axis[0].semilogy()\n",
    "axis[0].grid()\n",
    "axis[0].plot(epoch_loss_history)\n",
    "\n",
    "# Learning Rate plot\n",
    "axis[1].set_title('Learning Rate')\n",
    "axis[1].set_xlabel('Epoch')\n",
    "axis[1].set_ylabel('Learning Rate')\n",
    "axis[1].grid()\n",
    "axis[1].plot(lr_history)"
   ]
  },
  {
   "cell_type": "markdown",
   "id": "f688dd2b-644f-4ecb-8ee6-bc69d2326e44",
   "metadata": {},
   "source": [
    "## Тестирование нейросети"
   ]
  },
  {
   "cell_type": "markdown",
   "id": "c53b518d-2d43-40ae-952b-5f130a4f1112",
   "metadata": {},
   "source": [
    "#### Подготовка Dataset и DataLoader для тестирования"
   ]
  },
  {
   "cell_type": "code",
   "execution_count": 15,
   "id": "565dc1f1-7631-49d5-96eb-dce8a4a26b94",
   "metadata": {},
   "outputs": [],
   "source": [
    "test_dataset = SiameseDataset(path='siamese_data/test')"
   ]
  },
  {
   "cell_type": "code",
   "execution_count": 16,
   "id": "2a6375be-cdd7-40c2-9b56-8c4a27e32548",
   "metadata": {},
   "outputs": [],
   "source": [
    "test_dataloader = torch.utils.data.DataLoader(dataset=test_dataset,\n",
    "                                              batch_size=len(test_dataset))"
   ]
  },
  {
   "cell_type": "markdown",
   "id": "631b31eb-d9e7-422c-8f42-1d5fecf9d408",
   "metadata": {},
   "source": [
    "#### Расчет метрик"
   ]
  },
  {
   "cell_type": "code",
   "execution_count": 17,
   "id": "4908f317-f501-4560-b7d3-0a0bb7762b0a",
   "metadata": {},
   "outputs": [
    {
     "name": "stdout",
     "output_type": "stream",
     "text": [
      "Loss = 103.6526107788086\n",
      "Distance range between identical objects: [0.00015928654465824366, 208.43263244628906]\n",
      "Distance range between different objects: [29.300222396850586, 1791.5555419921875]\n"
     ]
    }
   ],
   "source": [
    "losses = []\n",
    "\n",
    "for i, (x_1, x_2, y) in enumerate(test_dataloader):\n",
    "    if x_1\n",
    "    with torch.inference_mode():\n",
    "        out_1, out_2 = model(x_1, x_2)\n",
    "        dist = torch.nn.functional.pairwise_distance(out_1, out_2, keepdim=True)\n",
    "        loss = criterion(out_1, out_2, y)\n",
    "        losses.append(loss.item())\n",
    "\n",
    "X = torch.cat((y, dist), 1)\n",
    "\n",
    "print(f'Loss = {np.mean(losses)}')\n",
    "print(f'Distance range between identical objects: [{X[X[:, 0] == 0, :][:, 1].min()}, {X[X[:, 0] == 0, :][:, 1].max()}]')\n",
    "print(f'Distance range between different objects: [{X[X[:, 0] == 1, :][:, 1].min()}, {X[X[:, 0] == 1, :][:, 1].max()}]')"
   ]
  },
  {
   "cell_type": "markdown",
   "id": "5ff723aa-9651-4e86-8b60-c73bd9ff2dc9",
   "metadata": {},
   "source": [
    "## Отладка результатов"
   ]
  },
  {
   "cell_type": "code",
   "execution_count": 50,
   "id": "6349bd3b-ee4c-44b2-bdd9-2453a17e17f1",
   "metadata": {},
   "outputs": [],
   "source": [
    "debug_dataloader = torch.utils.data.DataLoader(dataset=test_dataset,\n",
    "                                               shuffle=True,\n",
    "                                               batch_size=1)"
   ]
  },
  {
   "cell_type": "code",
   "execution_count": 57,
   "id": "372c24f7-e04a-4e77-9c39-830e31ae902f",
   "metadata": {},
   "outputs": [],
   "source": [
    "dist_max = 0.0\n",
    "for i, (x_1, x_2, y) in enumerate(debug_dataloader):\n",
    "    if (x_1[:, 0, :] == 0).sum() > 0 or (x_2[:, 0, :] == 0).sum() > 0:\n",
    "        continue\n",
    "    if y != 0.0:\n",
    "        continue\n",
    "    with torch.inference_mode():\n",
    "        out_1, out_2 = model(x_1, x_2)\n",
    "        \n",
    "        dist = torch.nn.functional.pairwise_distance(out_1, out_2, keepdim=True)\n",
    "        if dist.item() > dist_max:\n",
    "            dist_max = dist.item()\n",
    "        loss = criterion(out_1, out_2, y)\n",
    "\n",
    "        # if dist < 1.0:\n",
    "            # continue\n",
    "\n",
    "        # print('x_1:')\n",
    "        # print(x_1)\n",
    "        # print(x_1[0])\n",
    "        # print('x_2:')\n",
    "        # print(x_2)\n",
    "        # print(f'Actual: {y.item()}')\n",
    "        # print(f'out_1 = {out_1}')\n",
    "        # print(f'out_2 = {out_2}')\n",
    "        # print(f'd(out_1, out_2) = {dist.item()}')\n",
    "        # print(f'loss = {loss.item()}')\n",
    "        \n",
    "        # _ = input()"
   ]
  },
  {
   "cell_type": "code",
   "execution_count": 58,
   "id": "d776feba-3de6-4b36-8f3d-271feb0dacc9",
   "metadata": {},
   "outputs": [
    {
     "data": {
      "text/plain": [
       "2.4000802040100098"
      ]
     },
     "execution_count": 58,
     "metadata": {},
     "output_type": "execute_result"
    }
   ],
   "source": [
    "dist_max"
   ]
  },
  {
   "cell_type": "code",
   "execution_count": null,
   "id": "7801c713-cf3f-4496-b5a9-22004135367d",
   "metadata": {},
   "outputs": [],
   "source": []
  }
 ],
 "metadata": {
  "kernelspec": {
   "display_name": "Python 3 (ipykernel)",
   "language": "python",
   "name": "python3"
  },
  "language_info": {
   "codemirror_mode": {
    "name": "ipython",
    "version": 3
   },
   "file_extension": ".py",
   "mimetype": "text/x-python",
   "name": "python",
   "nbconvert_exporter": "python",
   "pygments_lexer": "ipython3",
   "version": "3.9.6"
  }
 },
 "nbformat": 4,
 "nbformat_minor": 5
}
