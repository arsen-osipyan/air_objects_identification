{
 "cells": [
  {
   "cell_type": "code",
   "execution_count": 1,
   "id": "f319ddf3-a348-4ce8-8549-ec3bc7a2db80",
   "metadata": {},
   "outputs": [],
   "source": [
    "import datetime\n",
    "import numpy as np\n",
    "import pandas as pd\n",
    "import matplotlib.pyplot as plt\n",
    "\n",
    "import torch\n",
    "\n",
    "from tqdm.notebook import tqdm, trange\n",
    "\n",
    "%matplotlib inline"
   ]
  },
  {
   "cell_type": "markdown",
   "id": "08eff70c-b6ed-44f2-a37f-c5440a968b46",
   "metadata": {},
   "source": [
    "## Конфигурация"
   ]
  },
  {
   "cell_type": "code",
   "execution_count": 2,
   "id": "60c00198-3274-423d-93d9-e8a164f7a1e1",
   "metadata": {},
   "outputs": [],
   "source": [
    "config = dict(\n",
    "    n_epochs=50,\n",
    "    batch_size=128,\n",
    "    learning_rate=1e-6\n",
    ")"
   ]
  },
  {
   "cell_type": "markdown",
   "id": "946fdfff-2d6b-4cc6-8b62-66b5a730b4d1",
   "metadata": {},
   "source": [
    "## Dataset"
   ]
  },
  {
   "cell_type": "code",
   "execution_count": 3,
   "id": "80049071-1bd4-45e9-8b6b-5d46f258e16f",
   "metadata": {},
   "outputs": [],
   "source": [
    "class SiameseDataset(torch.utils.data.Dataset):\n",
    "\n",
    "    def __init__(self, path, x_file='x.pt', y_file='y.pt'):\n",
    "        self.x = torch.load(path + '/' + x_file)\n",
    "        self.y = torch.load(path + '/' + y_file)\n",
    "        \n",
    "        if self.x.shape[0] != self.y.shape[0]:\n",
    "            raise RuntimeError(f'Tensors X and Y must have the same number of items.')\n",
    "\n",
    "    def __len__(self):\n",
    "        return self.x.shape[0]\n",
    "\n",
    "    def __getitem__(self, idx):\n",
    "        return self.x[idx][0], self.x[idx][1], self.y[idx]"
   ]
  },
  {
   "cell_type": "markdown",
   "id": "14dfbd8f-c589-45dd-b9e8-22345236bee8",
   "metadata": {},
   "source": [
    "## Нейронная сеть"
   ]
  },
  {
   "cell_type": "code",
   "execution_count": 4,
   "id": "dc55408f-92bd-4484-8053-431d36b8b34d",
   "metadata": {},
   "outputs": [],
   "source": [
    "class SiameseNetwork(torch.nn.Module):\n",
    "\n",
    "    def __init__(self):\n",
    "        super(SiameseNetwork, self).__init__()\n",
    "        \n",
    "        self.cnn = torch.nn.Sequential(\n",
    "            torch.nn.Conv1d(in_channels=4, out_channels=8, kernel_size=3),\n",
    "            torch.nn.ReLU(),\n",
    "            torch.nn.Conv1d(in_channels=8, out_channels=12, kernel_size=3),\n",
    "            torch.nn.ReLU(),\n",
    "            torch.nn.Conv1d(in_channels=12, out_channels=16, kernel_size=3),\n",
    "            torch.nn.ReLU(),\n",
    "        )\n",
    "        \n",
    "        self.fc = torch.nn.Sequential(\n",
    "            torch.nn.Linear(416, 1024),\n",
    "            torch.nn.ReLU(),\n",
    "            torch.nn.Linear(1024, 256),\n",
    "            torch.nn.ReLU(),\n",
    "            torch.nn.Linear(256, 2),\n",
    "        )\n",
    "\n",
    "    def forward_once(self, x):\n",
    "        out = self.cnn(x)\n",
    "        out = out.view(out.size(0), -1)\n",
    "        out = self.fc(out)\n",
    "        return out\n",
    "\n",
    "    def forward(self, x_1, x_2):\n",
    "        out_1 = self.forward_once(x_1)\n",
    "        out_2 = self.forward_once(x_2)\n",
    "\n",
    "        return out_1, out_2"
   ]
  },
  {
   "cell_type": "markdown",
   "id": "7b27b0df-018e-43cb-a587-0eb0276c3b35",
   "metadata": {},
   "source": [
    "## Контрастная функция потерь"
   ]
  },
  {
   "cell_type": "code",
   "execution_count": 5,
   "id": "256250ce-5e1f-41c2-a18e-f9aadddd906c",
   "metadata": {},
   "outputs": [],
   "source": [
    "class ContrastiveLoss(torch.nn.Module):\n",
    "    \n",
    "    def __init__(self, margin=2.0):\n",
    "        super(ContrastiveLoss, self).__init__()\n",
    "        self.margin = margin\n",
    "\n",
    "    def forward(self, out_1, out_2, y):\n",
    "        euclidean_distance = torch.nn.functional.pairwise_distance(out_1, out_2, keepdim=True)\n",
    "        \n",
    "        loss_contrastive = torch.mean((1 - y) * torch.pow(euclidean_distance, 2) +\n",
    "                                      (y) * torch.pow(torch.clamp(self.margin - euclidean_distance, min=0.0), 2))\n",
    "        \n",
    "        return loss_contrastive"
   ]
  },
  {
   "cell_type": "markdown",
   "id": "8ed8ee53-632e-4471-8049-d07ab13fa7c9",
   "metadata": {},
   "source": [
    "## Обучение нейросети"
   ]
  },
  {
   "cell_type": "markdown",
   "id": "06368613-8786-444a-8ac6-aaf626b62a5a",
   "metadata": {},
   "source": [
    "#### Подготовка Dataset и DataLoader"
   ]
  },
  {
   "cell_type": "code",
   "execution_count": 6,
   "id": "e2273bce-c226-410f-81cb-d22af5b2ed24",
   "metadata": {},
   "outputs": [],
   "source": [
    "train_dataset = SiameseDataset(path='siamese_data/train')"
   ]
  },
  {
   "cell_type": "code",
   "execution_count": 7,
   "id": "651b3b25-595b-4f9e-b8f5-b84916ae5e15",
   "metadata": {},
   "outputs": [],
   "source": [
    "train_dataloader = torch.utils.data.DataLoader(dataset=train_dataset,\n",
    "                                               shuffle=True,\n",
    "                                               batch_size=config['batch_size'])"
   ]
  },
  {
   "cell_type": "markdown",
   "id": "01a27d02-6a53-4a6e-98e0-9f15dcee238e",
   "metadata": {},
   "source": [
    "#### Обучение"
   ]
  },
  {
   "cell_type": "code",
   "execution_count": 8,
   "id": "05a05579-68be-41ff-a0ee-bca24ce36286",
   "metadata": {},
   "outputs": [],
   "source": [
    "model = SiameseNetwork()\n",
    "criterion = ContrastiveLoss()\n",
    "optimizer = torch.optim.Adam(model.parameters(), lr=config['learning_rate'])"
   ]
  },
  {
   "cell_type": "code",
   "execution_count": 9,
   "id": "1a104aba-1925-41d2-a486-164deed265c2",
   "metadata": {},
   "outputs": [],
   "source": [
    "def lr_lambda_1(epoch):\n",
    "    T_max = 15\n",
    "    lr_max = 1.0\n",
    "    lr_min = 0.05\n",
    "\n",
    "    if epoch <= T_max:\n",
    "        return lr_min + (lr_max - lr_min) * (1.0 + np.cos(np.pi * epoch / T_max)) / 2.0\n",
    "    \n",
    "    return lr_min\n",
    "\n",
    "def lr_lambda_2(epoch):\n",
    "    T_max = config['n_epochs']\n",
    "    lr_max = 1.0\n",
    "    lr_min = 0.05\n",
    "\n",
    "    return lr_min + (lr_max - lr_min) * (1.0 + np.cos(np.pi * epoch / T_max)) / 2.0\n",
    "\n",
    "def lr_lambda_3(epoch):\n",
    "    return 0.1 ** (epoch // 10)\n",
    "\n",
    "scheduler = torch.optim.lr_scheduler.LambdaLR(optimizer, lr_lambda=lr_lambda_2)"
   ]
  },
  {
   "cell_type": "code",
   "execution_count": 10,
   "id": "549fb8a9-af2a-4de6-b569-ba2375c0388b",
   "metadata": {},
   "outputs": [
    {
     "data": {
      "application/vnd.jupyter.widget-view+json": {
       "model_id": "89c6bbbebbba46a0839dfaf4ffeaf5c5",
       "version_major": 2,
       "version_minor": 0
      },
      "text/plain": [
       "  0%|          | 0/50 [00:00<?, ?it/s]"
      ]
     },
     "metadata": {},
     "output_type": "display_data"
    }
   ],
   "source": [
    "loss_history = []\n",
    "epoch_loss_history = []\n",
    "lr_history = []\n",
    "\n",
    "epoch_progress = trange(config['n_epochs'])\n",
    "for epoch in epoch_progress:\n",
    "    epoch_progress.set_description(f'Epoch {epoch + 1}')\n",
    "\n",
    "    for i, (x_1, x_2, y) in enumerate(train_dataloader):\n",
    "        out_1, out_2 = model(x_1, x_2)\n",
    "\n",
    "        loss = criterion(out_1, out_2, y)\n",
    "\n",
    "        loss.backward()\n",
    "        optimizer.step()\n",
    "        optimizer.zero_grad()\n",
    "        \n",
    "        loss_history.append(loss.item())\n",
    "\n",
    "    lr_history.append(optimizer.param_groups[0]['lr'])\n",
    "    epoch_loss_history.append(np.mean(loss_history[-len(train_dataloader):]))\n",
    "\n",
    "    scheduler.step()\n",
    "\n",
    "    epoch_progress.set_postfix({'epoch_mean_loss': epoch_loss_history[-1]})"
   ]
  },
  {
   "cell_type": "code",
   "execution_count": 11,
   "id": "12108899-b04a-4504-8fea-12f0ed5852e8",
   "metadata": {},
   "outputs": [
    {
     "data": {
      "text/plain": [
       "[<matplotlib.lines.Line2D at 0x1606cff10>]"
      ]
     },
     "execution_count": 11,
     "metadata": {},
     "output_type": "execute_result"
    },
    {
     "data": {
      "image/png": "[encoded data removed]",
      "text/plain": [
       "<Figure size 1200x600 with 2 Axes>"
      ]
     },
     "metadata": {},
     "output_type": "display_data"
    }
   ],
   "source": [
    "fig, axis = plt.subplots(1, 2, figsize=(12, 6))\n",
    "\n",
    "# Epoch Mean Loss plot\n",
    "axis[0].set_title('Epoch Mean Loss')\n",
    "axis[0].set_xlabel('Epoch')\n",
    "axis[0].set_ylabel('Loss')\n",
    "axis[0].semilogy()\n",
    "axis[0].grid()\n",
    "axis[0].plot(epoch_loss_history)\n",
    "\n",
    "# Learning Rate plot\n",
    "axis[1].set_title('Learning Rate')\n",
    "axis[1].set_xlabel('Epoch')\n",
    "axis[1].set_ylabel('Learning Rate')\n",
    "axis[1].grid()\n",
    "axis[1].plot(lr_history)"
   ]
  },
  {
   "cell_type": "markdown",
   "id": "f688dd2b-644f-4ecb-8ee6-bc69d2326e44",
   "metadata": {},
   "source": [
    "## Тестирование нейросети"
   ]
  },
  {
   "cell_type": "markdown",
   "id": "c53b518d-2d43-40ae-952b-5f130a4f1112",
   "metadata": {},
   "source": [
    "#### Подготовка Dataset и DataLoader для тестирования"
   ]
  },
  {
   "cell_type": "code",
   "execution_count": 12,
   "id": "565dc1f1-7631-49d5-96eb-dce8a4a26b94",
   "metadata": {},
   "outputs": [],
   "source": [
    "test_dataset = SiameseDataset(path='siamese_data/test')"
   ]
  },
  {
   "cell_type": "code",
   "execution_count": 13,
   "id": "2a6375be-cdd7-40c2-9b56-8c4a27e32548",
   "metadata": {},
   "outputs": [],
   "source": [
    "test_dataloader = torch.utils.data.DataLoader(dataset=test_dataset,\n",
    "                                              batch_size=len(test_dataset))"
   ]
  },
  {
   "cell_type": "markdown",
   "id": "631b31eb-d9e7-422c-8f42-1d5fecf9d408",
   "metadata": {},
   "source": [
    "#### Расчет метрик"
   ]
  },
  {
   "cell_type": "code",
   "execution_count": 14,
   "id": "4908f317-f501-4560-b7d3-0a0bb7762b0a",
   "metadata": {},
   "outputs": [
    {
     "name": "stdout",
     "output_type": "stream",
     "text": [
      "Loss = 0.015015661716461182\n",
      "Distance range between identical objects: [0.00012880071881227195, 1.1722840070724487]\n",
      "Distance range between different objects: [28.46622085571289, 979.4330444335938]\n"
     ]
    }
   ],
   "source": [
    "losses = []\n",
    "\n",
    "for i, (x_1, x_2, y) in enumerate(test_dataloader):\n",
    "    with torch.inference_mode():\n",
    "        out_1, out_2 = model(x_1, x_2)\n",
    "        dist = torch.nn.functional.pairwise_distance(out_1, out_2, keepdim=True)\n",
    "        loss = criterion(out_1, out_2, y)\n",
    "        losses.append(loss.item())\n",
    "\n",
    "X = torch.cat((y, dist), 1)\n",
    "\n",
    "print(f'Loss = {np.mean(losses)}')\n",
    "print(f'Distance range between identical objects: [{X[X[:, 0] == 0, :][:, 1].min()}, {X[X[:, 0] == 0, :][:, 1].max()}]')\n",
    "print(f'Distance range between different objects: [{X[X[:, 0] == 1, :][:, 1].min()}, {X[X[:, 0] == 1, :][:, 1].max()}]')"
   ]
  },
  {
   "cell_type": "markdown",
   "id": "5ff723aa-9651-4e86-8b60-c73bd9ff2dc9",
   "metadata": {},
   "source": [
    "## Отладка результатов"
   ]
  },
  {
   "cell_type": "code",
   "execution_count": 18,
   "id": "c7d93786-b7e5-4a05-adb3-01e6bfaa3041",
   "metadata": {},
   "outputs": [],
   "source": [
    "debug = True"
   ]
  },
  {
   "cell_type": "code",
   "execution_count": 19,
   "id": "6349bd3b-ee4c-44b2-bdd9-2453a17e17f1",
   "metadata": {},
   "outputs": [],
   "source": [
    "debug_dataloader = torch.utils.data.DataLoader(dataset=test_dataset,\n",
    "                                               shuffle=True,\n",
    "                                               batch_size=1)"
   ]
  },
  {
   "cell_type": "code",
   "execution_count": 20,
   "id": "372c24f7-e04a-4e77-9c39-830e31ae902f",
   "metadata": {},
   "outputs": [
    {
     "name": "stdout",
     "output_type": "stream",
     "text": [
      "x_1:\n",
      "tensor([[[224900.0000, 225150.0000, 225400.0000, 225650.0000, 225900.0000,\n",
      "          226150.0000, 226400.0000, 226650.0000, 226900.0000, 227150.0000,\n",
      "          227400.0000, 227650.0000, 227900.0000, 228150.0000, 228400.0000,\n",
      "          228650.0000, 228900.0000, 229150.0000, 229400.0000, 229650.0000,\n",
      "          229900.0000, 230150.0000, 230400.0000, 230650.0000, 230900.0000,\n",
      "          231150.0000, 231400.0000, 231650.0000, 231900.0000, 232150.0000,\n",
      "          232400.0000, 232650.0000],\n",
      "         [424002.7188, 424009.0312, 424014.6250, 424020.9062, 424027.3750,\n",
      "          424033.7812, 424038.6875, 424045.7188, 424052.2812, 424058.5625,\n",
      "          424064.8125, 424069.8750, 424075.6875, 424083.5312, 424089.4688,\n",
      "          424094.5625, 424101.1875, 424107.0625, 424114.2500, 424119.9375,\n",
      "          424125.6250, 424132.6875, 424137.4688, 424144.2188, 424150.6562,\n",
      "          424157.2500, 424163.3750, 424169.8750, 424175.2188, 424181.7812,\n",
      "          424186.5625, 424193.2812],\n",
      "         [685999.3750, 685999.8750, 685999.3750, 685998.7500, 686000.0000,\n",
      "          685998.6250, 686000.3125, 686000.4375, 685999.0000, 685999.1875,\n",
      "          685998.8750, 685999.2500, 685999.3750, 685999.0625, 685999.8750,\n",
      "          686000.0000, 685999.6250, 685999.5000, 686000.0000, 685999.1875,\n",
      "          686000.1875, 685999.1250, 685999.3125, 685998.9375, 685999.0000,\n",
      "          685999.1250, 685998.8125, 686000.6250, 685999.1250, 686000.6250,\n",
      "          686000.5000, 685999.6875],\n",
      "         [  9942.3662,   9942.1113,   9941.6602,   9942.3232,   9941.6250,\n",
      "            9942.6621,   9942.7666,   9942.0410,   9942.0488,   9941.9551,\n",
      "            9942.6670,   9942.0352,   9942.7314,   9941.3906,   9942.3262,\n",
      "            9941.3125,   9942.9785,   9941.5234,   9941.8525,   9943.0205,\n",
      "            9943.1758,   9943.1582,   9941.9043,   9942.1885,   9942.9619,\n",
      "            9941.5645,   9942.4932,   9941.6738,   9942.6729,   9942.2344,\n",
      "            9942.8984,   9942.4609]]])\n",
      "x_2:\n",
      "tensor([[[225100.0000, 225350.0000, 225600.0000, 225850.0000, 226100.0000,\n",
      "          226350.0000, 226600.0000, 226850.0000, 227100.0000, 227350.0000,\n",
      "          227600.0000, 227850.0000, 228100.0000, 228350.0000, 228600.0000,\n",
      "          228850.0000, 229100.0000, 229350.0000, 229600.0000, 229850.0000,\n",
      "          230100.0000, 230350.0000, 230600.0000, 230850.0000, 231100.0000,\n",
      "          231350.0000, 231600.0000, 231850.0000, 232100.0000, 232350.0000,\n",
      "          232600.0000, 232850.0000],\n",
      "         [424008.1562, 424013.4375, 424019.6875, 424025.9062, 424032.7188,\n",
      "          424038.1875, 424043.7500, 424050.0312, 424056.5000, 424063.9062,\n",
      "          424069.0000, 424074.3438, 424081.6250, 424086.8125, 424093.7812,\n",
      "          424100.1562, 424106.7188, 424111.8750, 424118.0000, 424125.0938,\n",
      "          424130.0938, 424136.9375, 424142.2500, 424148.4375, 424154.8750,\n",
      "          424160.9375, 424167.8750, 424173.7812, 424180.1250, 424185.5000,\n",
      "          424192.6250, 424198.0625],\n",
      "         [686000.5625, 685999.6250, 685999.6875, 685999.3125, 685999.3750,\n",
      "          686000.0000, 685998.9375, 686000.5000, 686000.2500, 686000.3750,\n",
      "          685999.8750, 686000.0625, 685999.9375, 685999.4375, 685999.8750,\n",
      "          685999.1875, 685999.4375, 685998.8125, 685998.7500, 686000.3750,\n",
      "          685999.8125, 685998.6875, 685999.8750, 686000.0625, 685999.1875,\n",
      "          686000.0000, 685998.6250, 685999.7500, 686000.1875, 685999.9375,\n",
      "          685998.7500, 686000.0000],\n",
      "         [  9941.5645,   9943.1221,   9941.4326,   9943.1787,   9942.0322,\n",
      "            9941.6289,   9941.7412,   9941.6982,   9942.6670,   9941.7295,\n",
      "            9941.2539,   9941.2803,   9941.9199,   9942.3965,   9942.7383,\n",
      "            9941.3994,   9943.0488,   9941.8838,   9942.0566,   9943.1787,\n",
      "            9941.5234,   9941.9883,   9941.3145,   9942.4541,   9943.1191,\n",
      "            9942.2129,   9943.1143,   9941.7051,   9942.3945,   9942.3838,\n",
      "            9943.0967,   9943.1777]]])\n",
      "Actual: 0.0\n",
      "out_1 = tensor([[-499.2711,  438.9414]])\n",
      "out_2 = tensor([[-499.2633,  438.9285]])\n",
      "d(out_1, out_2) = 0.015115385875105858\n",
      "loss = 0.00022847489162813872\n"
     ]
    },
    {
     "name": "stdin",
     "output_type": "stream",
     "text": [
      " \n"
     ]
    },
    {
     "name": "stdout",
     "output_type": "stream",
     "text": [
      "x_1:\n",
      "tensor([[[ 166250.0000,  166500.0000,  166750.0000,  167000.0000,  167250.0000,\n",
      "           167500.0000,  167750.0000,  168000.0000,  168250.0000,  168500.0000,\n",
      "           168750.0000,  169000.0000,  169250.0000,  169500.0000,  169750.0000,\n",
      "           170000.0000,  170250.0000,  170500.0000,  170750.0000,  171000.0000,\n",
      "           171250.0000,  171500.0000,  171750.0000,  172000.0000,  172250.0000,\n",
      "           172500.0000,  172750.0000,  173000.0000,  173250.0000,  173500.0000,\n",
      "           173750.0000,  174000.0000],\n",
      "         [-960115.7500, -960153.8750, -960192.3125, -960231.7500, -960269.6250,\n",
      "          -960308.8750, -960347.6875, -960387.0000, -960425.3125, -960462.8125,\n",
      "          -960501.1875, -960540.8750, -960579.7500, -960618.3125, -960656.1250,\n",
      "          -960694.3125, -960734.1250, -960771.6875, -960810.1875, -960848.9375,\n",
      "          -960887.6250, -960926.6250, -960965.4375, -961003.1250, -961041.5625,\n",
      "          -961080.6250, -961118.1875, -961158.4375, -961195.6875, -961234.0000,\n",
      "          -961274.5000, -961311.3125],\n",
      "         [  31559.8066,   31558.2773,   31559.6914,   31558.4707,   31558.5957,\n",
      "            31559.8340,   31558.6699,   31559.2676,   31558.5898,   31559.5566,\n",
      "            31558.7461,   31559.3926,   31559.1660,   31558.3828,   31557.9277,\n",
      "            31558.8164,   31559.3340,   31559.4512,   31557.9414,   31559.2754,\n",
      "            31559.5684,   31559.8223,   31559.8281,   31557.9570,   31558.8496,\n",
      "            31558.9805,   31558.1074,   31559.3691,   31557.9023,   31558.5098,\n",
      "            31559.7559,   31559.3516],\n",
      "         [  10078.1787,   10078.1670,   10079.5801,   10079.1328,   10077.8242,\n",
      "            10078.1641,   10078.6768,   10078.1338,   10077.9873,   10078.8242,\n",
      "            10078.6602,   10078.6768,   10079.5605,   10079.5537,   10079.6133,\n",
      "            10079.4766,   10078.3994,   10079.2617,   10078.3574,   10079.5400,\n",
      "            10079.5059,   10079.6426,   10079.5361,   10079.4893,   10078.2725,\n",
      "            10078.6426,   10079.1299,   10078.0615,   10078.1602,   10078.5264,\n",
      "            10077.9219,   10079.3721]]])\n",
      "x_2:\n",
      "tensor([[[ 166250.0000,  166500.0000,  166750.0000,  167000.0000,  167250.0000,\n",
      "           167500.0000,  167750.0000,  168000.0000,  168250.0000,  168500.0000,\n",
      "           168750.0000,  169000.0000,  169250.0000,  169500.0000,  169750.0000,\n",
      "           170000.0000,  170250.0000,  170500.0000,  170750.0000,  171000.0000,\n",
      "           171250.0000,  171500.0000,  171750.0000,  172000.0000,  172250.0000,\n",
      "           172500.0000,  172750.0000,  173000.0000,  173250.0000,  173500.0000,\n",
      "           173750.0000,  174000.0000],\n",
      "         [-600778.5000, -600686.6250, -600595.3125, -600504.7500, -600412.0000,\n",
      "          -600320.8750, -600229.3125, -600137.8750, -600047.9375, -599956.0000,\n",
      "          -599864.1875, -599773.2500, -599682.2500, -599589.7500, -599499.6875,\n",
      "          -599408.0000, -599317.0000, -599225.6875, -599133.4375, -599042.9375,\n",
      "          -598951.4375, -598858.7500, -598767.6875, -598676.9375, -598585.8750,\n",
      "          -598493.8125, -598403.1250, -598311.5000, -598219.4375, -598128.7500,\n",
      "          -598036.5625, -597944.8750],\n",
      "         [ 662933.8125,  662933.0000,  662934.6250,  662934.1875,  662933.3125,\n",
      "           662932.8125,  662933.6250,  662934.3125,  662934.0625,  662933.1250,\n",
      "           662932.9375,  662934.5625,  662933.5000,  662932.9375,  662934.0625,\n",
      "           662934.3125,  662933.0625,  662933.1875,  662934.8125,  662934.1250,\n",
      "           662933.9375,  662934.6250,  662934.6250,  662934.0000,  662934.2500,\n",
      "           662933.0000,  662933.5625,  662934.5625,  662933.2500,  662933.0000,\n",
      "           662934.4375,  662934.5625],\n",
      "         [   9965.4854,    9965.1211,    9964.3262,    9964.3369,    9964.3184,\n",
      "             9965.4365,    9964.6006,    9965.7422,    9964.7021,    9964.3955,\n",
      "             9965.3574,    9964.2314,    9965.8096,    9965.5029,    9964.7646,\n",
      "             9964.4795,    9965.7520,    9965.2686,    9965.5566,    9965.4775,\n",
      "             9964.3535,    9964.7314,    9965.3955,    9966.0684,    9965.5342,\n",
      "             9965.2900,    9965.2988,    9966.0996,    9965.2959,    9964.5645,\n",
      "             9964.9453,    9965.4414]]])\n",
      "Actual: 1.0\n",
      "out_1 = tensor([[-96.3876, 737.7012]])\n",
      "out_2 = tensor([[-385.1226,  272.9524]])\n",
      "d(out_1, out_2) = 547.1373901367188\n",
      "loss = 0.0\n"
     ]
    },
    {
     "ename": "KeyboardInterrupt",
     "evalue": "Interrupted by user",
     "output_type": "error",
     "traceback": [
      "\u001b[0;31m---------------------------------------------------------------------------\u001b[0m",
      "\u001b[0;31mKeyboardInterrupt\u001b[0m                         Traceback (most recent call last)",
      "Cell \u001b[0;32mIn[20], line 20\u001b[0m\n\u001b[1;32m     17\u001b[0m \u001b[38;5;28mprint\u001b[39m(\u001b[38;5;124mf\u001b[39m\u001b[38;5;124m'\u001b[39m\u001b[38;5;124md(out_1, out_2) = \u001b[39m\u001b[38;5;132;01m{\u001b[39;00mdist\u001b[38;5;241m.\u001b[39mitem()\u001b[38;5;132;01m}\u001b[39;00m\u001b[38;5;124m'\u001b[39m)\n\u001b[1;32m     18\u001b[0m \u001b[38;5;28mprint\u001b[39m(\u001b[38;5;124mf\u001b[39m\u001b[38;5;124m'\u001b[39m\u001b[38;5;124mloss = \u001b[39m\u001b[38;5;132;01m{\u001b[39;00mloss\u001b[38;5;241m.\u001b[39mitem()\u001b[38;5;132;01m}\u001b[39;00m\u001b[38;5;124m'\u001b[39m)\n\u001b[0;32m---> 20\u001b[0m _ \u001b[38;5;241m=\u001b[39m \u001b[38;5;28;43minput\u001b[39;49m\u001b[43m(\u001b[49m\u001b[43m)\u001b[49m\n",
      "File \u001b[0;32m~/Desktop/Diploma/air_objects_identification/venv/lib/python3.9/site-packages/ipykernel/kernelbase.py:1270\u001b[0m, in \u001b[0;36mKernel.raw_input\u001b[0;34m(self, prompt)\u001b[0m\n\u001b[1;32m   1268\u001b[0m     msg \u001b[38;5;241m=\u001b[39m \u001b[38;5;124m\"\u001b[39m\u001b[38;5;124mraw_input was called, but this frontend does not support input requests.\u001b[39m\u001b[38;5;124m\"\u001b[39m\n\u001b[1;32m   1269\u001b[0m     \u001b[38;5;28;01mraise\u001b[39;00m StdinNotImplementedError(msg)\n\u001b[0;32m-> 1270\u001b[0m \u001b[38;5;28;01mreturn\u001b[39;00m \u001b[38;5;28;43mself\u001b[39;49m\u001b[38;5;241;43m.\u001b[39;49m\u001b[43m_input_request\u001b[49m\u001b[43m(\u001b[49m\n\u001b[1;32m   1271\u001b[0m \u001b[43m    \u001b[49m\u001b[38;5;28;43mstr\u001b[39;49m\u001b[43m(\u001b[49m\u001b[43mprompt\u001b[49m\u001b[43m)\u001b[49m\u001b[43m,\u001b[49m\n\u001b[1;32m   1272\u001b[0m \u001b[43m    \u001b[49m\u001b[38;5;28;43mself\u001b[39;49m\u001b[38;5;241;43m.\u001b[39;49m\u001b[43m_parent_ident\u001b[49m\u001b[43m[\u001b[49m\u001b[38;5;124;43m\"\u001b[39;49m\u001b[38;5;124;43mshell\u001b[39;49m\u001b[38;5;124;43m\"\u001b[39;49m\u001b[43m]\u001b[49m\u001b[43m,\u001b[49m\n\u001b[1;32m   1273\u001b[0m \u001b[43m    \u001b[49m\u001b[38;5;28;43mself\u001b[39;49m\u001b[38;5;241;43m.\u001b[39;49m\u001b[43mget_parent\u001b[49m\u001b[43m(\u001b[49m\u001b[38;5;124;43m\"\u001b[39;49m\u001b[38;5;124;43mshell\u001b[39;49m\u001b[38;5;124;43m\"\u001b[39;49m\u001b[43m)\u001b[49m\u001b[43m,\u001b[49m\n\u001b[1;32m   1274\u001b[0m \u001b[43m    \u001b[49m\u001b[43mpassword\u001b[49m\u001b[38;5;241;43m=\u001b[39;49m\u001b[38;5;28;43;01mFalse\u001b[39;49;00m\u001b[43m,\u001b[49m\n\u001b[1;32m   1275\u001b[0m \u001b[43m\u001b[49m\u001b[43m)\u001b[49m\n",
      "File \u001b[0;32m~/Desktop/Diploma/air_objects_identification/venv/lib/python3.9/site-packages/ipykernel/kernelbase.py:1313\u001b[0m, in \u001b[0;36mKernel._input_request\u001b[0;34m(self, prompt, ident, parent, password)\u001b[0m\n\u001b[1;32m   1310\u001b[0m \u001b[38;5;28;01mexcept\u001b[39;00m \u001b[38;5;167;01mKeyboardInterrupt\u001b[39;00m:\n\u001b[1;32m   1311\u001b[0m     \u001b[38;5;66;03m# re-raise KeyboardInterrupt, to truncate traceback\u001b[39;00m\n\u001b[1;32m   1312\u001b[0m     msg \u001b[38;5;241m=\u001b[39m \u001b[38;5;124m\"\u001b[39m\u001b[38;5;124mInterrupted by user\u001b[39m\u001b[38;5;124m\"\u001b[39m\n\u001b[0;32m-> 1313\u001b[0m     \u001b[38;5;28;01mraise\u001b[39;00m \u001b[38;5;167;01mKeyboardInterrupt\u001b[39;00m(msg) \u001b[38;5;28;01mfrom\u001b[39;00m \u001b[38;5;28;01mNone\u001b[39;00m\n\u001b[1;32m   1314\u001b[0m \u001b[38;5;28;01mexcept\u001b[39;00m \u001b[38;5;167;01mException\u001b[39;00m:\n\u001b[1;32m   1315\u001b[0m     \u001b[38;5;28mself\u001b[39m\u001b[38;5;241m.\u001b[39mlog\u001b[38;5;241m.\u001b[39mwarning(\u001b[38;5;124m\"\u001b[39m\u001b[38;5;124mInvalid Message:\u001b[39m\u001b[38;5;124m\"\u001b[39m, exc_info\u001b[38;5;241m=\u001b[39m\u001b[38;5;28;01mTrue\u001b[39;00m)\n",
      "\u001b[0;31mKeyboardInterrupt\u001b[0m: Interrupted by user"
     ]
    }
   ],
   "source": [
    "if debug:\n",
    "    for i, (x_1, x_2, y) in enumerate(debug_dataloader):\n",
    "        with torch.inference_mode():\n",
    "            out_1, out_2 = model(x_1, x_2)\n",
    "        \n",
    "            dist = torch.nn.functional.pairwise_distance(out_1, out_2, keepdim=True)\n",
    "\n",
    "            loss = criterion(out_1, out_2, y)\n",
    "\n",
    "            print('x_1:')\n",
    "            print(x_1)\n",
    "            print('x_2:')\n",
    "            print(x_2)\n",
    "            print(f'Actual: {y.item()}')\n",
    "            print(f'out_1 = {out_1}')\n",
    "            print(f'out_2 = {out_2}')\n",
    "            print(f'd(out_1, out_2) = {dist.item()}')\n",
    "            print(f'loss = {loss.item()}')\n",
    "        \n",
    "            _ = input()"
   ]
  },
  {
   "cell_type": "code",
   "execution_count": null,
   "id": "7801c713-cf3f-4496-b5a9-22004135367d",
   "metadata": {},
   "outputs": [],
   "source": []
  }
 ],
 "metadata": {
  "kernelspec": {
   "display_name": "Python 3 (ipykernel)",
   "language": "python",
   "name": "python3"
  },
  "language_info": {
   "codemirror_mode": {
    "name": "ipython",
    "version": 3
   },
   "file_extension": ".py",
   "mimetype": "text/x-python",
   "name": "python",
   "nbconvert_exporter": "python",
   "pygments_lexer": "ipython3",
   "version": "3.9.6"
  }
 },
 "nbformat": 4,
 "nbformat_minor": 5
}
