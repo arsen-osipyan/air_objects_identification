{
 "cells": [
  {
   "cell_type": "code",
   "execution_count": 1,
   "id": "f319ddf3-a348-4ce8-8549-ec3bc7a2db80",
   "metadata": {},
   "outputs": [],
   "source": [
    "import datetime\n",
    "import numpy as np\n",
    "import pandas as pd\n",
    "import matplotlib.pyplot as plt\n",
    "\n",
    "import torch\n",
    "\n",
    "from tqdm.notebook import tqdm, trange\n",
    "\n",
    "%matplotlib inline"
   ]
  },
  {
   "cell_type": "markdown",
   "id": "08eff70c-b6ed-44f2-a37f-c5440a968b46",
   "metadata": {},
   "source": [
    "## Конфигурация"
   ]
  },
  {
   "cell_type": "code",
   "execution_count": 2,
   "id": "60c00198-3274-423d-93d9-e8a164f7a1e1",
   "metadata": {},
   "outputs": [],
   "source": [
    "config = dict(\n",
    "    n_epochs=5000,\n",
    "    batch_size=128,\n",
    "    learning_rate=0.0005\n",
    ")"
   ]
  },
  {
   "cell_type": "markdown",
   "id": "946fdfff-2d6b-4cc6-8b62-66b5a730b4d1",
   "metadata": {},
   "source": [
    "## Dataset"
   ]
  },
  {
   "cell_type": "code",
   "execution_count": 3,
   "id": "80049071-1bd4-45e9-8b6b-5d46f258e16f",
   "metadata": {},
   "outputs": [],
   "source": [
    "class SiameseDataset(torch.utils.data.Dataset):\n",
    "\n",
    "    def __init__(self, path, x_file='x.pt', y_file='y.pt'):\n",
    "        self.x = torch.load(path + '/' + x_file)\n",
    "        self.y = torch.load(path + '/' + y_file)\n",
    "        \n",
    "        if self.x.shape[0] != self.y.shape[0]:\n",
    "            raise RuntimeError(f'Tensors X and Y must have the same number of items.')\n",
    "\n",
    "    def __len__(self):\n",
    "        return self.x.shape[0]\n",
    "\n",
    "    def __getitem__(self, idx):\n",
    "        return self.x[idx][0], self.x[idx][1], self.y[idx]"
   ]
  },
  {
   "cell_type": "markdown",
   "id": "14dfbd8f-c589-45dd-b9e8-22345236bee8",
   "metadata": {},
   "source": [
    "## Нейронная сеть"
   ]
  },
  {
   "cell_type": "code",
   "execution_count": 4,
   "id": "dc55408f-92bd-4484-8053-431d36b8b34d",
   "metadata": {},
   "outputs": [],
   "source": [
    "class SiameseNetwork(torch.nn.Module):\n",
    "\n",
    "    def __init__(self):\n",
    "        super(SiameseNetwork, self).__init__()\n",
    "        \n",
    "        self.cnn = torch.nn.Sequential(\n",
    "            torch.nn.Conv1d(in_channels=4, out_channels=8, kernel_size=3)\n",
    "        )\n",
    "        \n",
    "        self.fc = torch.nn.Sequential(\n",
    "            torch.nn.Linear(8*30, 8),\n",
    "            torch.nn.ReLU()\n",
    "        )\n",
    "\n",
    "    def forward_once(self, x):\n",
    "        out = self.cnn(x)\n",
    "        out = out.view(out.size(0), -1)\n",
    "        out = self.fc(out)\n",
    "        return out\n",
    "\n",
    "    def forward(self, x_1, x_2):\n",
    "        out_1 = self.forward_once(x_1)\n",
    "        out_2 = self.forward_once(x_2)\n",
    "\n",
    "        return out_1, out_2"
   ]
  },
  {
   "cell_type": "markdown",
   "id": "7b27b0df-018e-43cb-a587-0eb0276c3b35",
   "metadata": {},
   "source": [
    "## Контрастная функция потерь"
   ]
  },
  {
   "cell_type": "code",
   "execution_count": 5,
   "id": "256250ce-5e1f-41c2-a18e-f9aadddd906c",
   "metadata": {},
   "outputs": [],
   "source": [
    "class ContrastiveLoss(torch.nn.Module):\n",
    "    \n",
    "    def __init__(self, margin=2.0):\n",
    "        super(ContrastiveLoss, self).__init__()\n",
    "        self.margin = margin\n",
    "\n",
    "    def forward(self, out_1, out_2, y):\n",
    "        euclidean_distance = torch.nn.functional.pairwise_distance(out_1, out_2, keepdim = True)\n",
    "        \n",
    "        loss_contrastive = torch.mean((1 - y) * torch.pow(euclidean_distance, 2) +\n",
    "                                      (y) * torch.pow(torch.clamp(self.margin - euclidean_distance, min=0.0), 2))\n",
    "        \n",
    "        return loss_contrastive"
   ]
  },
  {
   "cell_type": "markdown",
   "id": "8ed8ee53-632e-4471-8049-d07ab13fa7c9",
   "metadata": {},
   "source": [
    "## Обучение нейросети"
   ]
  },
  {
   "cell_type": "markdown",
   "id": "06368613-8786-444a-8ac6-aaf626b62a5a",
   "metadata": {},
   "source": [
    "#### Подготовка Dataset и DataLoader"
   ]
  },
  {
   "cell_type": "code",
   "execution_count": 6,
   "id": "e2273bce-c226-410f-81cb-d22af5b2ed24",
   "metadata": {},
   "outputs": [],
   "source": [
    "train_dataset = SiameseDataset(path='siamese_data/train')"
   ]
  },
  {
   "cell_type": "code",
   "execution_count": 7,
   "id": "651b3b25-595b-4f9e-b8f5-b84916ae5e15",
   "metadata": {},
   "outputs": [],
   "source": [
    "train_dataloader = torch.utils.data.DataLoader(dataset=train_dataset,\n",
    "                                               shuffle=True,\n",
    "                                               batch_size=config['batch_size'])"
   ]
  },
  {
   "cell_type": "markdown",
   "id": "01a27d02-6a53-4a6e-98e0-9f15dcee238e",
   "metadata": {},
   "source": [
    "#### Обучение"
   ]
  },
  {
   "cell_type": "code",
   "execution_count": 8,
   "id": "05a05579-68be-41ff-a0ee-bca24ce36286",
   "metadata": {},
   "outputs": [],
   "source": [
    "model = SiameseNetwork()\n",
    "criterion = ContrastiveLoss()\n",
    "optimizer = torch.optim.Adam(model.parameters(), lr=config['learning_rate'])"
   ]
  },
  {
   "cell_type": "code",
   "execution_count": 9,
   "id": "549fb8a9-af2a-4de6-b569-ba2375c0388b",
   "metadata": {},
   "outputs": [
    {
     "data": {
      "application/vnd.jupyter.widget-view+json": {
       "model_id": "00041b120c7a47b5b91479d8f7b90bba",
       "version_major": 2,
       "version_minor": 0
      },
      "text/plain": [
       "  0%|          | 0/5000 [00:00<?, ?it/s]"
      ]
     },
     "metadata": {},
     "output_type": "display_data"
    }
   ],
   "source": [
    "loss_history = []\n",
    "lr_history = []\n",
    "\n",
    "epoch_progress = trange(config['n_epochs'])\n",
    "for epoch in epoch_progress:\n",
    "    epoch_progress.set_description(f'Epoch {epoch + 1}')\n",
    "\n",
    "    for i, (x_1, x_2, y) in enumerate(train_dataloader):\n",
    "        out_1, out_2 = model(x_1, x_2)\n",
    "\n",
    "        loss = criterion(out_1, out_2, y)\n",
    "\n",
    "        loss.backward()\n",
    "        optimizer.step()\n",
    "        optimizer.zero_grad()\n",
    "\n",
    "        lr_history.append(optimizer.param_groups[0]['lr'])\n",
    "        loss_history.append(loss.item())\n",
    "        \n",
    "        epoch_progress.set_postfix({'loss': loss.item()})\n",
    "\n",
    "    if epoch % 1500 == 0 and epoch > 0:\n",
    "        optimizer.param_groups[0]['lr'] *= 0.1"
   ]
  },
  {
   "cell_type": "code",
   "execution_count": 10,
   "id": "12108899-b04a-4504-8fea-12f0ed5852e8",
   "metadata": {},
   "outputs": [
    {
     "data": {
      "text/plain": [
       "[<matplotlib.lines.Line2D at 0x14f87c640>]"
      ]
     },
     "execution_count": 10,
     "metadata": {},
     "output_type": "execute_result"
    },
    {
     "data": {
      "image/png": "[encoded data removed]",
      "text/plain": [
       "<Figure size 1200x600 with 2 Axes>"
      ]
     },
     "metadata": {},
     "output_type": "display_data"
    }
   ],
   "source": [
    "fig, axis = plt.subplots(1, 2, figsize=(12, 6))\n",
    "\n",
    "# Loss plot\n",
    "axis[0].set_title('Loss')\n",
    "axis[0].set_xlabel('Epoch')\n",
    "axis[0].set_ylabel('Loss')\n",
    "axis[0].semilogy()\n",
    "axis[0].grid()\n",
    "axis[0].plot(loss_history)\n",
    "\n",
    "# Learning rate plot\n",
    "axis[1].set_title('Learning rate')\n",
    "axis[1].set_xlabel('Epoch')\n",
    "axis[1].set_ylabel('Learning rate')\n",
    "axis[1].grid()\n",
    "axis[1].plot(lr_history)"
   ]
  },
  {
   "cell_type": "markdown",
   "id": "f688dd2b-644f-4ecb-8ee6-bc69d2326e44",
   "metadata": {},
   "source": [
    "## Тестирование нейросети"
   ]
  },
  {
   "cell_type": "markdown",
   "id": "c53b518d-2d43-40ae-952b-5f130a4f1112",
   "metadata": {},
   "source": [
    "#### Подготовка Dataset и DataLoader для тестирования"
   ]
  },
  {
   "cell_type": "code",
   "execution_count": 11,
   "id": "565dc1f1-7631-49d5-96eb-dce8a4a26b94",
   "metadata": {},
   "outputs": [],
   "source": [
    "# test_dataset = SiameseDataset(path='siamese_data/test')\n",
    "\n",
    "# Заглушка\n",
    "test_dataset = SiameseDataset(path='siamese_data/train')"
   ]
  },
  {
   "cell_type": "code",
   "execution_count": 12,
   "id": "2a6375be-cdd7-40c2-9b56-8c4a27e32548",
   "metadata": {},
   "outputs": [],
   "source": [
    "test_dataloader = torch.utils.data.DataLoader(dataset=test_dataset,\n",
    "                                              batch_size=config['batch_size'])"
   ]
  },
  {
   "cell_type": "markdown",
   "id": "631b31eb-d9e7-422c-8f42-1d5fecf9d408",
   "metadata": {},
   "source": [
    "#### Расчет метрик"
   ]
  },
  {
   "cell_type": "code",
   "execution_count": 13,
   "id": "4908f317-f501-4560-b7d3-0a0bb7762b0a",
   "metadata": {},
   "outputs": [
    {
     "name": "stdout",
     "output_type": "stream",
     "text": [
      "Loss on test = 7.99999910067184e-12\n"
     ]
    }
   ],
   "source": [
    "losses = []\n",
    "\n",
    "for i, (x_1, x_2, y) in enumerate(test_dataloader):\n",
    "    with torch.inference_mode():\n",
    "        out_1, out_2 = model(x_1, x_2)\n",
    "        \n",
    "        loss = criterion(out_1, out_2, y)\n",
    "        \n",
    "        losses.append(loss.item())\n",
    "\n",
    "print(f'Loss on test = {np.mean(losses)}')"
   ]
  },
  {
   "cell_type": "code",
   "execution_count": null,
   "id": "d9e2a0a3-4399-4ea9-b145-f4cb25292dbd",
   "metadata": {},
   "outputs": [],
   "source": []
  }
 ],
 "metadata": {
  "kernelspec": {
   "display_name": "Python 3 (ipykernel)",
   "language": "python",
   "name": "python3"
  },
  "language_info": {
   "codemirror_mode": {
    "name": "ipython",
    "version": 3
   },
   "file_extension": ".py",
   "mimetype": "text/x-python",
   "name": "python",
   "nbconvert_exporter": "python",
   "pygments_lexer": "ipython3",
   "version": "3.9.6"
  }
 },
 "nbformat": 4,
 "nbformat_minor": 5
}
